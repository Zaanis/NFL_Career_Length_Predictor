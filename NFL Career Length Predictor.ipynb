{
 "cells": [
  {
   "cell_type": "markdown",
   "metadata": {
    "id": "l-ICYefkzbLy"
   },
   "source": [
    "# Predicting NFL PLayers' Career Length\n",
    "\n",
    "\n"
   ]
  },
  {
   "cell_type": "markdown",
   "metadata": {
    "id": "AKdGPN1UR2Rl"
   },
   "source": [
    "# Overview"
   ]
  },
  {
   "cell_type": "markdown",
   "metadata": {
    "id": "3zIrZq6sR2_p"
   },
   "source": [
    "This project will analyze data containing NFL player's draft data and other factors in hopes of creating a machine learning model that will successfully predict a player's career length. With this data, I also performed a t test to see if 1-2 round draft picks also have a higher career length than 3-5 round picks and 6-7 round picks + undrafted players. These results indicated that 1-2 round draft picks do indeed have a higher career length. However, I was unable to fine tune a model that accurately predicts career length. Future studies should also factor in college data, which this project was unable to do due to the complexities and challenges associated with accessing and integrating college data."
   ]
  },
  {
   "cell_type": "markdown",
   "metadata": {
    "id": "TTrrRNG_zl-J"
   },
   "source": [
    "# Research Question"
   ]
  },
  {
   "cell_type": "markdown",
   "metadata": {
    "id": "Rjkvy9MgzmDw"
   },
   "source": [
    "Is there a correlation between draft combine performance and player career length? Which feature seems to be the most important? The combine consists of various fitness tests to evaluate a player’s potential in football, and career lengths are measured in season. We aim to build a predictive model that can accurately predict a player's career length based on a player's draft combine result and other factors such as pick number, height, weight, etc. \n",
    "\n",
    "Furthermore, I aim to test whether 1-2 round picks actually have a longer career length than 3-7 round picks and undrafted players.\n",
    " "
   ]
  },
  {
   "cell_type": "markdown",
   "metadata": {
    "id": "A2wJKfe1R8PN"
   },
   "source": [
    "# Background & Prior Work"
   ]
  },
  {
   "cell_type": "markdown",
   "metadata": {
    "id": "4ARgyFyeSKBP"
   },
   "source": [
    "The National Football League (NFL) is the premier American football league that is currently composed of 32 teams. The NFL is a highly competitive league where players are constantly being evaluated and compared to their peers. One key component of player evaluation begins with the NFL draft, in which college players are selected by NFL teams. NFL teams spend upwards of 2-3 million dollars each year to scout players in hopes of finding the best player that will be a valuable asset in reaching success for their team<a name=\"cite_ref-1\"></a>[<sup>[1]</sup>](#cite_note-1).\n",
    "\n",
    "Prior to the NFL draft is a 4-day event in which the most eligible 300 college players are invited to be evaluated on “a variety of medical, mental, and physical criteria,” known as the NFL Scouting Combine<a name=\"cite_ref-2\"></a>[<sup>[2]</sup>](#cite_note-2). There is evidence to suggest that a player’s draft position and combine performance may be related to their success and career length in the NFL. In this project, we aim to investigate this relationship, along with several other factors that contribute to this, such as position and body measurements.\n",
    "\n",
    "Several studies have been conducted to investigate the relationship between NFL draft number and career length. One such study found that players who were drafted in the first round had a significantly longer career length than players drafted in later rounds<a name=\"cite_ref-3\"></a>[<sup>[3]</sup>](#cite_note-3). Likewise, other studies have demonstrated that the majority of athletes with the most earnings were drafted in the first three rounds<a name=\"cite_ref-4\"></a>[<sup>[4]</sup>](#cite_note-4). Another study found that players who were drafted in the top 10 picks had a longer career length than players who were drafted later in the first round<a name=\"cite_ref-5\"></a>[<sup>[5]</sup>](#cite_note-5).\n",
    "\n",
    "In addition, combine performance has also been shown to be related to draft number. According to an article by analyst Adam Hulse<a name=\"cite_ref-6\"></a>[<sup>[6]</sup>](#cite_note-6), performing well on the combine can put themselves on the scout’s radar and improve their chances of getting drafted higher. \n",
    "\n",
    "Players’ career lengths also vary greatly by position<a name=\"cite_ref-7\"></a>[<sup>[7]</sup>](#cite_note-7). Therefore, we will aggregate the data by position and check for which combine tests affect each position the most too.\n",
    "\n",
    "However, when it comes to draft combine performance and career length, there is a gap in knowledge in this area. While one study found certain combine drills correlated with longer NFL careers for defensive players<a name=\"cite_ref-8\"></a>[<sup>[8]</sup>](#cite_note-8), we could not find studies conducted on all players of different positions, which is what this project aims to look into.\n",
    "\n",
    "In conclusion, this project aims to investigate the relationship between draft position + combine performance and career length. These findings will have implications for NFL teams in their scouting, evaluation, and draft strategies. By identifying the factors that contribute to NFL career length, teams can make more informed decisions in the draft and increase their chances of drafting a successful player. \n",
    "\n",
    "<a name=\"cite_note-1\"></a>[<sub>1.</sub>](#cite_ref-1) <sub>Sutton. (2016, March 20). *NFL teams spend WTF on scouting?* The Phinsider. Retrieved May 3, 2023, from https://www.thephinsider.com/2016/3/19/11263862/nfl-teams-spend-wtf-on-scouting/</sub>\\\n",
    "<a name=\"cite_note-2\"></a>[<sub>2.</sub>](#cite_ref-2) <sub>NFL *Scouting combine*. NFL Football Operations. (n.d.). Retrieved May 3, 2023, from https://operations.nfl.com/journey-to-the-nfl/the-next-generation-of-nfl-stars/nfl-scouting-combine/</sub>\\\n",
    "<a name=\"cite_note-3\"></a>[<sub>3.</sub>](#cite_ref-3) <sub>Wittry, A. (2022, April 22). *How many career games NFL draft picks play, on average, by position.* NCAA.com. Retrieved May 3, 2023, from https://www.ncaa.com/news/football/article/2022-04-21/nfl-draft-picks-career-games-played-average-position/</sub>\\\n",
    "<a name=\"cite_note-4\"></a>[<sub>4.</sub>](#cite_ref-4) <sub>Daniel, J. (2019, April 22). *NFL draft: Does draft round affect players' career earning potential?* Medium. Retrieved May 3, 2023, from https://medium.com/@jeff.daniel77/nfl-draft-does-draft-round-affect-players-career-earning-potential-5921140c8ef/</sub>\\\n",
    "<a name=\"cite_note-5\"></a>[<sub>5.</sub>](#cite_ref-5) <sub>Miklius, M. (2020). *NFL draft prep: How successful are first round picks?* QB List. Retrieved May 3, 2023, from https://football.pitcherlist.com/pessimists-guide-to-the-nfl-draft/</sub>\\\n",
    "<a name=\"cite_note-6\"></a>[<sub>6.</sub>](#cite_ref-6) <sub>Hulse, A. (2022, April 19). *How much does a draft Prospect's NFL combine performance matter?* Sports news. Retrieved May 3, 2023, from https://www.sportskeeda.com/nfl/how-much-draft-prospect-s-nfl-combine-performance-matter/</sub>\\\n",
    "<a name=\"cite_note-7\"></a>[<sub>7.</sub>](#cite_ref-7) <sub>Nguyen, G. (2022, August 17). *What is the average length of an NFL career, by position?* The Sports Daily. Retrieved May 3, 2023, from https://thesportsdaily.com/news/what-is-the-average-length-of-an-nfl-career-by-position/\"</sub>\\\n",
    "<a name=\"cite_note-8\"></a>[<sub>8.</sub>](#cite_ref-8) <sub>Pollock, J. R., et al. (2021, August 10). *Can NFL combine results be used to estimate NFL defensive players longevity?* Sports medicine international open. Retrieved May 3, 2023, from https://www.ncbi.nlm.nih.gov/pmc/articles/PMC8354768/\"</sub>"
   ]
  },
  {
   "cell_type": "markdown",
   "metadata": {
    "id": "Rn6Xh-_FSAs_"
   },
   "source": [
    "# Hypothesis"
   ]
  },
  {
   "cell_type": "markdown",
   "metadata": {
    "id": "9Zuw1LmwSU9U"
   },
   "source": [
    "Better performance in draft combine predicts a longer career length.\n",
    "We expect that better performance in the NFL draft combine would result in a longer career length because performing well on the combine indicated better overall fitness to NFL teams, which could translate into improved physical abilities, such as speed, strength, and agility, that are essential for success in the highly competitive and physically demanding sport of football. In addition, players who perform well at the combine may also demonstrate a strong work ethic and a commitment to fitness and training, which can contribute to their longevity and success in the NFL.\n",
    "\n",
    "We also expect 1-2 round picks to have a higher career length than 3-7 round picks and undrafted players."
   ]
  },
  {
   "cell_type": "markdown",
   "metadata": {
    "id": "SLoWpQjczmHl"
   },
   "source": [
    "# Datasets"
   ]
  },
  {
   "cell_type": "markdown",
   "metadata": {
    "id": "zoNjuQJ0zmKV"
   },
   "source": [
    "For NFL combine results, we will be using data from nflcombineresults.\n",
    "The link for 1987 is https://nflcombineresults.com/nflcombinedata.php?year=1987&pos=RB&college=. To get different years, simply change the year number in the link. For this project, we will be using data from 1987 - 2022.\n",
    "\n",
    "Number of observations: depending on the year, each year have different amount of observations, but they range from about 150-300 each year for a total of 35 years.\n",
    "\n",
    "To get the years of experience, we will be merging the nflcombineresults with the profootball reference NFL draft data each year, which documents every player drafted in the nfl draft each year. There is a column that specify the year they started playing and their last year they played, subtracting them gives us their career length.\n",
    "\n",
    "The link to the data is https://www.pro-football-reference.com/years/1987/draft.htm. To get different years, change the year number in the link.\n",
    "\n",
    "Number of observations: depending on the year, each year have different amount of players drafted so different number of observations, but in general there should be about 240-270 players drafted each year for a total of 35 years.\n",
    "Note: We will be merging this with the nflcombineresults data so not all players will be in the final data\n",
    "\n",
    "Doing the above only gives us year of experience for drafted players. A lot of the combine attendees went undrafted. To get their years of experience, we will scrape the nfl.com website. The link is https://www.nfl.com/players/(example-name). To get the data for each individual player, change the example-name to their first and last name with a '-' connecting them.\n",
    "\n",
    "Number of observations: Depending on how many players that went to the combine and went undrafted but still played in the NFL, will vary each year\n",
    "\n"
   ]
  },
  {
   "cell_type": "markdown",
   "metadata": {
    "id": "fqnXCUnJz-no"
   },
   "source": [
    "# Setup and Data Cleaning\n",
    "\n"
   ]
  },
  {
   "cell_type": "markdown",
   "metadata": {
    "id": "AoLEWAcf0Bp4"
   },
   "source": [
    "For the complete data scraping process, please see the data scraper notebook."
   ]
  },
  {
   "cell_type": "markdown",
   "metadata": {},
   "source": [
    "Here are the functions that were used to scrape the data:"
   ]
  },
  {
   "cell_type": "code",
   "execution_count": 5,
   "metadata": {},
   "outputs": [],
   "source": [
    "import numpy as np\n",
    "import pandas as pd\n",
    "import requests\n",
    "from bs4 import BeautifulSoup\n",
    "from urllib.request import Request, urlopen"
   ]
  },
  {
   "cell_type": "code",
   "execution_count": 14,
   "metadata": {},
   "outputs": [],
   "source": [
    "# Helper functions\n",
    "# remove_hof removes the hof in player names\n",
    "def remove_hof(x): \n",
    "    if type(x) == str:\n",
    "     return x.replace(' HOF', '')"
   ]
  },
  {
   "cell_type": "code",
   "execution_count": 15,
   "metadata": {},
   "outputs": [],
   "source": [
    "# Function to get data for each year\n",
    "def get_data(year):\n",
    "  url = \"https://nflcombineresults.com/nflcombinedata.php?year={}&pos=&college=\".format(year)\n",
    "  response = requests.get(url)\n",
    "  soup = BeautifulSoup(response.content, 'html.parser')\n",
    "  table = soup.find('table')\n",
    "  row_headers = []\n",
    "  for x in table.find_all('tr', class_ = 'headerfont'):\n",
    "    for y in x.find_all('td'):\n",
    "      row_headers.append(y.text)\n",
    "  row_headers\n",
    "  content = []\n",
    "  for x in table.find_all('tr', class_ = 'tablefont'):\n",
    "    player = []\n",
    "    for y in x.find_all('td'):\n",
    "      player.append(y.text)\n",
    "    content.append(player)\n",
    "  df = pd.DataFrame(content, columns = row_headers)\n",
    "  df.drop(columns = 'Year', inplace = True)\n",
    "  \n",
    "  # get_exp gets the years of experience for each player, pro football refernece listed the year the player played too, subtracting that value by the year he was drafted gets you the years of experience \n",
    "\n",
    "  def get_exp(x):\n",
    "    try:\n",
    "      return int(x)- year + 1 # modified to get the experience accoridng to year... missed this on the first run... ran 3 hours to realize the years of experience were all off...\n",
    "    except: #Some players get drafted but do not play a single game, so the To field is empty\n",
    "      pass\n",
    "  \n",
    "  url = \"https://www.pro-football-reference.com/years/{}/draft.htm\".format(year)\n",
    "  response = requests.get(url)\n",
    "  soup = BeautifulSoup(response.content, 'html.parser')\n",
    "  table = soup.find('table')\n",
    "  t = table.find('tbody')\n",
    "  content = []\n",
    "  for x in t.find_all('tr'):\n",
    "    player = []\n",
    "    for y in x.find_all('td'):\n",
    "      player.append(y.text)\n",
    "    content.append(player)\n",
    "  row = ['Pick', 'Team', 'Player', 'Pos', 'Age', 'To', 'AP1', 'PB', 'St', 'wAV', 'DrAV', 'G', 'PCmp', 'PAtt', 'PYds', 'PTD', 'PInt', 'RAtt', 'RYds', 'RTd', 'ReRec', 'ReYds', 'ReTD','Solo', 'Int', 'Sk', 'College', 'stat']\n",
    "  row2 = ['Pick', 'Team', 'Player', 'Pos', 'Age', 'To', 'AP1', 'PB', 'St', 'wAV', 'DrAV', 'G', 'PCmp', 'PAtt', 'PYds', 'PTD', 'PInt', 'RAtt', 'RYds', 'RTd', 'ReRec', 'ReYds', 'ReTD','Int', 'Sk', 'College', 'stat']\n",
    "  try:  #try except block for which row header is to be used\n",
    "    df2 = pd.DataFrame(content, columns = row)\n",
    "  except:\n",
    "    df2 = pd.DataFrame(content, columns = row2)\n",
    "  df2['Player'] = df2['Player'].apply(remove_hof)\n",
    "  df3 = df2.merge(df, left_on = 'Player', right_on = 'Name')\n",
    "  df3['To'] = df3['To'].apply(get_exp)\n",
    "  df3 = df3[['Player', 'College_x', 'POS', 'Height (in)', 'Weight (lbs)', 'Wonderlic', '40 Yard', 'Bench Press', 'Vert Leap (in)' ,'Broad Jump (in)', 'Shuttle', '3Cone', 'To', 'Age','Pick','Team']] #Keeping the columns that we need\n",
    "  \n",
    "  # scraping for players that were not drafted but still had combine data from the nfl.com/players website\n",
    "  for i in df['Name']:\n",
    "    if i not in list(df3['Player']):\n",
    "      name = i\n",
    "      c = -1\n",
    "      if 'Jr.' in name:\n",
    "        name2 = name.replace('.', '')\n",
    "        splited = name2.split(' ')\n",
    "        player = '-'.join(splited)\n",
    "        player = player.replace('\\'', '-')\n",
    "      elif '.' in name:\n",
    "        name2 = name.replace('.', '-', name.count('.') - 1)\n",
    "        name2 = name2.replace('.', '')\n",
    "        splited = name2.split(' ')\n",
    "        player = '-'.join(splited)\n",
    "        player = player.replace('\\'', '-')\n",
    "      else:\n",
    "        splited = name.split(' ')\n",
    "        player = '-'.join(splited)\n",
    "        player = player.replace('\\'', '-')\n",
    "      url = \"https://www.nfl.com/players/{}/\".format(player)\n",
    "      page = requests.get(url)\n",
    "      soup = BeautifulSoup(page.content, 'html.parser')\n",
    "      lists = soup.find_all('ul', class_ = 'd3-o-list nfl-c-player-info__career-data')\n",
    "      for l in lists:\n",
    "        c = l.find('div', class_ = 'nfl-c-player-info__value').text\n",
    "      if c == -1 or int(c) > 2023 - year:\n",
    "        pass\n",
    "      else:\n",
    "        row_index = df.index[df['Name'] == name].tolist()[0]\n",
    "        row = df.iloc[row_index]\n",
    "        x = list(row)\n",
    "        x.append(c) #set years of experience to what we scraped\n",
    "        x.append(np.nan) #set age of combine to nan becuase data not available\n",
    "        x.append(0) #set pick number to 0\n",
    "        x.append('Undrafted') #set team to undrafted\n",
    "        y = dict(zip(df3.columns, x))\n",
    "        df3 = df3.append(y, ignore_index=True)\n",
    "  return df3"
   ]
  },
  {
   "cell_type": "markdown",
   "metadata": {},
   "source": [
    "Note 1: You'll have to run this function for each year from 1987-2022, which will give you 36 dataframes of the same column size; after concatenating them all you'll get the final dataset that we're using in this project.\n",
    "\n",
    "Note 2: The data scraping process takes about 5 minutes for each year, and the process took a long time and takes up a lot of space. For simplicity, we will not be re-scraping the code here; for the whole process, please see the data checkpoint linked above."
   ]
  },
  {
   "cell_type": "code",
   "execution_count": 16,
   "metadata": {},
   "outputs": [],
   "source": [
    "# Fucntion to get the name of all active players\n",
    "def getname(x): #Change name format on website to match the name format in the dataframe\n",
    "  name = x.split(', ')\n",
    "  return name[1] +' ' + name[0]"
   ]
  },
  {
   "cell_type": "code",
   "execution_count": 17,
   "metadata": {},
   "outputs": [],
   "source": [
    "# Getting all active player names\n",
    "alpha = ['a', 'b', 'c', 'd', 'e', 'f', 'g', 'h', 'i', 'j', 'k', 'l', 'm', 'n', 'o', 'p', 'q', 'r', 's', 't', 'u', 'v', 'w', 'x', 'y', 'z']\n",
    "names = [] #Setting empty list to store names of all active players\n",
    "for letter in alpha:\n",
    "  url = \"https://www.footballdb.com/players/current.html?letter={}\".format(letter)\n",
    "  hdr = {'User-Agent': 'Mozilla/5.0 (X11; Linux x86_64) AppleWebKit/537.11 (KHTML, like Gecko) Chrome/23.0.1271.64 Safari/537.11',\n",
    "        'Accept': 'text/html,application/xhtml+xml,application/xml;q=0.9,*/*;q=0.8',\n",
    "        'Accept-Charset': 'ISO-8859-1,utf-8;q=0.7,*;q=0.3',\n",
    "        'Accept-Encoding': 'none',\n",
    "        'Accept-Language': 'en-US,en;q=0.8',\n",
    "        'Connection': 'keep-alive'} #without this it beautiful soup won't allow me to scrape data, code from stackoverflow\n",
    "  req = Request(url , headers=hdr)\n",
    "  webpage = urlopen(req).read()\n",
    "  soup = BeautifulSoup(webpage, \"html.parser\")\n",
    "  lists = soup.find_all('div', class_ = 'tr')\n",
    "  for l in lists:\n",
    "    name = l.find('div', class_ = \"td\").text\n",
    "    names.append(name)\n",
    "final_name = [getname(x) for x in names] #Changing the name in the list to the format that matches on dataframe"
   ]
  },
  {
   "cell_type": "code",
   "execution_count": 18,
   "metadata": {},
   "outputs": [
    {
     "data": {
      "text/plain": [
       "2884"
      ]
     },
     "execution_count": 18,
     "metadata": {},
     "output_type": "execute_result"
    }
   ],
   "source": [
    "len(final_name)"
   ]
  },
  {
   "cell_type": "markdown",
   "metadata": {},
   "source": [
    "Then, you'll have to filter out all the active players in the dataframe. Assume 'df' is the initial dataframe we have after the webscraping process, where the dataframe contains all players, active and retired."
   ]
  },
  {
   "cell_type": "code",
   "execution_count": 20,
   "metadata": {},
   "outputs": [],
   "source": [
    "# Code that filters out active player\n",
    "filtered = df[~df['Player'].isin(final_name)]"
   ]
  },
  {
   "cell_type": "markdown",
   "metadata": {},
   "source": [
    "Some players appear to have 0 years of experience. This is possible since NFL track players that are on practice squad but never played in any official games, hence 0 years of experience. We also removed these players from the dataframe:"
   ]
  },
  {
   "cell_type": "code",
   "execution_count": 23,
   "metadata": {},
   "outputs": [],
   "source": [
    "# Code that further filtered out 0 years of experience\n",
    "filtered = filtered[filtered['To'] != 0]"
   ]
  },
  {
   "cell_type": "markdown",
   "metadata": {
    "id": "xkIwKLtl0akU"
   },
   "source": [
    "We now read the csv file into a pandas dataframe:"
   ]
  },
  {
   "cell_type": "code",
   "execution_count": 1,
   "metadata": {
    "id": "8256W3Mb0efK"
   },
   "outputs": [],
   "source": [
    "import pandas as pd\n",
    "import numpy as np\n",
    "import matplotlib.pyplot as plt\n",
    "import seaborn as sns"
   ]
  },
  {
   "cell_type": "code",
   "execution_count": 2,
   "metadata": {
    "id": "3LF_6aLv0VN3"
   },
   "outputs": [],
   "source": [
    "df = pd.read_csv('https://raw.githubusercontent.com/Zaanis/Cogs108-Project/main/1987-2022.csv')"
   ]
  },
  {
   "cell_type": "markdown",
   "metadata": {
    "id": "G9HyOh2triSe"
   },
   "source": [
    "Upon further inspection, we realize that during the checkpoint, we dropped rows where years of experience is 0, but did not drop rows where years of experience is nan, here we drop the rows where the years of experience is nan."
   ]
  },
  {
   "cell_type": "code",
   "execution_count": 3,
   "metadata": {
    "id": "kgS7D_Q502kW"
   },
   "outputs": [],
   "source": [
    "df = df.dropna(subset = 'To')"
   ]
  },
  {
   "cell_type": "code",
   "execution_count": 4,
   "metadata": {
    "colab": {
     "base_uri": "https://localhost:8080/",
     "height": 424
    },
    "id": "e3MmnFNRrtrk",
    "outputId": "7102ff1f-2294-4248-a60e-d51445cd7b11"
   },
   "outputs": [
    {
     "data": {
      "text/html": [
       "<div>\n",
       "<style scoped>\n",
       "    .dataframe tbody tr th:only-of-type {\n",
       "        vertical-align: middle;\n",
       "    }\n",
       "\n",
       "    .dataframe tbody tr th {\n",
       "        vertical-align: top;\n",
       "    }\n",
       "\n",
       "    .dataframe thead th {\n",
       "        text-align: right;\n",
       "    }\n",
       "</style>\n",
       "<table border=\"1\" class=\"dataframe\">\n",
       "  <thead>\n",
       "    <tr style=\"text-align: right;\">\n",
       "      <th></th>\n",
       "      <th>Player</th>\n",
       "      <th>College_x</th>\n",
       "      <th>POS</th>\n",
       "      <th>Height (in)</th>\n",
       "      <th>Weight (lbs)</th>\n",
       "      <th>Wonderlic</th>\n",
       "      <th>40 Yard</th>\n",
       "      <th>Bench Press</th>\n",
       "      <th>Vert Leap (in)</th>\n",
       "      <th>Broad Jump (in)</th>\n",
       "      <th>Shuttle</th>\n",
       "      <th>3Cone</th>\n",
       "      <th>To</th>\n",
       "      <th>Age</th>\n",
       "      <th>Pick</th>\n",
       "      <th>Team</th>\n",
       "    </tr>\n",
       "  </thead>\n",
       "  <tbody>\n",
       "    <tr>\n",
       "      <th>0</th>\n",
       "      <td>Vinny Testaverde</td>\n",
       "      <td>Miami (FL)</td>\n",
       "      <td>QB</td>\n",
       "      <td>76.30</td>\n",
       "      <td>213</td>\n",
       "      <td>NaN</td>\n",
       "      <td>4.75</td>\n",
       "      <td>13.0</td>\n",
       "      <td>NaN</td>\n",
       "      <td>NaN</td>\n",
       "      <td>NaN</td>\n",
       "      <td>NaN</td>\n",
       "      <td>21.0</td>\n",
       "      <td>23.0</td>\n",
       "      <td>1</td>\n",
       "      <td>TAM</td>\n",
       "    </tr>\n",
       "    <tr>\n",
       "      <th>1</th>\n",
       "      <td>Alonzo Highsmith</td>\n",
       "      <td>Miami (FL)</td>\n",
       "      <td>FB</td>\n",
       "      <td>72.90</td>\n",
       "      <td>236</td>\n",
       "      <td>NaN</td>\n",
       "      <td>NaN</td>\n",
       "      <td>27.0</td>\n",
       "      <td>34.0</td>\n",
       "      <td>118.0</td>\n",
       "      <td>NaN</td>\n",
       "      <td>NaN</td>\n",
       "      <td>6.0</td>\n",
       "      <td>22.0</td>\n",
       "      <td>3</td>\n",
       "      <td>HOU</td>\n",
       "    </tr>\n",
       "    <tr>\n",
       "      <th>2</th>\n",
       "      <td>Kelly Stouffer</td>\n",
       "      <td>Colorado St.</td>\n",
       "      <td>QB</td>\n",
       "      <td>75.00</td>\n",
       "      <td>212</td>\n",
       "      <td>NaN</td>\n",
       "      <td>4.95</td>\n",
       "      <td>NaN</td>\n",
       "      <td>28.0</td>\n",
       "      <td>108.0</td>\n",
       "      <td>4.51</td>\n",
       "      <td>NaN</td>\n",
       "      <td>6.0</td>\n",
       "      <td>23.0</td>\n",
       "      <td>6</td>\n",
       "      <td>STL</td>\n",
       "    </tr>\n",
       "    <tr>\n",
       "      <th>3</th>\n",
       "      <td>Reggie Rogers</td>\n",
       "      <td>Washington</td>\n",
       "      <td>DE</td>\n",
       "      <td>78.30</td>\n",
       "      <td>268</td>\n",
       "      <td>NaN</td>\n",
       "      <td>4.76</td>\n",
       "      <td>NaN</td>\n",
       "      <td>29.0</td>\n",
       "      <td>103.0</td>\n",
       "      <td>4.91</td>\n",
       "      <td>NaN</td>\n",
       "      <td>6.0</td>\n",
       "      <td>23.0</td>\n",
       "      <td>7</td>\n",
       "      <td>DET</td>\n",
       "    </tr>\n",
       "    <tr>\n",
       "      <th>4</th>\n",
       "      <td>Jerome Brown</td>\n",
       "      <td>Miami (FL)</td>\n",
       "      <td>DT</td>\n",
       "      <td>74.30</td>\n",
       "      <td>292</td>\n",
       "      <td>NaN</td>\n",
       "      <td>4.86</td>\n",
       "      <td>17.0</td>\n",
       "      <td>NaN</td>\n",
       "      <td>NaN</td>\n",
       "      <td>NaN</td>\n",
       "      <td>NaN</td>\n",
       "      <td>5.0</td>\n",
       "      <td>22.0</td>\n",
       "      <td>9</td>\n",
       "      <td>PHI</td>\n",
       "    </tr>\n",
       "    <tr>\n",
       "      <th>...</th>\n",
       "      <td>...</td>\n",
       "      <td>...</td>\n",
       "      <td>...</td>\n",
       "      <td>...</td>\n",
       "      <td>...</td>\n",
       "      <td>...</td>\n",
       "      <td>...</td>\n",
       "      <td>...</td>\n",
       "      <td>...</td>\n",
       "      <td>...</td>\n",
       "      <td>...</td>\n",
       "      <td>...</td>\n",
       "      <td>...</td>\n",
       "      <td>...</td>\n",
       "      <td>...</td>\n",
       "      <td>...</td>\n",
       "    </tr>\n",
       "    <tr>\n",
       "      <th>8116</th>\n",
       "      <td>Marvin Wilson</td>\n",
       "      <td>Florida State</td>\n",
       "      <td>DT</td>\n",
       "      <td>75.88</td>\n",
       "      <td>303</td>\n",
       "      <td>NaN</td>\n",
       "      <td>5.09</td>\n",
       "      <td>23.0</td>\n",
       "      <td>25.5</td>\n",
       "      <td>107.0</td>\n",
       "      <td>4.83</td>\n",
       "      <td>7.71</td>\n",
       "      <td>1.0</td>\n",
       "      <td>NaN</td>\n",
       "      <td>0</td>\n",
       "      <td>Undrafted</td>\n",
       "    </tr>\n",
       "    <tr>\n",
       "      <th>8117</th>\n",
       "      <td>Josh Paschal</td>\n",
       "      <td>Kentucky</td>\n",
       "      <td>DE</td>\n",
       "      <td>74.63</td>\n",
       "      <td>268</td>\n",
       "      <td>NaN</td>\n",
       "      <td>4.77</td>\n",
       "      <td>NaN</td>\n",
       "      <td>37.5</td>\n",
       "      <td>123.0</td>\n",
       "      <td>NaN</td>\n",
       "      <td>NaN</td>\n",
       "      <td>1.0</td>\n",
       "      <td>22.0</td>\n",
       "      <td>46</td>\n",
       "      <td>DET</td>\n",
       "    </tr>\n",
       "    <tr>\n",
       "      <th>8118</th>\n",
       "      <td>Cam Jurgens</td>\n",
       "      <td>Nebraska</td>\n",
       "      <td>C</td>\n",
       "      <td>74.88</td>\n",
       "      <td>303</td>\n",
       "      <td>NaN</td>\n",
       "      <td>4.92</td>\n",
       "      <td>25.0</td>\n",
       "      <td>NaN</td>\n",
       "      <td>NaN</td>\n",
       "      <td>NaN</td>\n",
       "      <td>NaN</td>\n",
       "      <td>1.0</td>\n",
       "      <td>23.0</td>\n",
       "      <td>51</td>\n",
       "      <td>PHI</td>\n",
       "    </tr>\n",
       "    <tr>\n",
       "      <th>8119</th>\n",
       "      <td>Ed Ingram</td>\n",
       "      <td>LSU</td>\n",
       "      <td>OG</td>\n",
       "      <td>75.25</td>\n",
       "      <td>307</td>\n",
       "      <td>NaN</td>\n",
       "      <td>5.02</td>\n",
       "      <td>NaN</td>\n",
       "      <td>20.5</td>\n",
       "      <td>102.0</td>\n",
       "      <td>4.76</td>\n",
       "      <td>7.81</td>\n",
       "      <td>1.0</td>\n",
       "      <td>23.0</td>\n",
       "      <td>59</td>\n",
       "      <td>MIN</td>\n",
       "    </tr>\n",
       "    <tr>\n",
       "      <th>8120</th>\n",
       "      <td>Amare Barno</td>\n",
       "      <td>Virginia Tech</td>\n",
       "      <td>OLB</td>\n",
       "      <td>76.63</td>\n",
       "      <td>246</td>\n",
       "      <td>NaN</td>\n",
       "      <td>4.36</td>\n",
       "      <td>NaN</td>\n",
       "      <td>37.0</td>\n",
       "      <td>131.0</td>\n",
       "      <td>NaN</td>\n",
       "      <td>NaN</td>\n",
       "      <td>1.0</td>\n",
       "      <td>23.0</td>\n",
       "      <td>189</td>\n",
       "      <td>CAR</td>\n",
       "    </tr>\n",
       "  </tbody>\n",
       "</table>\n",
       "<p>7296 rows × 16 columns</p>\n",
       "</div>"
      ],
      "text/plain": [
       "                Player      College_x  POS  Height (in)  Weight (lbs)  \\\n",
       "0     Vinny Testaverde     Miami (FL)   QB        76.30           213   \n",
       "1     Alonzo Highsmith     Miami (FL)   FB        72.90           236   \n",
       "2       Kelly Stouffer   Colorado St.   QB        75.00           212   \n",
       "3        Reggie Rogers     Washington   DE        78.30           268   \n",
       "4         Jerome Brown     Miami (FL)   DT        74.30           292   \n",
       "...                ...            ...  ...          ...           ...   \n",
       "8116     Marvin Wilson  Florida State   DT        75.88           303   \n",
       "8117      Josh Paschal       Kentucky   DE        74.63           268   \n",
       "8118       Cam Jurgens       Nebraska    C        74.88           303   \n",
       "8119         Ed Ingram            LSU   OG        75.25           307   \n",
       "8120       Amare Barno  Virginia Tech  OLB        76.63           246   \n",
       "\n",
       "      Wonderlic  40 Yard  Bench Press  Vert Leap (in)  Broad Jump (in)  \\\n",
       "0           NaN     4.75         13.0             NaN              NaN   \n",
       "1           NaN      NaN         27.0            34.0            118.0   \n",
       "2           NaN     4.95          NaN            28.0            108.0   \n",
       "3           NaN     4.76          NaN            29.0            103.0   \n",
       "4           NaN     4.86         17.0             NaN              NaN   \n",
       "...         ...      ...          ...             ...              ...   \n",
       "8116        NaN     5.09         23.0            25.5            107.0   \n",
       "8117        NaN     4.77          NaN            37.5            123.0   \n",
       "8118        NaN     4.92         25.0             NaN              NaN   \n",
       "8119        NaN     5.02          NaN            20.5            102.0   \n",
       "8120        NaN     4.36          NaN            37.0            131.0   \n",
       "\n",
       "      Shuttle  3Cone    To   Age  Pick       Team  \n",
       "0         NaN    NaN  21.0  23.0     1        TAM  \n",
       "1         NaN    NaN   6.0  22.0     3        HOU  \n",
       "2        4.51    NaN   6.0  23.0     6        STL  \n",
       "3        4.91    NaN   6.0  23.0     7        DET  \n",
       "4         NaN    NaN   5.0  22.0     9        PHI  \n",
       "...       ...    ...   ...   ...   ...        ...  \n",
       "8116     4.83   7.71   1.0   NaN     0  Undrafted  \n",
       "8117      NaN    NaN   1.0  22.0    46        DET  \n",
       "8118      NaN    NaN   1.0  23.0    51        PHI  \n",
       "8119     4.76   7.81   1.0  23.0    59        MIN  \n",
       "8120      NaN    NaN   1.0  23.0   189        CAR  \n",
       "\n",
       "[7296 rows x 16 columns]"
      ]
     },
     "execution_count": 4,
     "metadata": {},
     "output_type": "execute_result"
    }
   ],
   "source": [
    "df"
   ]
  },
  {
   "cell_type": "markdown",
   "metadata": {
    "id": "Wy15jfVv2M0C"
   },
   "source": [
    "# Data Analysis & Results (EDA)"
   ]
  },
  {
   "cell_type": "markdown",
   "metadata": {
    "id": "Ivgp6ZmINIFl"
   },
   "source": [
    "## Note: The years of experience is under the 'To' Column"
   ]
  },
  {
   "cell_type": "markdown",
   "metadata": {
    "id": "W2bnCT5s2p1n"
   },
   "source": [
    "First we will do a descriptive analysis of the dataset:"
   ]
  },
  {
   "cell_type": "code",
   "execution_count": 5,
   "metadata": {
    "colab": {
     "base_uri": "https://localhost:8080/",
     "height": 300
    },
    "id": "EXrMp9yZ2OKe",
    "outputId": "cc760726-c170-49ee-b4c4-e3c14674ab24"
   },
   "outputs": [
    {
     "data": {
      "text/html": [
       "<div>\n",
       "<style scoped>\n",
       "    .dataframe tbody tr th:only-of-type {\n",
       "        vertical-align: middle;\n",
       "    }\n",
       "\n",
       "    .dataframe tbody tr th {\n",
       "        vertical-align: top;\n",
       "    }\n",
       "\n",
       "    .dataframe thead th {\n",
       "        text-align: right;\n",
       "    }\n",
       "</style>\n",
       "<table border=\"1\" class=\"dataframe\">\n",
       "  <thead>\n",
       "    <tr style=\"text-align: right;\">\n",
       "      <th></th>\n",
       "      <th>Height (in)</th>\n",
       "      <th>Weight (lbs)</th>\n",
       "      <th>Wonderlic</th>\n",
       "      <th>40 Yard</th>\n",
       "      <th>Bench Press</th>\n",
       "      <th>Vert Leap (in)</th>\n",
       "      <th>Broad Jump (in)</th>\n",
       "      <th>Shuttle</th>\n",
       "      <th>3Cone</th>\n",
       "      <th>To</th>\n",
       "      <th>Age</th>\n",
       "      <th>Pick</th>\n",
       "    </tr>\n",
       "  </thead>\n",
       "  <tbody>\n",
       "    <tr>\n",
       "      <th>count</th>\n",
       "      <td>7296.000000</td>\n",
       "      <td>7296.000000</td>\n",
       "      <td>263.000000</td>\n",
       "      <td>6625.000000</td>\n",
       "      <td>5539.000000</td>\n",
       "      <td>6366.000000</td>\n",
       "      <td>6267.000000</td>\n",
       "      <td>5888.000000</td>\n",
       "      <td>4359.000000</td>\n",
       "      <td>7296.000000</td>\n",
       "      <td>5522.000000</td>\n",
       "      <td>7296.000000</td>\n",
       "    </tr>\n",
       "    <tr>\n",
       "      <th>mean</th>\n",
       "      <td>73.791449</td>\n",
       "      <td>241.097451</td>\n",
       "      <td>23.965779</td>\n",
       "      <td>4.792892</td>\n",
       "      <td>20.196245</td>\n",
       "      <td>32.620562</td>\n",
       "      <td>113.604915</td>\n",
       "      <td>4.387643</td>\n",
       "      <td>7.284441</td>\n",
       "      <td>5.382127</td>\n",
       "      <td>22.563202</td>\n",
       "      <td>89.487664</td>\n",
       "    </tr>\n",
       "    <tr>\n",
       "      <th>std</th>\n",
       "      <td>2.627677</td>\n",
       "      <td>44.694429</td>\n",
       "      <td>7.821650</td>\n",
       "      <td>0.302175</td>\n",
       "      <td>6.515278</td>\n",
       "      <td>4.216937</td>\n",
       "      <td>9.467617</td>\n",
       "      <td>0.257883</td>\n",
       "      <td>0.415601</td>\n",
       "      <td>3.599761</td>\n",
       "      <td>0.845462</td>\n",
       "      <td>81.505035</td>\n",
       "    </tr>\n",
       "    <tr>\n",
       "      <th>min</th>\n",
       "      <td>64.900000</td>\n",
       "      <td>144.000000</td>\n",
       "      <td>4.000000</td>\n",
       "      <td>4.210000</td>\n",
       "      <td>1.000000</td>\n",
       "      <td>17.500000</td>\n",
       "      <td>8.000000</td>\n",
       "      <td>3.730000</td>\n",
       "      <td>6.270000</td>\n",
       "      <td>1.000000</td>\n",
       "      <td>20.000000</td>\n",
       "      <td>0.000000</td>\n",
       "    </tr>\n",
       "    <tr>\n",
       "      <th>25%</th>\n",
       "      <td>71.900000</td>\n",
       "      <td>204.000000</td>\n",
       "      <td>18.000000</td>\n",
       "      <td>4.560000</td>\n",
       "      <td>16.000000</td>\n",
       "      <td>30.000000</td>\n",
       "      <td>108.000000</td>\n",
       "      <td>4.200000</td>\n",
       "      <td>6.970000</td>\n",
       "      <td>2.000000</td>\n",
       "      <td>22.000000</td>\n",
       "      <td>3.000000</td>\n",
       "    </tr>\n",
       "    <tr>\n",
       "      <th>50%</th>\n",
       "      <td>74.000000</td>\n",
       "      <td>234.000000</td>\n",
       "      <td>24.000000</td>\n",
       "      <td>4.720000</td>\n",
       "      <td>20.000000</td>\n",
       "      <td>33.000000</td>\n",
       "      <td>115.000000</td>\n",
       "      <td>4.350000</td>\n",
       "      <td>7.200000</td>\n",
       "      <td>5.000000</td>\n",
       "      <td>23.000000</td>\n",
       "      <td>75.000000</td>\n",
       "    </tr>\n",
       "    <tr>\n",
       "      <th>75%</th>\n",
       "      <td>75.800000</td>\n",
       "      <td>275.000000</td>\n",
       "      <td>29.000000</td>\n",
       "      <td>4.990000</td>\n",
       "      <td>24.000000</td>\n",
       "      <td>35.500000</td>\n",
       "      <td>120.000000</td>\n",
       "      <td>4.550000</td>\n",
       "      <td>7.530000</td>\n",
       "      <td>8.000000</td>\n",
       "      <td>23.000000</td>\n",
       "      <td>153.000000</td>\n",
       "    </tr>\n",
       "    <tr>\n",
       "      <th>max</th>\n",
       "      <td>82.400000</td>\n",
       "      <td>387.000000</td>\n",
       "      <td>48.000000</td>\n",
       "      <td>6.010000</td>\n",
       "      <td>49.000000</td>\n",
       "      <td>46.000000</td>\n",
       "      <td>147.000000</td>\n",
       "      <td>5.450000</td>\n",
       "      <td>9.280000</td>\n",
       "      <td>23.000000</td>\n",
       "      <td>28.000000</td>\n",
       "      <td>336.000000</td>\n",
       "    </tr>\n",
       "  </tbody>\n",
       "</table>\n",
       "</div>"
      ],
      "text/plain": [
       "       Height (in)  Weight (lbs)   Wonderlic      40 Yard  Bench Press  \\\n",
       "count  7296.000000   7296.000000  263.000000  6625.000000  5539.000000   \n",
       "mean     73.791449    241.097451   23.965779     4.792892    20.196245   \n",
       "std       2.627677     44.694429    7.821650     0.302175     6.515278   \n",
       "min      64.900000    144.000000    4.000000     4.210000     1.000000   \n",
       "25%      71.900000    204.000000   18.000000     4.560000    16.000000   \n",
       "50%      74.000000    234.000000   24.000000     4.720000    20.000000   \n",
       "75%      75.800000    275.000000   29.000000     4.990000    24.000000   \n",
       "max      82.400000    387.000000   48.000000     6.010000    49.000000   \n",
       "\n",
       "       Vert Leap (in)  Broad Jump (in)      Shuttle        3Cone           To  \\\n",
       "count     6366.000000      6267.000000  5888.000000  4359.000000  7296.000000   \n",
       "mean        32.620562       113.604915     4.387643     7.284441     5.382127   \n",
       "std          4.216937         9.467617     0.257883     0.415601     3.599761   \n",
       "min         17.500000         8.000000     3.730000     6.270000     1.000000   \n",
       "25%         30.000000       108.000000     4.200000     6.970000     2.000000   \n",
       "50%         33.000000       115.000000     4.350000     7.200000     5.000000   \n",
       "75%         35.500000       120.000000     4.550000     7.530000     8.000000   \n",
       "max         46.000000       147.000000     5.450000     9.280000    23.000000   \n",
       "\n",
       "               Age         Pick  \n",
       "count  5522.000000  7296.000000  \n",
       "mean     22.563202    89.487664  \n",
       "std       0.845462    81.505035  \n",
       "min      20.000000     0.000000  \n",
       "25%      22.000000     3.000000  \n",
       "50%      23.000000    75.000000  \n",
       "75%      23.000000   153.000000  \n",
       "max      28.000000   336.000000  "
      ]
     },
     "execution_count": 5,
     "metadata": {},
     "output_type": "execute_result"
    }
   ],
   "source": [
    "df.describe()"
   ]
  },
  {
   "cell_type": "markdown",
   "metadata": {
    "id": "RCNhYjfy22K8"
   },
   "source": [
    "It appears that the wonderlic score is only available for a select few draftees, upon further research, we realized that wonderlic score is only measured for QBs, therefore, we will be dropping that column from now on."
   ]
  },
  {
   "cell_type": "code",
   "execution_count": 6,
   "metadata": {
    "id": "EjL_B3Fr2uaH"
   },
   "outputs": [],
   "source": [
    "df = df.drop(columns = 'Wonderlic')"
   ]
  },
  {
   "cell_type": "markdown",
   "metadata": {
    "id": "7KSHMACf4kvk"
   },
   "source": [
    "Then, we take a look at the target variable, years of experience:"
   ]
  },
  {
   "cell_type": "code",
   "execution_count": 7,
   "metadata": {
    "colab": {
     "base_uri": "https://localhost:8080/",
     "height": 472
    },
    "id": "gLrslxC-3EsO",
    "outputId": "9abc2a94-ff6b-4f79-aae4-7d7010b4bbab"
   },
   "outputs": [
    {
     "data": {
      "image/png": "[encoded data removed]",
      "text/plain": [
       "<Figure size 432x288 with 1 Axes>"
      ]
     },
     "metadata": {
      "needs_background": "light"
     },
     "output_type": "display_data"
    }
   ],
   "source": [
    "plt.hist(df['To'], label = 'Years of Experience')\n",
    "plt.title(\"Histogram of Years of Experience\")\n",
    "plt.xlabel('Years')\n",
    "plt.ylabel('Count')\n",
    "plt.show()"
   ]
  },
  {
   "cell_type": "markdown",
   "metadata": {
    "id": "X4eIhqDj5TGf"
   },
   "source": [
    "From this histogram, it appears the target variable is skewed right.\n",
    "\n",
    "Since we will be attempting to build a machine learning model, this indicates that we should apply either logarithmic transformation or scaling/normaling to the years of experience in order to imporve the model's performance."
   ]
  },
  {
   "cell_type": "markdown",
   "metadata": {
    "id": "3n62iwR36HLX"
   },
   "source": [
    "Next, we investigate whether or not the years of experience differ for positions."
   ]
  },
  {
   "cell_type": "code",
   "execution_count": 8,
   "metadata": {
    "colab": {
     "base_uri": "https://localhost:8080/",
     "height": 530
    },
    "id": "iUx6ZMWm4y_O",
    "outputId": "65e59fc7-e225-4fe0-dea2-6b382a16dee1"
   },
   "outputs": [
    {
     "name": "stderr",
     "output_type": "stream",
     "text": [
      "C:\\Users\\josh9\\AppData\\Local\\Temp\\ipykernel_3336\\3346568821.py:6: UserWarning: When passing multiple axes, sharex and sharey are ignored. These settings must be specified when creating axes.\n",
      "  a2.boxplot(by='POS', meanline=True, showmeans=True, showcaps=True,\n"
     ]
    },
    {
     "data": {
      "image/png": "[encoded data removed]",
      "text/plain": [
       "<Figure size 720x360 with 1 Axes>"
      ]
     },
     "metadata": {
      "needs_background": "light"
     },
     "output_type": "display_data"
    }
   ],
   "source": [
    "# Potentially add the count of each position in here\n",
    "scores=df[['To','POS']]\n",
    "ax = scores.boxplot(by='POS', meanline=True, showmeans=True, showcaps=True, \n",
    "                showbox=True, showfliers=False, return_type='axes', figsize = (10, 5))\n",
    "a2 = df[['To','POS']]\n",
    "a2.boxplot(by='POS', meanline=True, showmeans=True, showcaps=True, \n",
    "           showbox=True, showfliers=False, ax=ax)\n",
    "plt.ylabel('Years')\n",
    "plt.show()"
   ]
  },
  {
   "cell_type": "markdown",
   "metadata": {
    "id": "5i2BOF_ADVqN"
   },
   "source": [
    "From the boxplots, we see that QB and K tend to have the highest career length, while defensive linemen tend to have shorter career length (DL, LB, LS, EDG)"
   ]
  },
  {
   "cell_type": "markdown",
   "metadata": {
    "id": "BzgLam_9Dp9d"
   },
   "source": [
    "Surprisingly, one position, OL, does not seem to have a box plot. We are going to investigate for that position."
   ]
  },
  {
   "cell_type": "code",
   "execution_count": 9,
   "metadata": {
    "colab": {
     "base_uri": "https://localhost:8080/",
     "height": 81
    },
    "id": "2KjQ3l7250ye",
    "outputId": "30640298-fdb3-4c24-9a91-de63e3065c8b"
   },
   "outputs": [
    {
     "data": {
      "text/html": [
       "<div>\n",
       "<style scoped>\n",
       "    .dataframe tbody tr th:only-of-type {\n",
       "        vertical-align: middle;\n",
       "    }\n",
       "\n",
       "    .dataframe tbody tr th {\n",
       "        vertical-align: top;\n",
       "    }\n",
       "\n",
       "    .dataframe thead th {\n",
       "        text-align: right;\n",
       "    }\n",
       "</style>\n",
       "<table border=\"1\" class=\"dataframe\">\n",
       "  <thead>\n",
       "    <tr style=\"text-align: right;\">\n",
       "      <th></th>\n",
       "      <th>Player</th>\n",
       "      <th>College_x</th>\n",
       "      <th>POS</th>\n",
       "      <th>Height (in)</th>\n",
       "      <th>Weight (lbs)</th>\n",
       "      <th>40 Yard</th>\n",
       "      <th>Bench Press</th>\n",
       "      <th>Vert Leap (in)</th>\n",
       "      <th>Broad Jump (in)</th>\n",
       "      <th>Shuttle</th>\n",
       "      <th>3Cone</th>\n",
       "      <th>To</th>\n",
       "      <th>Age</th>\n",
       "      <th>Pick</th>\n",
       "      <th>Team</th>\n",
       "    </tr>\n",
       "  </thead>\n",
       "  <tbody>\n",
       "    <tr>\n",
       "      <th>7670</th>\n",
       "      <td>Javarius Leamon</td>\n",
       "      <td>South Carolina State</td>\n",
       "      <td>OL</td>\n",
       "      <td>78.75</td>\n",
       "      <td>332</td>\n",
       "      <td>NaN</td>\n",
       "      <td>22.0</td>\n",
       "      <td>23.5</td>\n",
       "      <td>91.0</td>\n",
       "      <td>5.12</td>\n",
       "      <td>8.28</td>\n",
       "      <td>1.0</td>\n",
       "      <td>NaN</td>\n",
       "      <td>0</td>\n",
       "      <td>Undrafted</td>\n",
       "    </tr>\n",
       "  </tbody>\n",
       "</table>\n",
       "</div>"
      ],
      "text/plain": [
       "               Player             College_x POS  Height (in)  Weight (lbs)  \\\n",
       "7670  Javarius Leamon  South Carolina State  OL        78.75           332   \n",
       "\n",
       "      40 Yard  Bench Press  Vert Leap (in)  Broad Jump (in)  Shuttle  3Cone  \\\n",
       "7670      NaN         22.0            23.5             91.0     5.12   8.28   \n",
       "\n",
       "       To  Age  Pick       Team  \n",
       "7670  1.0  NaN     0  Undrafted  "
      ]
     },
     "execution_count": 9,
     "metadata": {},
     "output_type": "execute_result"
    }
   ],
   "source": [
    "df[df['POS'] == 'OL']"
   ]
  },
  {
   "cell_type": "markdown",
   "metadata": {
    "id": "PrFJmAb0ES6f"
   },
   "source": [
    "It appears that only one player is listed as an OL, we will be removing this player from the dataset."
   ]
  },
  {
   "cell_type": "code",
   "execution_count": 10,
   "metadata": {
    "id": "BES54_mKEAPa"
   },
   "outputs": [],
   "source": [
    "df = df[df['POS'] !='OL']"
   ]
  },
  {
   "cell_type": "markdown",
   "metadata": {
    "id": "cK6Run0dEw7J"
   },
   "source": [
    "## EDA Height"
   ]
  },
  {
   "cell_type": "markdown",
   "metadata": {
    "id": "ABVojq7S_aDd"
   },
   "source": [
    "Here we take a look at the distribution of the heights:"
   ]
  },
  {
   "cell_type": "code",
   "execution_count": 11,
   "metadata": {
    "colab": {
     "base_uri": "https://localhost:8080/",
     "height": 472
    },
    "id": "Fh4TMbmq_csm",
    "outputId": "4f65ed75-c217-4941-f9a0-3d0c1cece6d2"
   },
   "outputs": [
    {
     "data": {
      "image/png": "[encoded data removed]",
      "text/plain": [
       "<Figure size 432x288 with 1 Axes>"
      ]
     },
     "metadata": {
      "needs_background": "light"
     },
     "output_type": "display_data"
    }
   ],
   "source": [
    "plt.hist(df['Height (in)'], label = 'Height')\n",
    "plt.title(\"Histogram of Height\")\n",
    "plt.xlabel('Height')\n",
    "plt.ylabel('Count')\n",
    "plt.show()"
   ]
  },
  {
   "cell_type": "markdown",
   "metadata": {
    "id": "Hb7w60oU_lK6"
   },
   "source": [
    "We see the height is normally distributed around 73.5in, without any clear outliers."
   ]
  },
  {
   "cell_type": "markdown",
   "metadata": {
    "id": "b9FK8LmSExAV"
   },
   "source": [
    "## EDA Weight"
   ]
  },
  {
   "cell_type": "markdown",
   "metadata": {
    "id": "2XFE1ZvZ_sv0"
   },
   "source": [
    "Here we take a look at the distribution of the weights:"
   ]
  },
  {
   "cell_type": "code",
   "execution_count": 12,
   "metadata": {
    "colab": {
     "base_uri": "https://localhost:8080/",
     "height": 472
    },
    "id": "IqeFooP-_uoG",
    "outputId": "5fad680f-6a74-4221-a3cc-64c1fdde50c9"
   },
   "outputs": [
    {
     "data": {
      "image/png": "[encoded data removed]",
      "text/plain": [
       "<Figure size 432x288 with 1 Axes>"
      ]
     },
     "metadata": {
      "needs_background": "light"
     },
     "output_type": "display_data"
    }
   ],
   "source": [
    "plt.hist(df['Weight (lbs)'], label = 'Weight')\n",
    "plt.title(\"Histogram of Weight\")\n",
    "plt.xlabel('Weight')\n",
    "plt.ylabel('Count')\n",
    "plt.show()"
   ]
  },
  {
   "cell_type": "markdown",
   "metadata": {
    "id": "JL98ZxDI_0Yg"
   },
   "source": [
    "Here we see the weights are somewhat of a bimodal distribution, possibly because linemen positions tend to be heavier than other positions."
   ]
  },
  {
   "cell_type": "code",
   "execution_count": 13,
   "metadata": {
    "colab": {
     "base_uri": "https://localhost:8080/",
     "height": 530
    },
    "id": "14-yKHwTAEqF",
    "outputId": "7dc7292d-7cb8-4910-c2bd-90dc14e7b4c5"
   },
   "outputs": [
    {
     "name": "stderr",
     "output_type": "stream",
     "text": [
      "C:\\Users\\josh9\\AppData\\Local\\Temp\\ipykernel_3336\\4245311648.py:5: UserWarning: When passing multiple axes, sharex and sharey are ignored. These settings must be specified when creating axes.\n",
      "  a2.boxplot(by='POS', meanline=True, showmeans=True, showcaps=True,\n"
     ]
    },
    {
     "data": {
      "image/png": "[encoded data removed]",
      "text/plain": [
       "<Figure size 720x360 with 1 Axes>"
      ]
     },
     "metadata": {
      "needs_background": "light"
     },
     "output_type": "display_data"
    }
   ],
   "source": [
    "scores=df[['Weight (lbs)','POS']]\n",
    "ax = scores.boxplot(by='POS', meanline=True, showmeans=True, showcaps=True, \n",
    "                showbox=True, showfliers=False, return_type='axes', figsize = (10, 5))\n",
    "a2 = df[['Weight (lbs)','POS']]\n",
    "a2.boxplot(by='POS', meanline=True, showmeans=True, showcaps=True, \n",
    "           showbox=True, showfliers=False, ax=ax)\n",
    "plt.ylabel('Weight')\n",
    "plt.show()"
   ]
  },
  {
   "cell_type": "markdown",
   "metadata": {
    "id": "UMEuPbeEExCZ"
   },
   "source": [
    "## EDA 40 Yard"
   ]
  },
  {
   "cell_type": "markdown",
   "metadata": {
    "id": "jxbugMnnAYG-"
   },
   "source": [
    "Distribution of 40 yard time:"
   ]
  },
  {
   "cell_type": "code",
   "execution_count": 15,
   "metadata": {
    "colab": {
     "base_uri": "https://localhost:8080/",
     "height": 472
    },
    "id": "UqKAbATHAP0Q",
    "outputId": "50ed3105-a16c-4668-cf34-f2ce4b7173ef"
   },
   "outputs": [
    {
     "data": {
      "image/png": "[encoded data removed]",
      "text/plain": [
       "<Figure size 432x288 with 1 Axes>"
      ]
     },
     "metadata": {
      "needs_background": "light"
     },
     "output_type": "display_data"
    }
   ],
   "source": [
    "plt.hist(df['40 Yard'], label = '40 Yard')\n",
    "plt.title(\"Histogram of 40 Yard Time\")\n",
    "plt.xlabel('Time (s)')\n",
    "plt.ylabel('Count')\n",
    "plt.show()"
   ]
  },
  {
   "cell_type": "markdown",
   "metadata": {
    "id": "J1tLxV7iAbdd"
   },
   "source": [
    "Skewed right, possibly becuase linemen tend to have slower times, no clear outliers."
   ]
  },
  {
   "cell_type": "code",
   "execution_count": 16,
   "metadata": {
    "colab": {
     "base_uri": "https://localhost:8080/",
     "height": 530
    },
    "id": "uItakoH1sJqD",
    "outputId": "5cd6c232-49b5-42c0-c726-77f004d44ab7"
   },
   "outputs": [
    {
     "name": "stderr",
     "output_type": "stream",
     "text": [
      "C:\\Users\\josh9\\AppData\\Local\\Temp\\ipykernel_3336\\416453719.py:5: UserWarning: When passing multiple axes, sharex and sharey are ignored. These settings must be specified when creating axes.\n",
      "  a2.boxplot(by='POS', meanline=True, showmeans=True, showcaps=True,\n"
     ]
    },
    {
     "data": {
      "image/png": "[encoded data removed]",
      "text/plain": [
       "<Figure size 720x360 with 1 Axes>"
      ]
     },
     "metadata": {
      "needs_background": "light"
     },
     "output_type": "display_data"
    }
   ],
   "source": [
    "scores=df[['40 Yard','POS']]\n",
    "ax = scores.boxplot(by='POS', meanline=True, showmeans=True, showcaps=True, \n",
    "                showbox=True, showfliers=False, return_type='axes', figsize = (10, 5))\n",
    "a2 = df[['40 Yard','POS']]\n",
    "a2.boxplot(by='POS', meanline=True, showmeans=True, showcaps=True, \n",
    "           showbox=True, showfliers=False, ax=ax)\n",
    "plt.ylabel('40 Yard')\n",
    "plt.show()"
   ]
  },
  {
   "cell_type": "markdown",
   "metadata": {
    "id": "5vNQyLEMExGU"
   },
   "source": [
    "## EDA Vertical Leap"
   ]
  },
  {
   "cell_type": "code",
   "execution_count": 19,
   "metadata": {
    "colab": {
     "base_uri": "https://localhost:8080/",
     "height": 472
    },
    "id": "d9248qKNAmdA",
    "outputId": "d638e284-0051-4791-fcbb-01fb7b27d817"
   },
   "outputs": [
    {
     "data": {
      "image/png": "[encoded data removed]",
      "text/plain": [
       "<Figure size 432x288 with 1 Axes>"
      ]
     },
     "metadata": {
      "needs_background": "light"
     },
     "output_type": "display_data"
    }
   ],
   "source": [
    "plt.hist(df['Vert Leap (in)'], label = 'Vert Leap (in)')\n",
    "plt.title(\"Histogram of Vertical Leap\")\n",
    "plt.xlabel('inches')\n",
    "plt.ylabel('Count')\n",
    "plt.show()"
   ]
  },
  {
   "cell_type": "markdown",
   "metadata": {
    "id": "P5ODvfyEsW57"
   },
   "source": [
    "The players' vertical appears to be a normal distribution."
   ]
  },
  {
   "cell_type": "markdown",
   "metadata": {
    "id": "cEKDduEbE5f2"
   },
   "source": [
    "## EDA Bench Press"
   ]
  },
  {
   "cell_type": "code",
   "execution_count": 20,
   "metadata": {
    "colab": {
     "base_uri": "https://localhost:8080/",
     "height": 472
    },
    "id": "qnNrNYvCAs_K",
    "outputId": "f62be6bd-0ab7-40cb-d75f-3338a6529548"
   },
   "outputs": [
    {
     "data": {
      "image/png": "[encoded data removed]",
      "text/plain": [
       "<Figure size 432x288 with 1 Axes>"
      ]
     },
     "metadata": {
      "needs_background": "light"
     },
     "output_type": "display_data"
    }
   ],
   "source": [
    "plt.hist(df['Bench Press'], label = 'Bench')\n",
    "plt.title(\"Histogram of Bench Press\")\n",
    "plt.xlabel('Repetitions')\n",
    "plt.ylabel('Count')\n",
    "plt.show()"
   ]
  },
  {
   "cell_type": "markdown",
   "metadata": {
    "id": "QmRjloqgsdmk"
   },
   "source": [
    "The players' bench press appears to be a normal distribution."
   ]
  },
  {
   "cell_type": "markdown",
   "metadata": {
    "id": "0k4TDgl_E5hw"
   },
   "source": [
    "## EDA Shuttle"
   ]
  },
  {
   "cell_type": "code",
   "execution_count": 21,
   "metadata": {
    "colab": {
     "base_uri": "https://localhost:8080/",
     "height": 472
    },
    "id": "Y8PnraW9A4EQ",
    "outputId": "5a17433e-ae69-4b5a-bf33-8471e7e5931e"
   },
   "outputs": [
    {
     "data": {
      "image/png": "[encoded data removed]",
      "text/plain": [
       "<Figure size 432x288 with 1 Axes>"
      ]
     },
     "metadata": {
      "needs_background": "light"
     },
     "output_type": "display_data"
    }
   ],
   "source": [
    "plt.hist(df['Shuttle'], label = 'Shuttle')\n",
    "plt.title(\"Histogram of Shuttle\")\n",
    "plt.xlabel('time (s)')\n",
    "plt.ylabel('Count')\n",
    "plt.show()"
   ]
  },
  {
   "cell_type": "markdown",
   "metadata": {
    "id": "kisBFMaRsgwO"
   },
   "source": [
    "The players' shuttle appears to be somewhat of a normal distribution."
   ]
  },
  {
   "cell_type": "markdown",
   "metadata": {
    "id": "20Jd9epTE5ju"
   },
   "source": [
    "## EDA 3cone"
   ]
  },
  {
   "cell_type": "code",
   "execution_count": 22,
   "metadata": {
    "colab": {
     "base_uri": "https://localhost:8080/",
     "height": 472
    },
    "id": "kg33tUp9A8lj",
    "outputId": "ff79f5fc-a392-4841-afe8-63c16ef7fb50"
   },
   "outputs": [
    {
     "data": {
      "image/png": "[encoded data removed]",
      "text/plain": [
       "<Figure size 432x288 with 1 Axes>"
      ]
     },
     "metadata": {
      "needs_background": "light"
     },
     "output_type": "display_data"
    }
   ],
   "source": [
    "plt.hist(df['3Cone'], label = '3Cone')\n",
    "plt.title(\"Histogram of 3Cone\")\n",
    "plt.xlabel('time (s)')\n",
    "plt.ylabel('Count')\n",
    "plt.show()"
   ]
  },
  {
   "cell_type": "markdown",
   "metadata": {
    "id": "lL9QrJr_sn1n"
   },
   "source": [
    "The players' 3Cone appears to be somewhat of a normal distribution."
   ]
  },
  {
   "cell_type": "markdown",
   "metadata": {
    "id": "Ts9yJ3uupn6S"
   },
   "source": [
    "# EDA Broad Jump"
   ]
  },
  {
   "cell_type": "code",
   "execution_count": 23,
   "metadata": {
    "colab": {
     "base_uri": "https://localhost:8080/",
     "height": 472
    },
    "id": "RqK6l2agpp88",
    "outputId": "c394945a-5a07-4a95-8422-c89340c84de0"
   },
   "outputs": [
    {
     "data": {
      "image/png": "[encoded data removed]",
      "text/plain": [
       "<Figure size 432x288 with 1 Axes>"
      ]
     },
     "metadata": {
      "needs_background": "light"
     },
     "output_type": "display_data"
    }
   ],
   "source": [
    "plt.hist(df['Broad Jump (in)'], label = 'Broad Jump', bins = 10)\n",
    "plt.title(\"Histogram of Broad Jump\")\n",
    "plt.xlabel('Inches')\n",
    "plt.ylabel('Count')\n",
    "plt.show()"
   ]
  },
  {
   "cell_type": "markdown",
   "metadata": {
    "id": "sZRIWw7Pqr7v"
   },
   "source": [
    "There appears to be an outlier for broad jump, we will be checking the outlier to determine whether or not we should remove it."
   ]
  },
  {
   "cell_type": "code",
   "execution_count": 24,
   "metadata": {
    "colab": {
     "base_uri": "https://localhost:8080/",
     "height": 143
    },
    "id": "Dq3OXSiAsqcm",
    "outputId": "508f41a2-f52e-4227-de65-c6ec2dbb9bdb"
   },
   "outputs": [
    {
     "data": {
      "text/html": [
       "<div>\n",
       "<style scoped>\n",
       "    .dataframe tbody tr th:only-of-type {\n",
       "        vertical-align: middle;\n",
       "    }\n",
       "\n",
       "    .dataframe tbody tr th {\n",
       "        vertical-align: top;\n",
       "    }\n",
       "\n",
       "    .dataframe thead th {\n",
       "        text-align: right;\n",
       "    }\n",
       "</style>\n",
       "<table border=\"1\" class=\"dataframe\">\n",
       "  <thead>\n",
       "    <tr style=\"text-align: right;\">\n",
       "      <th></th>\n",
       "      <th>Player</th>\n",
       "      <th>College_x</th>\n",
       "      <th>POS</th>\n",
       "      <th>Height (in)</th>\n",
       "      <th>Weight (lbs)</th>\n",
       "      <th>40 Yard</th>\n",
       "      <th>Bench Press</th>\n",
       "      <th>Vert Leap (in)</th>\n",
       "      <th>Broad Jump (in)</th>\n",
       "      <th>Shuttle</th>\n",
       "      <th>3Cone</th>\n",
       "      <th>To</th>\n",
       "      <th>Age</th>\n",
       "      <th>Pick</th>\n",
       "      <th>Team</th>\n",
       "    </tr>\n",
       "  </thead>\n",
       "  <tbody>\n",
       "    <tr>\n",
       "      <th>2187</th>\n",
       "      <td>Jason Odom</td>\n",
       "      <td>Florida</td>\n",
       "      <td>OT</td>\n",
       "      <td>76.5</td>\n",
       "      <td>290</td>\n",
       "      <td>5.05</td>\n",
       "      <td>22.0</td>\n",
       "      <td>27.0</td>\n",
       "      <td>8.0</td>\n",
       "      <td>4.62</td>\n",
       "      <td>NaN</td>\n",
       "      <td>4.0</td>\n",
       "      <td>22.0</td>\n",
       "      <td>96</td>\n",
       "      <td>TAM</td>\n",
       "    </tr>\n",
       "    <tr>\n",
       "      <th>8038</th>\n",
       "      <td>Khalil Davis</td>\n",
       "      <td>Nebraska</td>\n",
       "      <td>DT</td>\n",
       "      <td>73.0</td>\n",
       "      <td>308</td>\n",
       "      <td>4.75</td>\n",
       "      <td>32.0</td>\n",
       "      <td>32.5</td>\n",
       "      <td>9.0</td>\n",
       "      <td>NaN</td>\n",
       "      <td>NaN</td>\n",
       "      <td>2.0</td>\n",
       "      <td>24.0</td>\n",
       "      <td>194</td>\n",
       "      <td>TAM</td>\n",
       "    </tr>\n",
       "    <tr>\n",
       "      <th>8045</th>\n",
       "      <td>Carlos Davis</td>\n",
       "      <td>Nebraska</td>\n",
       "      <td>DT</td>\n",
       "      <td>74.0</td>\n",
       "      <td>313</td>\n",
       "      <td>4.82</td>\n",
       "      <td>27.0</td>\n",
       "      <td>27.5</td>\n",
       "      <td>8.0</td>\n",
       "      <td>4.52</td>\n",
       "      <td>NaN</td>\n",
       "      <td>3.0</td>\n",
       "      <td>24.0</td>\n",
       "      <td>232</td>\n",
       "      <td>PIT</td>\n",
       "    </tr>\n",
       "  </tbody>\n",
       "</table>\n",
       "</div>"
      ],
      "text/plain": [
       "            Player College_x POS  Height (in)  Weight (lbs)  40 Yard  \\\n",
       "2187    Jason Odom   Florida  OT         76.5           290     5.05   \n",
       "8038  Khalil Davis  Nebraska  DT         73.0           308     4.75   \n",
       "8045  Carlos Davis  Nebraska  DT         74.0           313     4.82   \n",
       "\n",
       "      Bench Press  Vert Leap (in)  Broad Jump (in)  Shuttle  3Cone   To   Age  \\\n",
       "2187         22.0            27.0              8.0     4.62    NaN  4.0  22.0   \n",
       "8038         32.0            32.5              9.0      NaN    NaN  2.0  24.0   \n",
       "8045         27.0            27.5              8.0     4.52    NaN  3.0  24.0   \n",
       "\n",
       "      Pick Team  \n",
       "2187    96  TAM  \n",
       "8038   194  TAM  \n",
       "8045   232  PIT  "
      ]
     },
     "execution_count": 24,
     "metadata": {},
     "output_type": "execute_result"
    }
   ],
   "source": [
    "df[df['Broad Jump (in)'] <= 50]"
   ]
  },
  {
   "cell_type": "markdown",
   "metadata": {
    "id": "rwQn4jNGtCpE"
   },
   "source": [
    "A quick Google Search and it appears that the data was incorrect, Khalil Davis has a broad jump of 9ft5in instead of 9in, Carlos Davis has a broad jump of 8ft 7in instead of 8in. It appears that nflcombineresults, the place we got the data from, incorrectly listed the data for these players. "
   ]
  },
  {
   "cell_type": "markdown",
   "metadata": {
    "id": "mnAYjBKst4xK"
   },
   "source": [
    "Unfortunately, we were unable to get the correct data for Jason Odom, we will be removing Jason Odom from the data and correcting the data for both Davis's."
   ]
  },
  {
   "cell_type": "code",
   "execution_count": 25,
   "metadata": {
    "id": "Q_frHOiMuGBJ"
   },
   "outputs": [],
   "source": [
    "df.loc[8038, 'Broad Jump (in)'] = 113\n",
    "df.loc[8045, 'Broad Jump (in)'] = 103\n",
    "df=df[df['Player'] != 'Jason Odom'] "
   ]
  },
  {
   "cell_type": "markdown",
   "metadata": {
    "id": "7-v-5_NBuYmZ"
   },
   "source": [
    "Redoing the distribution of the broad jump:"
   ]
  },
  {
   "cell_type": "code",
   "execution_count": 26,
   "metadata": {
    "colab": {
     "base_uri": "https://localhost:8080/",
     "height": 472
    },
    "id": "Z9w_OgffuXHZ",
    "outputId": "b1d65081-ab69-4bea-c92d-6aff18406dc8"
   },
   "outputs": [
    {
     "data": {
      "image/png": "[encoded data removed]",
      "text/plain": [
       "<Figure size 432x288 with 1 Axes>"
      ]
     },
     "metadata": {
      "needs_background": "light"
     },
     "output_type": "display_data"
    }
   ],
   "source": [
    "plt.hist(df['Broad Jump (in)'], label = 'Broad Jump', bins = 10)\n",
    "plt.title(\"Histogram of Broad Jump\")\n",
    "plt.xlabel('Inches')\n",
    "plt.ylabel('Count')\n",
    "plt.show()"
   ]
  },
  {
   "cell_type": "markdown",
   "metadata": {
    "id": "2clW4rqeucjk"
   },
   "source": [
    "Here we see that the distribution is approximately normal."
   ]
  },
  {
   "cell_type": "markdown",
   "metadata": {
    "id": "J91f_xqkj0w8"
   },
   "source": [
    "## EDA Age"
   ]
  },
  {
   "cell_type": "code",
   "execution_count": 39,
   "metadata": {
    "colab": {
     "base_uri": "https://localhost:8080/",
     "height": 472
    },
    "id": "MPCmFjU8jzyL",
    "outputId": "5e5a4226-586f-4996-c30f-464a6eba8107"
   },
   "outputs": [
    {
     "data": {
      "image/png": "[encoded data removed]",
      "text/plain": [
       "<Figure size 432x288 with 1 Axes>"
      ]
     },
     "metadata": {
      "needs_background": "light"
     },
     "output_type": "display_data"
    }
   ],
   "source": [
    "df['Age'].value_counts().plot(kind = 'bar')\n",
    "plt.title('Barplot of Age')\n",
    "plt.xlabel('Years')\n",
    "plt.ylabel('Count')\n",
    "plt.show()"
   ]
  },
  {
   "cell_type": "markdown",
   "metadata": {
    "id": "UKjesO6lFH8r"
   },
   "source": [
    "## Overall EDA"
   ]
  },
  {
   "cell_type": "markdown",
   "metadata": {
    "id": "tj7TTBJ3BQR5"
   },
   "source": [
    "We decided to do a heatmap on all numeric variables and target output:\n",
    "\n"
   ]
  },
  {
   "cell_type": "code",
   "execution_count": 25,
   "metadata": {
    "colab": {
     "base_uri": "https://localhost:8080/",
     "height": 1000
    },
    "id": "jnwXOeDhBQrK",
    "outputId": "7f9ba8f3-b941-4d2f-9980-1c03b9ad2dff"
   },
   "outputs": [
    {
     "data": {
      "text/plain": [
       "<AxesSubplot:>"
      ]
     },
     "execution_count": 25,
     "metadata": {},
     "output_type": "execute_result"
    },
    {
     "data": {
      "image/png": "[encoded data removed]",
      "text/plain": [
       "<Figure size 864x864 with 2 Axes>"
      ]
     },
     "metadata": {
      "needs_background": "light"
     },
     "output_type": "display_data"
    }
   ],
   "source": [
    "import seaborn as sns\n",
    "plt.figure(figsize=(12, 12))\n",
    "numeric_cols = ['Height (in)', 'Weight (lbs)', '40 Yard', 'Bench Press', 'Vert Leap (in)', 'Broad Jump (in)', 'Shuttle', '3Cone', 'To', 'Age', 'Pick']\n",
    "corr_numeric = df[numeric_cols].corr()\n",
    "sns.heatmap(corr_numeric, cmap='YlGnBu', annot=True, square=True)"
   ]
  },
  {
   "cell_type": "markdown",
   "metadata": {
    "id": "sYea5RHRuzF8"
   },
   "source": [
    "It appears that none of the numeric columns are highly correlated with the target output, years of experience."
   ]
  },
  {
   "cell_type": "code",
   "execution_count": 26,
   "metadata": {
    "colab": {
     "base_uri": "https://localhost:8080/",
     "height": 514
    },
    "id": "qKeBniki1J2X",
    "outputId": "4b5ca7ba-b63b-4027-bf7f-29c7898be1a7"
   },
   "outputs": [
    {
     "data": {
      "image/png": "[encoded data removed]",
      "text/plain": [
       "<Figure size 432x288 with 121 Axes>"
      ]
     },
     "metadata": {
      "needs_background": "light"
     },
     "output_type": "display_data"
    },
    {
     "data": {
      "text/plain": [
       "<Figure size 1152x1152 with 0 Axes>"
      ]
     },
     "metadata": {},
     "output_type": "display_data"
    }
   ],
   "source": [
    "fig = pd.plotting.scatter_matrix(df)\n",
    "plt.figure(figsize=(16, 16))\n",
    "for ax in fig.ravel():\n",
    "    ax.xaxis.label.set_rotation(90)\n",
    "    ax.xaxis.label.set_ha('right')\n",
    "    ax.xaxis.label.set_va('center')\n",
    "\n",
    "# Rotate y-axis labels\n",
    "for ax in fig.ravel():\n",
    "    ax.yaxis.label.set_rotation(360)\n",
    "    ax.yaxis.label.set_ha('right')\n",
    "    ax.yaxis.label.set_va('center')\n",
    "\n",
    "plt.show()"
   ]
  },
  {
   "cell_type": "markdown",
   "metadata": {
    "id": "zY3kFGA_2nbQ"
   },
   "source": [
    "From the scatterplots, it appears that while certain variables appear to have somewhat of a correlation with another variables. However, none of them seems to have a clear correlation with years of experience."
   ]
  },
  {
   "cell_type": "markdown",
   "metadata": {
    "id": "DJ5GhYv5SkHv"
   },
   "source": [
    "# RESULTS"
   ]
  },
  {
   "cell_type": "markdown",
   "metadata": {
    "id": "Frc4i2mFCxoT"
   },
   "source": [
    "## T test"
   ]
  },
  {
   "cell_type": "markdown",
   "metadata": {
    "id": "BPAMTfTQ4HAT"
   },
   "source": [
    "We aim to conduct an inference between the years of experience of 1-2 round draft picks and 3-5 round and 6-7  + undrafted players to determine which round's player have higher years of experience."
   ]
  },
  {
   "cell_type": "markdown",
   "metadata": {
    "id": "c8XXQHwj_Rv1"
   },
   "source": [
    "Studies have shown that players drafted in 1-2 rounds usually play longer than 3-5, which also play longer than 6-7 round picks.\n",
    "\n",
    "Note: A lot of teams sign undrafted players to play for a few games, therefore we will not be including the data for undrafted players"
   ]
  },
  {
   "cell_type": "markdown",
   "metadata": {
    "id": "mI_U-vju5bQr"
   },
   "source": [
    "Undrafted players have been assigned a draft pick of 0; from here on, we will assign undrafted players to a pick number of 300. (Each year's draft all have less than 300 picks)."
   ]
  },
  {
   "cell_type": "code",
   "execution_count": 27,
   "metadata": {
    "id": "pwf1blzw5a2Y"
   },
   "outputs": [],
   "source": [
    "def update_pick(x):\n",
    "  if int(x) == 0:\n",
    "    return 300\n",
    "  else:\n",
    "    return int(x)"
   ]
  },
  {
   "cell_type": "code",
   "execution_count": 28,
   "metadata": {
    "id": "4M48eP4-5Cra"
   },
   "outputs": [],
   "source": [
    "df['Pick'] = df['Pick'].apply(update_pick)"
   ]
  },
  {
   "cell_type": "markdown",
   "metadata": {
    "id": "LsSbX3J-iUnF"
   },
   "source": [
    "Even though undrafted players are not part of the t-tests, we decided to take a look at the distribution of the years of experience."
   ]
  },
  {
   "cell_type": "code",
   "execution_count": 29,
   "metadata": {
    "colab": {
     "base_uri": "https://localhost:8080/",
     "height": 469
    },
    "id": "PznrPDy6iUQ5",
    "outputId": "030e7e8a-2489-46a2-c8c2-07a95bc482cb"
   },
   "outputs": [
    {
     "data": {
      "text/plain": [
       "Text(0.5, 1.0, 'Distribution of undrafted')"
      ]
     },
     "execution_count": 29,
     "metadata": {},
     "output_type": "execute_result"
    },
    {
     "data": {
      "image/png": "[encoded data removed]",
      "text/plain": [
       "<Figure size 432x288 with 1 Axes>"
      ]
     },
     "metadata": {
      "needs_background": "light"
     },
     "output_type": "display_data"
    }
   ],
   "source": [
    "und = df[df['Pick'] == 300]\n",
    "plt.hist(und['To'], bins = len(und['To'].unique()))\n",
    "plt.title('Distribution of undrafted')"
   ]
  },
  {
   "cell_type": "markdown",
   "metadata": {
    "id": "jdYkhu6k53Gu"
   },
   "source": [
    "Each round have 32 picks. So the top 2 rounds should have 64 picks."
   ]
  },
  {
   "cell_type": "code",
   "execution_count": 30,
   "metadata": {
    "id": "Zlzs3wgn4WkQ"
   },
   "outputs": [],
   "source": [
    "top2 = df[df['Pick'] <= 64] # dataframe for 1-2 rounders\n",
    "mid3 = df[(df['Pick'] > 64) & (df['Pick'] <= 160)] # dataframe for 3-5 rounders\n",
    "bot3 = df[(df['Pick'] >160) & (df['Pick'] < 300)] # dataframe for all other"
   ]
  },
  {
   "cell_type": "code",
   "execution_count": 31,
   "metadata": {
    "colab": {
     "base_uri": "https://localhost:8080/"
    },
    "id": "ID47vigh4-to",
    "outputId": "38a6a0db-b0b1-4722-b86a-889381fde620"
   },
   "outputs": [
    {
     "data": {
      "text/plain": [
       "(1593, 15)"
      ]
     },
     "execution_count": 31,
     "metadata": {},
     "output_type": "execute_result"
    }
   ],
   "source": [
    "top2.shape"
   ]
  },
  {
   "cell_type": "code",
   "execution_count": 32,
   "metadata": {
    "colab": {
     "base_uri": "https://localhost:8080/"
    },
    "id": "hxpwN_Xt6D6B",
    "outputId": "87ed498b-44e4-456f-a10e-2fcdf8e87432"
   },
   "outputs": [
    {
     "data": {
      "text/plain": [
       "(2260, 15)"
      ]
     },
     "execution_count": 32,
     "metadata": {},
     "output_type": "execute_result"
    }
   ],
   "source": [
    "mid3.shape"
   ]
  },
  {
   "cell_type": "code",
   "execution_count": 33,
   "metadata": {
    "colab": {
     "base_uri": "https://localhost:8080/"
    },
    "id": "uFTZn_Z5-88P",
    "outputId": "8919ac1c-d9aa-46d7-c1e1-a6e8327a1d1a"
   },
   "outputs": [
    {
     "data": {
      "text/plain": [
       "(1631, 15)"
      ]
     },
     "execution_count": 33,
     "metadata": {},
     "output_type": "execute_result"
    }
   ],
   "source": [
    "bot3.shape"
   ]
  },
  {
   "cell_type": "markdown",
   "metadata": {
    "id": "pRohCVC66Mjr"
   },
   "source": [
    "Here we see the distribution of the years of experience for both groups."
   ]
  },
  {
   "cell_type": "code",
   "execution_count": 34,
   "metadata": {
    "colab": {
     "base_uri": "https://localhost:8080/",
     "height": 469
    },
    "id": "jP2EgfMX6E4J",
    "outputId": "b19f66e9-aa1d-42e5-d043-357900c5c466"
   },
   "outputs": [
    {
     "data": {
      "text/plain": [
       "Text(0.5, 1.0, 'Distribution of top 2 round')"
      ]
     },
     "execution_count": 34,
     "metadata": {},
     "output_type": "execute_result"
    },
    {
     "data": {
      "image/png": "[encoded data removed]",
      "text/plain": [
       "<Figure size 432x288 with 1 Axes>"
      ]
     },
     "metadata": {
      "needs_background": "light"
     },
     "output_type": "display_data"
    }
   ],
   "source": [
    "plt.hist(top2['To'], bins = len(top2['To'].unique()))\n",
    "plt.title('Distribution of top 2 round')"
   ]
  },
  {
   "cell_type": "code",
   "execution_count": 35,
   "metadata": {
    "colab": {
     "base_uri": "https://localhost:8080/",
     "height": 469
    },
    "id": "X0eZP4zS6dZI",
    "outputId": "17b61f36-6b05-4d9b-fcff-b4d04dfd48e5"
   },
   "outputs": [
    {
     "data": {
      "text/plain": [
       "Text(0.5, 1.0, 'Distribution of 3-5 round')"
      ]
     },
     "execution_count": 35,
     "metadata": {},
     "output_type": "execute_result"
    },
    {
     "data": {
      "image/png": "[encoded data removed]",
      "text/plain": [
       "<Figure size 432x288 with 1 Axes>"
      ]
     },
     "metadata": {
      "needs_background": "light"
     },
     "output_type": "display_data"
    }
   ],
   "source": [
    "plt.hist((mid3['To']), bins = len(mid3['To'].unique()))\n",
    "plt.title('Distribution of 3-5 round')"
   ]
  },
  {
   "cell_type": "code",
   "execution_count": 36,
   "metadata": {
    "colab": {
     "base_uri": "https://localhost:8080/",
     "height": 469
    },
    "id": "F0g91LOB_hEb",
    "outputId": "fdc81904-d39e-4f4f-9277-e77d648b8912"
   },
   "outputs": [
    {
     "data": {
      "text/plain": [
       "Text(0.5, 1.0, 'Distribution of 6-7 round')"
      ]
     },
     "execution_count": 36,
     "metadata": {},
     "output_type": "execute_result"
    },
    {
     "data": {
      "image/png": "[encoded data removed]",
      "text/plain": [
       "<Figure size 432x288 with 1 Axes>"
      ]
     },
     "metadata": {
      "needs_background": "light"
     },
     "output_type": "display_data"
    }
   ],
   "source": [
    "plt.hist((bot3['To']), bins = len(bot3['To'].unique()))\n",
    "plt.title('Distribution of 6-7 round')"
   ]
  },
  {
   "cell_type": "markdown",
   "metadata": {
    "id": "UIY6zDId7gV4"
   },
   "source": [
    "We see that the distribution of the top 2 rounds is approximately normal, while the distribution of 3-5 round is slightly skewed right, while the distribution of 6-7 round is skewed right."
   ]
  },
  {
   "cell_type": "code",
   "execution_count": 37,
   "metadata": {
    "id": "9seQHZ0K61xg"
   },
   "outputs": [],
   "source": [
    "avg_y1 = top2['To'].mean()\n",
    "avg_y2 = mid3['To'].mean()\n",
    "avg_y3 = bot3['To'].mean()\n"
   ]
  },
  {
   "cell_type": "code",
   "execution_count": 38,
   "metadata": {
    "colab": {
     "base_uri": "https://localhost:8080/"
    },
    "id": "laAlddT_8MzX",
    "outputId": "5f8935fb-3ab1-473e-e4a5-62a5f8365b50"
   },
   "outputs": [
    {
     "name": "stdout",
     "output_type": "stream",
     "text": [
      "Average years of experience of 1-2 rounder is 7.767106089139987\n",
      "Average years of experience of 3-5 rounder is 5.71858407079646\n",
      "Average years of experience of 6-7 rounder is 4.540772532188841\n"
     ]
    }
   ],
   "source": [
    "print('Average years of experience of 1-2 rounder is ' + str(avg_y1))\n",
    "print('Average years of experience of 3-5 rounder is ' + str(avg_y2))\n",
    "print('Average years of experience of 6-7 rounder is ' + str(avg_y3))"
   ]
  },
  {
   "cell_type": "code",
   "execution_count": 39,
   "metadata": {
    "id": "BEF3bQU59niz"
   },
   "outputs": [],
   "source": [
    "from scipy.stats import ttest_ind, chisquare, normaltest"
   ]
  },
  {
   "cell_type": "markdown",
   "metadata": {
    "id": "uTRFsfdv__KM"
   },
   "source": [
    "### t-test of 1-2 round and 3-5 round"
   ]
  },
  {
   "cell_type": "code",
   "execution_count": 40,
   "metadata": {
    "id": "4C0TK1MV9iht"
   },
   "outputs": [],
   "source": [
    "t_val, p_val = ttest_ind(top2['To'], mid3['To'])"
   ]
  },
  {
   "cell_type": "code",
   "execution_count": 41,
   "metadata": {
    "colab": {
     "base_uri": "https://localhost:8080/"
    },
    "id": "9H8wwnLP-PWH",
    "outputId": "82543c9e-0495-441c-80a2-a6ba718afe8c"
   },
   "outputs": [
    {
     "name": "stdout",
     "output_type": "stream",
     "text": [
      "There is a significant difference!\n"
     ]
    }
   ],
   "source": [
    "if p_val < 0.01:\n",
    "    print('There is a significant difference!')\n",
    "else:\n",
    "    print('There is NOT a significant difference!')"
   ]
  },
  {
   "cell_type": "markdown",
   "metadata": {
    "id": "B_Xc04z1ADlV"
   },
   "source": [
    "### t-test of 1-2 round and 6-7 round"
   ]
  },
  {
   "cell_type": "code",
   "execution_count": 42,
   "metadata": {
    "id": "fFY1b7KFAHZ2"
   },
   "outputs": [],
   "source": [
    "t_val, p_val = ttest_ind(top2['To'], bot3['To'])"
   ]
  },
  {
   "cell_type": "code",
   "execution_count": 43,
   "metadata": {
    "colab": {
     "base_uri": "https://localhost:8080/"
    },
    "id": "DADiXa4YAKOf",
    "outputId": "f6a6046a-79d6-4c48-f856-b65a050aaa9f"
   },
   "outputs": [
    {
     "name": "stdout",
     "output_type": "stream",
     "text": [
      "There is a significant difference!\n"
     ]
    }
   ],
   "source": [
    "if p_val < 0.01:\n",
    "    print('There is a significant difference!')\n",
    "else:\n",
    "    print('There is NOT a significant difference!')"
   ]
  },
  {
   "cell_type": "markdown",
   "metadata": {
    "id": "hFzBaU1hALTd"
   },
   "source": [
    "### t-test of 3-5 round and 6-7 round"
   ]
  },
  {
   "cell_type": "code",
   "execution_count": 44,
   "metadata": {
    "id": "misZoEwFAQl3"
   },
   "outputs": [],
   "source": [
    "t_val, p_val = ttest_ind(mid3['To'], bot3['To'])"
   ]
  },
  {
   "cell_type": "code",
   "execution_count": 45,
   "metadata": {
    "colab": {
     "base_uri": "https://localhost:8080/"
    },
    "id": "6KUpI5c1AUo3",
    "outputId": "62265e13-0343-438d-cdf5-8d6c06235984"
   },
   "outputs": [
    {
     "name": "stdout",
     "output_type": "stream",
     "text": [
      "There is a significant difference!\n"
     ]
    }
   ],
   "source": [
    "if p_val < 0.01:\n",
    "    print('There is a significant difference!')\n",
    "else:\n",
    "    print('There is NOT a significant difference!')"
   ]
  },
  {
   "cell_type": "markdown",
   "metadata": {
    "id": "oDJfn9TAjJiZ"
   },
   "source": [
    "We conclude that the study is right: higher drafted players do indeed seem to have longer career lengths."
   ]
  },
  {
   "cell_type": "markdown",
   "metadata": {
    "id": "LicQI2aFCaWd"
   },
   "source": [
    "## Machine Learning Models"
   ]
  },
  {
   "cell_type": "markdown",
   "metadata": {
    "id": "_mf61clqjYJQ"
   },
   "source": [
    "### Preprocess Data"
   ]
  },
  {
   "cell_type": "code",
   "execution_count": 46,
   "metadata": {
    "id": "e3tDRw3uCdCt"
   },
   "outputs": [],
   "source": [
    "from sklearn.impute import KNNImputer"
   ]
  },
  {
   "cell_type": "markdown",
   "metadata": {
    "id": "Vsfl_oC-rL4w"
   },
   "source": [
    "We will be using the KNN imputer to impute missing values in the dataset"
   ]
  },
  {
   "cell_type": "code",
   "execution_count": 47,
   "metadata": {
    "id": "rIMbC-U6wH1A"
   },
   "outputs": [],
   "source": [
    "random = df.copy()"
   ]
  },
  {
   "cell_type": "markdown",
   "metadata": {
    "id": "9VXBz5qBuUeh"
   },
   "source": [
    "We will be imputing them by positions, to test it out, we will impute the data for only Quarterbacks"
   ]
  },
  {
   "cell_type": "code",
   "execution_count": null,
   "metadata": {
    "colab": {
     "base_uri": "https://localhost:8080/",
     "height": 597
    },
    "id": "RvgUuP9812tK",
    "outputId": "0c088fd0-f48f-473f-ca77-a1f3d0de2687"
   },
   "outputs": [],
   "source": [
    "randomQB = random[random['POS'] == 'QB']\n",
    "randomQB.drop(columns = 'Player', inplace = True)\n",
    "college = randomQB['College_x']\n",
    "team = randomQB['Team']\n",
    "randomQB.drop(columns = ['College_x', 'POS', 'Team'], inplace = True)\n",
    "randomQB.reset_index()"
   ]
  },
  {
   "cell_type": "code",
   "execution_count": 132,
   "metadata": {},
   "outputs": [
    {
     "data": {
      "text/html": [
       "<div>\n",
       "<style scoped>\n",
       "    .dataframe tbody tr th:only-of-type {\n",
       "        vertical-align: middle;\n",
       "    }\n",
       "\n",
       "    .dataframe tbody tr th {\n",
       "        vertical-align: top;\n",
       "    }\n",
       "\n",
       "    .dataframe thead th {\n",
       "        text-align: right;\n",
       "    }\n",
       "</style>\n",
       "<table border=\"1\" class=\"dataframe\">\n",
       "  <thead>\n",
       "    <tr style=\"text-align: right;\">\n",
       "      <th></th>\n",
       "      <th>Height (in)</th>\n",
       "      <th>Weight (lbs)</th>\n",
       "      <th>40 Yard</th>\n",
       "      <th>Bench Press</th>\n",
       "      <th>Vert Leap (in)</th>\n",
       "      <th>Broad Jump (in)</th>\n",
       "      <th>Shuttle</th>\n",
       "      <th>3Cone</th>\n",
       "      <th>To</th>\n",
       "      <th>Age</th>\n",
       "      <th>Pick</th>\n",
       "      <th>College</th>\n",
       "      <th>Team</th>\n",
       "    </tr>\n",
       "  </thead>\n",
       "  <tbody>\n",
       "    <tr>\n",
       "      <th>0</th>\n",
       "      <td>76.30</td>\n",
       "      <td>213.0</td>\n",
       "      <td>4.750</td>\n",
       "      <td>13.0</td>\n",
       "      <td>34.0</td>\n",
       "      <td>110.0</td>\n",
       "      <td>4.268</td>\n",
       "      <td>7.114</td>\n",
       "      <td>21.0</td>\n",
       "      <td>23.0</td>\n",
       "      <td>1.0</td>\n",
       "      <td>Miami (FL)</td>\n",
       "      <td>TAM</td>\n",
       "    </tr>\n",
       "    <tr>\n",
       "      <th>1</th>\n",
       "      <td>75.00</td>\n",
       "      <td>212.0</td>\n",
       "      <td>4.950</td>\n",
       "      <td>18.4</td>\n",
       "      <td>28.0</td>\n",
       "      <td>108.0</td>\n",
       "      <td>4.510</td>\n",
       "      <td>7.046</td>\n",
       "      <td>6.0</td>\n",
       "      <td>23.0</td>\n",
       "      <td>6.0</td>\n",
       "      <td>Colorado St.</td>\n",
       "      <td>STL</td>\n",
       "    </tr>\n",
       "    <tr>\n",
       "      <th>2</th>\n",
       "      <td>73.40</td>\n",
       "      <td>190.0</td>\n",
       "      <td>4.740</td>\n",
       "      <td>18.4</td>\n",
       "      <td>30.5</td>\n",
       "      <td>117.0</td>\n",
       "      <td>4.350</td>\n",
       "      <td>7.028</td>\n",
       "      <td>13.0</td>\n",
       "      <td>22.0</td>\n",
       "      <td>13.0</td>\n",
       "      <td>Oregon</td>\n",
       "      <td>ATL</td>\n",
       "    </tr>\n",
       "    <tr>\n",
       "      <th>3</th>\n",
       "      <td>74.30</td>\n",
       "      <td>203.0</td>\n",
       "      <td>4.868</td>\n",
       "      <td>18.4</td>\n",
       "      <td>30.8</td>\n",
       "      <td>111.4</td>\n",
       "      <td>4.216</td>\n",
       "      <td>7.086</td>\n",
       "      <td>14.0</td>\n",
       "      <td>23.0</td>\n",
       "      <td>26.0</td>\n",
       "      <td>Michigan</td>\n",
       "      <td>CHI</td>\n",
       "    </tr>\n",
       "    <tr>\n",
       "      <th>4</th>\n",
       "      <td>75.00</td>\n",
       "      <td>191.0</td>\n",
       "      <td>4.820</td>\n",
       "      <td>12.2</td>\n",
       "      <td>29.5</td>\n",
       "      <td>111.0</td>\n",
       "      <td>4.450</td>\n",
       "      <td>7.224</td>\n",
       "      <td>8.0</td>\n",
       "      <td>23.0</td>\n",
       "      <td>64.0</td>\n",
       "      <td>Baylor</td>\n",
       "      <td>HOU</td>\n",
       "    </tr>\n",
       "    <tr>\n",
       "      <th>...</th>\n",
       "      <td>...</td>\n",
       "      <td>...</td>\n",
       "      <td>...</td>\n",
       "      <td>...</td>\n",
       "      <td>...</td>\n",
       "      <td>...</td>\n",
       "      <td>...</td>\n",
       "      <td>...</td>\n",
       "      <td>...</td>\n",
       "      <td>...</td>\n",
       "      <td>...</td>\n",
       "      <td>...</td>\n",
       "      <td>...</td>\n",
       "    </tr>\n",
       "    <tr>\n",
       "      <th>307</th>\n",
       "      <td>72.38</td>\n",
       "      <td>212.0</td>\n",
       "      <td>4.790</td>\n",
       "      <td>14.0</td>\n",
       "      <td>32.0</td>\n",
       "      <td>103.0</td>\n",
       "      <td>4.530</td>\n",
       "      <td>7.380</td>\n",
       "      <td>2.0</td>\n",
       "      <td>23.2</td>\n",
       "      <td>300.0</td>\n",
       "      <td>Samford (AL)</td>\n",
       "      <td>Undrafted</td>\n",
       "    </tr>\n",
       "    <tr>\n",
       "      <th>308</th>\n",
       "      <td>76.00</td>\n",
       "      <td>230.0</td>\n",
       "      <td>4.910</td>\n",
       "      <td>15.0</td>\n",
       "      <td>29.5</td>\n",
       "      <td>106.0</td>\n",
       "      <td>4.530</td>\n",
       "      <td>7.510</td>\n",
       "      <td>1.0</td>\n",
       "      <td>23.0</td>\n",
       "      <td>300.0</td>\n",
       "      <td>Vanderbilt</td>\n",
       "      <td>Undrafted</td>\n",
       "    </tr>\n",
       "    <tr>\n",
       "      <th>309</th>\n",
       "      <td>77.88</td>\n",
       "      <td>231.0</td>\n",
       "      <td>4.890</td>\n",
       "      <td>12.2</td>\n",
       "      <td>27.5</td>\n",
       "      <td>110.0</td>\n",
       "      <td>4.750</td>\n",
       "      <td>7.500</td>\n",
       "      <td>3.0</td>\n",
       "      <td>22.0</td>\n",
       "      <td>122.0</td>\n",
       "      <td>Washington</td>\n",
       "      <td>IND</td>\n",
       "    </tr>\n",
       "    <tr>\n",
       "      <th>310</th>\n",
       "      <td>78.13</td>\n",
       "      <td>224.0</td>\n",
       "      <td>5.070</td>\n",
       "      <td>13.8</td>\n",
       "      <td>28.5</td>\n",
       "      <td>105.8</td>\n",
       "      <td>4.600</td>\n",
       "      <td>7.850</td>\n",
       "      <td>1.0</td>\n",
       "      <td>24.0</td>\n",
       "      <td>189.0</td>\n",
       "      <td>Oregon St.</td>\n",
       "      <td>JAX</td>\n",
       "    </tr>\n",
       "    <tr>\n",
       "      <th>311</th>\n",
       "      <td>76.00</td>\n",
       "      <td>231.0</td>\n",
       "      <td>4.680</td>\n",
       "      <td>15.0</td>\n",
       "      <td>33.0</td>\n",
       "      <td>117.0</td>\n",
       "      <td>4.430</td>\n",
       "      <td>7.250</td>\n",
       "      <td>1.0</td>\n",
       "      <td>23.0</td>\n",
       "      <td>300.0</td>\n",
       "      <td>Colorado</td>\n",
       "      <td>Undrafted</td>\n",
       "    </tr>\n",
       "  </tbody>\n",
       "</table>\n",
       "<p>312 rows × 13 columns</p>\n",
       "</div>"
      ],
      "text/plain": [
       "     Height (in)  Weight (lbs)  40 Yard  Bench Press  Vert Leap (in)  \\\n",
       "0          76.30         213.0    4.750         13.0            34.0   \n",
       "1          75.00         212.0    4.950         18.4            28.0   \n",
       "2          73.40         190.0    4.740         18.4            30.5   \n",
       "3          74.30         203.0    4.868         18.4            30.8   \n",
       "4          75.00         191.0    4.820         12.2            29.5   \n",
       "..           ...           ...      ...          ...             ...   \n",
       "307        72.38         212.0    4.790         14.0            32.0   \n",
       "308        76.00         230.0    4.910         15.0            29.5   \n",
       "309        77.88         231.0    4.890         12.2            27.5   \n",
       "310        78.13         224.0    5.070         13.8            28.5   \n",
       "311        76.00         231.0    4.680         15.0            33.0   \n",
       "\n",
       "     Broad Jump (in)  Shuttle  3Cone    To   Age   Pick       College  \\\n",
       "0              110.0    4.268  7.114  21.0  23.0    1.0    Miami (FL)   \n",
       "1              108.0    4.510  7.046   6.0  23.0    6.0  Colorado St.   \n",
       "2              117.0    4.350  7.028  13.0  22.0   13.0        Oregon   \n",
       "3              111.4    4.216  7.086  14.0  23.0   26.0      Michigan   \n",
       "4              111.0    4.450  7.224   8.0  23.0   64.0        Baylor   \n",
       "..               ...      ...    ...   ...   ...    ...           ...   \n",
       "307            103.0    4.530  7.380   2.0  23.2  300.0  Samford (AL)   \n",
       "308            106.0    4.530  7.510   1.0  23.0  300.0    Vanderbilt   \n",
       "309            110.0    4.750  7.500   3.0  22.0  122.0    Washington   \n",
       "310            105.8    4.600  7.850   1.0  24.0  189.0    Oregon St.   \n",
       "311            117.0    4.430  7.250   1.0  23.0  300.0      Colorado   \n",
       "\n",
       "          Team  \n",
       "0          TAM  \n",
       "1          STL  \n",
       "2          ATL  \n",
       "3          CHI  \n",
       "4          HOU  \n",
       "..         ...  \n",
       "307  Undrafted  \n",
       "308  Undrafted  \n",
       "309        IND  \n",
       "310        JAX  \n",
       "311  Undrafted  \n",
       "\n",
       "[312 rows x 13 columns]"
      ]
     },
     "execution_count": 132,
     "metadata": {},
     "output_type": "execute_result"
    }
   ],
   "source": [
    "randomQB"
   ]
  },
  {
   "cell_type": "code",
   "execution_count": 49,
   "metadata": {
    "colab": {
     "base_uri": "https://localhost:8080/",
     "height": 424
    },
    "id": "_t07ZOlo17-z",
    "outputId": "34e39d78-f046-46dc-b746-b75de4b67f47"
   },
   "outputs": [
    {
     "data": {
      "text/html": [
       "<div>\n",
       "<style scoped>\n",
       "    .dataframe tbody tr th:only-of-type {\n",
       "        vertical-align: middle;\n",
       "    }\n",
       "\n",
       "    .dataframe tbody tr th {\n",
       "        vertical-align: top;\n",
       "    }\n",
       "\n",
       "    .dataframe thead th {\n",
       "        text-align: right;\n",
       "    }\n",
       "</style>\n",
       "<table border=\"1\" class=\"dataframe\">\n",
       "  <thead>\n",
       "    <tr style=\"text-align: right;\">\n",
       "      <th></th>\n",
       "      <th>Height (in)</th>\n",
       "      <th>Weight (lbs)</th>\n",
       "      <th>40 Yard</th>\n",
       "      <th>Bench Press</th>\n",
       "      <th>Vert Leap (in)</th>\n",
       "      <th>Broad Jump (in)</th>\n",
       "      <th>Shuttle</th>\n",
       "      <th>3Cone</th>\n",
       "      <th>To</th>\n",
       "      <th>Age</th>\n",
       "      <th>Pick</th>\n",
       "      <th>College</th>\n",
       "      <th>Team</th>\n",
       "    </tr>\n",
       "  </thead>\n",
       "  <tbody>\n",
       "    <tr>\n",
       "      <th>0</th>\n",
       "      <td>76.30</td>\n",
       "      <td>213.0</td>\n",
       "      <td>4.750</td>\n",
       "      <td>13.0</td>\n",
       "      <td>34.0</td>\n",
       "      <td>110.0</td>\n",
       "      <td>4.268</td>\n",
       "      <td>7.114</td>\n",
       "      <td>21.0</td>\n",
       "      <td>23.0</td>\n",
       "      <td>1.0</td>\n",
       "      <td>Miami (FL)</td>\n",
       "      <td>TAM</td>\n",
       "    </tr>\n",
       "    <tr>\n",
       "      <th>1</th>\n",
       "      <td>75.00</td>\n",
       "      <td>212.0</td>\n",
       "      <td>4.950</td>\n",
       "      <td>18.4</td>\n",
       "      <td>28.0</td>\n",
       "      <td>108.0</td>\n",
       "      <td>4.510</td>\n",
       "      <td>7.046</td>\n",
       "      <td>6.0</td>\n",
       "      <td>23.0</td>\n",
       "      <td>6.0</td>\n",
       "      <td>Colorado St.</td>\n",
       "      <td>STL</td>\n",
       "    </tr>\n",
       "    <tr>\n",
       "      <th>2</th>\n",
       "      <td>73.40</td>\n",
       "      <td>190.0</td>\n",
       "      <td>4.740</td>\n",
       "      <td>18.4</td>\n",
       "      <td>30.5</td>\n",
       "      <td>117.0</td>\n",
       "      <td>4.350</td>\n",
       "      <td>7.028</td>\n",
       "      <td>13.0</td>\n",
       "      <td>22.0</td>\n",
       "      <td>13.0</td>\n",
       "      <td>Oregon</td>\n",
       "      <td>ATL</td>\n",
       "    </tr>\n",
       "    <tr>\n",
       "      <th>3</th>\n",
       "      <td>74.30</td>\n",
       "      <td>203.0</td>\n",
       "      <td>4.868</td>\n",
       "      <td>18.4</td>\n",
       "      <td>30.8</td>\n",
       "      <td>111.4</td>\n",
       "      <td>4.216</td>\n",
       "      <td>7.086</td>\n",
       "      <td>14.0</td>\n",
       "      <td>23.0</td>\n",
       "      <td>26.0</td>\n",
       "      <td>Michigan</td>\n",
       "      <td>CHI</td>\n",
       "    </tr>\n",
       "    <tr>\n",
       "      <th>4</th>\n",
       "      <td>75.00</td>\n",
       "      <td>191.0</td>\n",
       "      <td>4.820</td>\n",
       "      <td>12.2</td>\n",
       "      <td>29.5</td>\n",
       "      <td>111.0</td>\n",
       "      <td>4.450</td>\n",
       "      <td>7.224</td>\n",
       "      <td>8.0</td>\n",
       "      <td>23.0</td>\n",
       "      <td>64.0</td>\n",
       "      <td>Baylor</td>\n",
       "      <td>HOU</td>\n",
       "    </tr>\n",
       "    <tr>\n",
       "      <th>...</th>\n",
       "      <td>...</td>\n",
       "      <td>...</td>\n",
       "      <td>...</td>\n",
       "      <td>...</td>\n",
       "      <td>...</td>\n",
       "      <td>...</td>\n",
       "      <td>...</td>\n",
       "      <td>...</td>\n",
       "      <td>...</td>\n",
       "      <td>...</td>\n",
       "      <td>...</td>\n",
       "      <td>...</td>\n",
       "      <td>...</td>\n",
       "    </tr>\n",
       "    <tr>\n",
       "      <th>307</th>\n",
       "      <td>72.38</td>\n",
       "      <td>212.0</td>\n",
       "      <td>4.790</td>\n",
       "      <td>14.0</td>\n",
       "      <td>32.0</td>\n",
       "      <td>103.0</td>\n",
       "      <td>4.530</td>\n",
       "      <td>7.380</td>\n",
       "      <td>2.0</td>\n",
       "      <td>23.2</td>\n",
       "      <td>300.0</td>\n",
       "      <td>Samford (AL)</td>\n",
       "      <td>Undrafted</td>\n",
       "    </tr>\n",
       "    <tr>\n",
       "      <th>308</th>\n",
       "      <td>76.00</td>\n",
       "      <td>230.0</td>\n",
       "      <td>4.910</td>\n",
       "      <td>15.0</td>\n",
       "      <td>29.5</td>\n",
       "      <td>106.0</td>\n",
       "      <td>4.530</td>\n",
       "      <td>7.510</td>\n",
       "      <td>1.0</td>\n",
       "      <td>23.0</td>\n",
       "      <td>300.0</td>\n",
       "      <td>Vanderbilt</td>\n",
       "      <td>Undrafted</td>\n",
       "    </tr>\n",
       "    <tr>\n",
       "      <th>309</th>\n",
       "      <td>77.88</td>\n",
       "      <td>231.0</td>\n",
       "      <td>4.890</td>\n",
       "      <td>12.2</td>\n",
       "      <td>27.5</td>\n",
       "      <td>110.0</td>\n",
       "      <td>4.750</td>\n",
       "      <td>7.500</td>\n",
       "      <td>3.0</td>\n",
       "      <td>22.0</td>\n",
       "      <td>122.0</td>\n",
       "      <td>Washington</td>\n",
       "      <td>IND</td>\n",
       "    </tr>\n",
       "    <tr>\n",
       "      <th>310</th>\n",
       "      <td>78.13</td>\n",
       "      <td>224.0</td>\n",
       "      <td>5.070</td>\n",
       "      <td>13.8</td>\n",
       "      <td>28.5</td>\n",
       "      <td>105.8</td>\n",
       "      <td>4.600</td>\n",
       "      <td>7.850</td>\n",
       "      <td>1.0</td>\n",
       "      <td>24.0</td>\n",
       "      <td>189.0</td>\n",
       "      <td>Oregon St.</td>\n",
       "      <td>JAX</td>\n",
       "    </tr>\n",
       "    <tr>\n",
       "      <th>311</th>\n",
       "      <td>76.00</td>\n",
       "      <td>231.0</td>\n",
       "      <td>4.680</td>\n",
       "      <td>15.0</td>\n",
       "      <td>33.0</td>\n",
       "      <td>117.0</td>\n",
       "      <td>4.430</td>\n",
       "      <td>7.250</td>\n",
       "      <td>1.0</td>\n",
       "      <td>23.0</td>\n",
       "      <td>300.0</td>\n",
       "      <td>Colorado</td>\n",
       "      <td>Undrafted</td>\n",
       "    </tr>\n",
       "  </tbody>\n",
       "</table>\n",
       "<p>312 rows × 13 columns</p>\n",
       "</div>"
      ],
      "text/plain": [
       "     Height (in)  Weight (lbs)  40 Yard  Bench Press  Vert Leap (in)  \\\n",
       "0          76.30         213.0    4.750         13.0            34.0   \n",
       "1          75.00         212.0    4.950         18.4            28.0   \n",
       "2          73.40         190.0    4.740         18.4            30.5   \n",
       "3          74.30         203.0    4.868         18.4            30.8   \n",
       "4          75.00         191.0    4.820         12.2            29.5   \n",
       "..           ...           ...      ...          ...             ...   \n",
       "307        72.38         212.0    4.790         14.0            32.0   \n",
       "308        76.00         230.0    4.910         15.0            29.5   \n",
       "309        77.88         231.0    4.890         12.2            27.5   \n",
       "310        78.13         224.0    5.070         13.8            28.5   \n",
       "311        76.00         231.0    4.680         15.0            33.0   \n",
       "\n",
       "     Broad Jump (in)  Shuttle  3Cone    To   Age   Pick       College  \\\n",
       "0              110.0    4.268  7.114  21.0  23.0    1.0    Miami (FL)   \n",
       "1              108.0    4.510  7.046   6.0  23.0    6.0  Colorado St.   \n",
       "2              117.0    4.350  7.028  13.0  22.0   13.0        Oregon   \n",
       "3              111.4    4.216  7.086  14.0  23.0   26.0      Michigan   \n",
       "4              111.0    4.450  7.224   8.0  23.0   64.0        Baylor   \n",
       "..               ...      ...    ...   ...   ...    ...           ...   \n",
       "307            103.0    4.530  7.380   2.0  23.2  300.0  Samford (AL)   \n",
       "308            106.0    4.530  7.510   1.0  23.0  300.0    Vanderbilt   \n",
       "309            110.0    4.750  7.500   3.0  22.0  122.0    Washington   \n",
       "310            105.8    4.600  7.850   1.0  24.0  189.0    Oregon St.   \n",
       "311            117.0    4.430  7.250   1.0  23.0  300.0      Colorado   \n",
       "\n",
       "          Team  \n",
       "0          TAM  \n",
       "1          STL  \n",
       "2          ATL  \n",
       "3          CHI  \n",
       "4          HOU  \n",
       "..         ...  \n",
       "307  Undrafted  \n",
       "308  Undrafted  \n",
       "309        IND  \n",
       "310        JAX  \n",
       "311  Undrafted  \n",
       "\n",
       "[312 rows x 13 columns]"
      ]
     },
     "execution_count": 49,
     "metadata": {},
     "output_type": "execute_result"
    }
   ],
   "source": [
    "imputer = KNNImputer(n_neighbors = 5)\n",
    "imputer.fit(randomQB)\n",
    "randomQB = pd.DataFrame(imputer.transform(randomQB), columns = randomQB.columns)\n",
    "randomQB['College'] = list(college)\n",
    "randomQB['Team'] = list(team)\n",
    "randomQB"
   ]
  },
  {
   "cell_type": "code",
   "execution_count": 50,
   "metadata": {
    "colab": {
     "base_uri": "https://localhost:8080/"
    },
    "id": "MtDDGNqX2FkK",
    "outputId": "2e03ad65-d9bd-44e8-cf87-2f12d3e0488b"
   },
   "outputs": [
    {
     "data": {
      "text/plain": [
       "WR     924\n",
       "CB     782\n",
       "RB     665\n",
       "OLB    612\n",
       "DE     612\n",
       "DT     551\n",
       "OT     542\n",
       "TE     461\n",
       "OG     417\n",
       "QB     312\n",
       "ILB    310\n",
       "FS     301\n",
       "SS     266\n",
       "C      212\n",
       "FB     179\n",
       "P       48\n",
       "K       42\n",
       "LB      25\n",
       "EDG     12\n",
       "S       11\n",
       "LS       8\n",
       "DL       2\n",
       "Name: POS, dtype: int64"
      ]
     },
     "execution_count": 50,
     "metadata": {},
     "output_type": "execute_result"
    }
   ],
   "source": [
    "random['POS'].value_counts()"
   ]
  },
  {
   "cell_type": "markdown",
   "metadata": {
    "id": "PfKs1ha72MMi"
   },
   "source": [
    "DL have less than 5 players, for simplicity, we will ignore them."
   ]
  },
  {
   "cell_type": "code",
   "execution_count": 51,
   "metadata": {
    "colab": {
     "base_uri": "https://localhost:8080/",
     "height": 424
    },
    "id": "syqns8VZ2PVB",
    "outputId": "f1fde20e-9734-4d95-f227-f51879358ffa"
   },
   "outputs": [
    {
     "data": {
      "text/html": [
       "<div>\n",
       "<style scoped>\n",
       "    .dataframe tbody tr th:only-of-type {\n",
       "        vertical-align: middle;\n",
       "    }\n",
       "\n",
       "    .dataframe tbody tr th {\n",
       "        vertical-align: top;\n",
       "    }\n",
       "\n",
       "    .dataframe thead th {\n",
       "        text-align: right;\n",
       "    }\n",
       "</style>\n",
       "<table border=\"1\" class=\"dataframe\">\n",
       "  <thead>\n",
       "    <tr style=\"text-align: right;\">\n",
       "      <th></th>\n",
       "      <th>Player</th>\n",
       "      <th>College_x</th>\n",
       "      <th>POS</th>\n",
       "      <th>Height (in)</th>\n",
       "      <th>Weight (lbs)</th>\n",
       "      <th>40 Yard</th>\n",
       "      <th>Bench Press</th>\n",
       "      <th>Vert Leap (in)</th>\n",
       "      <th>Broad Jump (in)</th>\n",
       "      <th>Shuttle</th>\n",
       "      <th>3Cone</th>\n",
       "      <th>To</th>\n",
       "      <th>Age</th>\n",
       "      <th>Pick</th>\n",
       "      <th>Team</th>\n",
       "    </tr>\n",
       "  </thead>\n",
       "  <tbody>\n",
       "    <tr>\n",
       "      <th>0</th>\n",
       "      <td>Vinny Testaverde</td>\n",
       "      <td>Miami (FL)</td>\n",
       "      <td>QB</td>\n",
       "      <td>76.30</td>\n",
       "      <td>213</td>\n",
       "      <td>4.75</td>\n",
       "      <td>13.0</td>\n",
       "      <td>NaN</td>\n",
       "      <td>NaN</td>\n",
       "      <td>NaN</td>\n",
       "      <td>NaN</td>\n",
       "      <td>21.0</td>\n",
       "      <td>23.0</td>\n",
       "      <td>1</td>\n",
       "      <td>TAM</td>\n",
       "    </tr>\n",
       "    <tr>\n",
       "      <th>1</th>\n",
       "      <td>Alonzo Highsmith</td>\n",
       "      <td>Miami (FL)</td>\n",
       "      <td>FB</td>\n",
       "      <td>72.90</td>\n",
       "      <td>236</td>\n",
       "      <td>NaN</td>\n",
       "      <td>27.0</td>\n",
       "      <td>34.0</td>\n",
       "      <td>118.0</td>\n",
       "      <td>NaN</td>\n",
       "      <td>NaN</td>\n",
       "      <td>6.0</td>\n",
       "      <td>22.0</td>\n",
       "      <td>3</td>\n",
       "      <td>HOU</td>\n",
       "    </tr>\n",
       "    <tr>\n",
       "      <th>2</th>\n",
       "      <td>Kelly Stouffer</td>\n",
       "      <td>Colorado St.</td>\n",
       "      <td>QB</td>\n",
       "      <td>75.00</td>\n",
       "      <td>212</td>\n",
       "      <td>4.95</td>\n",
       "      <td>NaN</td>\n",
       "      <td>28.0</td>\n",
       "      <td>108.0</td>\n",
       "      <td>4.51</td>\n",
       "      <td>NaN</td>\n",
       "      <td>6.0</td>\n",
       "      <td>23.0</td>\n",
       "      <td>6</td>\n",
       "      <td>STL</td>\n",
       "    </tr>\n",
       "    <tr>\n",
       "      <th>3</th>\n",
       "      <td>Reggie Rogers</td>\n",
       "      <td>Washington</td>\n",
       "      <td>DE</td>\n",
       "      <td>78.30</td>\n",
       "      <td>268</td>\n",
       "      <td>4.76</td>\n",
       "      <td>NaN</td>\n",
       "      <td>29.0</td>\n",
       "      <td>103.0</td>\n",
       "      <td>4.91</td>\n",
       "      <td>NaN</td>\n",
       "      <td>6.0</td>\n",
       "      <td>23.0</td>\n",
       "      <td>7</td>\n",
       "      <td>DET</td>\n",
       "    </tr>\n",
       "    <tr>\n",
       "      <th>4</th>\n",
       "      <td>Jerome Brown</td>\n",
       "      <td>Miami (FL)</td>\n",
       "      <td>DT</td>\n",
       "      <td>74.30</td>\n",
       "      <td>292</td>\n",
       "      <td>4.86</td>\n",
       "      <td>17.0</td>\n",
       "      <td>NaN</td>\n",
       "      <td>NaN</td>\n",
       "      <td>NaN</td>\n",
       "      <td>NaN</td>\n",
       "      <td>5.0</td>\n",
       "      <td>22.0</td>\n",
       "      <td>9</td>\n",
       "      <td>PHI</td>\n",
       "    </tr>\n",
       "    <tr>\n",
       "      <th>...</th>\n",
       "      <td>...</td>\n",
       "      <td>...</td>\n",
       "      <td>...</td>\n",
       "      <td>...</td>\n",
       "      <td>...</td>\n",
       "      <td>...</td>\n",
       "      <td>...</td>\n",
       "      <td>...</td>\n",
       "      <td>...</td>\n",
       "      <td>...</td>\n",
       "      <td>...</td>\n",
       "      <td>...</td>\n",
       "      <td>...</td>\n",
       "      <td>...</td>\n",
       "      <td>...</td>\n",
       "    </tr>\n",
       "    <tr>\n",
       "      <th>8116</th>\n",
       "      <td>Marvin Wilson</td>\n",
       "      <td>Florida State</td>\n",
       "      <td>DT</td>\n",
       "      <td>75.88</td>\n",
       "      <td>303</td>\n",
       "      <td>5.09</td>\n",
       "      <td>23.0</td>\n",
       "      <td>25.5</td>\n",
       "      <td>107.0</td>\n",
       "      <td>4.83</td>\n",
       "      <td>7.71</td>\n",
       "      <td>1.0</td>\n",
       "      <td>NaN</td>\n",
       "      <td>300</td>\n",
       "      <td>Undrafted</td>\n",
       "    </tr>\n",
       "    <tr>\n",
       "      <th>8117</th>\n",
       "      <td>Josh Paschal</td>\n",
       "      <td>Kentucky</td>\n",
       "      <td>DE</td>\n",
       "      <td>74.63</td>\n",
       "      <td>268</td>\n",
       "      <td>4.77</td>\n",
       "      <td>NaN</td>\n",
       "      <td>37.5</td>\n",
       "      <td>123.0</td>\n",
       "      <td>NaN</td>\n",
       "      <td>NaN</td>\n",
       "      <td>1.0</td>\n",
       "      <td>22.0</td>\n",
       "      <td>46</td>\n",
       "      <td>DET</td>\n",
       "    </tr>\n",
       "    <tr>\n",
       "      <th>8118</th>\n",
       "      <td>Cam Jurgens</td>\n",
       "      <td>Nebraska</td>\n",
       "      <td>C</td>\n",
       "      <td>74.88</td>\n",
       "      <td>303</td>\n",
       "      <td>4.92</td>\n",
       "      <td>25.0</td>\n",
       "      <td>NaN</td>\n",
       "      <td>NaN</td>\n",
       "      <td>NaN</td>\n",
       "      <td>NaN</td>\n",
       "      <td>1.0</td>\n",
       "      <td>23.0</td>\n",
       "      <td>51</td>\n",
       "      <td>PHI</td>\n",
       "    </tr>\n",
       "    <tr>\n",
       "      <th>8119</th>\n",
       "      <td>Ed Ingram</td>\n",
       "      <td>LSU</td>\n",
       "      <td>OG</td>\n",
       "      <td>75.25</td>\n",
       "      <td>307</td>\n",
       "      <td>5.02</td>\n",
       "      <td>NaN</td>\n",
       "      <td>20.5</td>\n",
       "      <td>102.0</td>\n",
       "      <td>4.76</td>\n",
       "      <td>7.81</td>\n",
       "      <td>1.0</td>\n",
       "      <td>23.0</td>\n",
       "      <td>59</td>\n",
       "      <td>MIN</td>\n",
       "    </tr>\n",
       "    <tr>\n",
       "      <th>8120</th>\n",
       "      <td>Amare Barno</td>\n",
       "      <td>Virginia Tech</td>\n",
       "      <td>OLB</td>\n",
       "      <td>76.63</td>\n",
       "      <td>246</td>\n",
       "      <td>4.36</td>\n",
       "      <td>NaN</td>\n",
       "      <td>37.0</td>\n",
       "      <td>131.0</td>\n",
       "      <td>NaN</td>\n",
       "      <td>NaN</td>\n",
       "      <td>1.0</td>\n",
       "      <td>23.0</td>\n",
       "      <td>189</td>\n",
       "      <td>CAR</td>\n",
       "    </tr>\n",
       "  </tbody>\n",
       "</table>\n",
       "<p>7292 rows × 15 columns</p>\n",
       "</div>"
      ],
      "text/plain": [
       "                Player      College_x  POS  Height (in)  Weight (lbs)  \\\n",
       "0     Vinny Testaverde     Miami (FL)   QB        76.30           213   \n",
       "1     Alonzo Highsmith     Miami (FL)   FB        72.90           236   \n",
       "2       Kelly Stouffer   Colorado St.   QB        75.00           212   \n",
       "3        Reggie Rogers     Washington   DE        78.30           268   \n",
       "4         Jerome Brown     Miami (FL)   DT        74.30           292   \n",
       "...                ...            ...  ...          ...           ...   \n",
       "8116     Marvin Wilson  Florida State   DT        75.88           303   \n",
       "8117      Josh Paschal       Kentucky   DE        74.63           268   \n",
       "8118       Cam Jurgens       Nebraska    C        74.88           303   \n",
       "8119         Ed Ingram            LSU   OG        75.25           307   \n",
       "8120       Amare Barno  Virginia Tech  OLB        76.63           246   \n",
       "\n",
       "      40 Yard  Bench Press  Vert Leap (in)  Broad Jump (in)  Shuttle  3Cone  \\\n",
       "0        4.75         13.0             NaN              NaN      NaN    NaN   \n",
       "1         NaN         27.0            34.0            118.0      NaN    NaN   \n",
       "2        4.95          NaN            28.0            108.0     4.51    NaN   \n",
       "3        4.76          NaN            29.0            103.0     4.91    NaN   \n",
       "4        4.86         17.0             NaN              NaN      NaN    NaN   \n",
       "...       ...          ...             ...              ...      ...    ...   \n",
       "8116     5.09         23.0            25.5            107.0     4.83   7.71   \n",
       "8117     4.77          NaN            37.5            123.0      NaN    NaN   \n",
       "8118     4.92         25.0             NaN              NaN      NaN    NaN   \n",
       "8119     5.02          NaN            20.5            102.0     4.76   7.81   \n",
       "8120     4.36          NaN            37.0            131.0      NaN    NaN   \n",
       "\n",
       "        To   Age  Pick       Team  \n",
       "0     21.0  23.0     1        TAM  \n",
       "1      6.0  22.0     3        HOU  \n",
       "2      6.0  23.0     6        STL  \n",
       "3      6.0  23.0     7        DET  \n",
       "4      5.0  22.0     9        PHI  \n",
       "...    ...   ...   ...        ...  \n",
       "8116   1.0   NaN   300  Undrafted  \n",
       "8117   1.0  22.0    46        DET  \n",
       "8118   1.0  23.0    51        PHI  \n",
       "8119   1.0  23.0    59        MIN  \n",
       "8120   1.0  23.0   189        CAR  \n",
       "\n",
       "[7292 rows x 15 columns]"
      ]
     },
     "execution_count": 51,
     "metadata": {},
     "output_type": "execute_result"
    }
   ],
   "source": [
    "filter_list = ['DL']\n",
    "random = random[~random['POS'].isin(filter_list)]\n",
    "random"
   ]
  },
  {
   "cell_type": "markdown",
   "metadata": {
    "id": "cLIKMB-42U8p"
   },
   "source": [
    "Imputer for all positions:"
   ]
  },
  {
   "cell_type": "code",
   "execution_count": null,
   "metadata": {
    "colab": {
     "base_uri": "https://localhost:8080/"
    },
    "id": "NqQxFPth2SCA",
    "outputId": "853314e8-b8d5-49a9-9271-3807bfaac660"
   },
   "outputs": [],
   "source": [
    "alldf = {}\n",
    "allpos = list(random['POS'].unique())\n",
    "for i in allpos:\n",
    "  if i !='K' and i !='P':\n",
    "    print(i)\n",
    "    name = 'random{}'.format(i)\n",
    "    subdf = random[random['POS'] ==i]\n",
    "    subdf.drop(columns = 'Player', inplace = True)\n",
    "    subdf.dropna(subset = 'Pick', inplace = True)\n",
    "    college = subdf['College_x']\n",
    "    team = subdf['Team']\n",
    "    subdf.drop(columns = ['College_x', 'POS', 'Team'], inplace = True)\n",
    "    imputer.fit(subdf)\n",
    "    subdf = pd.DataFrame(imputer.transform(subdf), columns=subdf.columns)\n",
    "    subdf['College'] = list(college)\n",
    "    subdf['Team'] = list(team)\n",
    "    alldf[name] = subdf"
   ]
  },
  {
   "cell_type": "markdown",
   "metadata": {
    "id": "c4hfVt2O37oB"
   },
   "source": [
    "Since Kickers have the shuttle column completely missing, we will have a it separately."
   ]
  },
  {
   "cell_type": "markdown",
   "metadata": {
    "id": "e98SNrvY4zRg"
   },
   "source": [
    "Kickers are most similar to punters, we will be imputing kickers with punters."
   ]
  },
  {
   "cell_type": "code",
   "execution_count": null,
   "metadata": {
    "colab": {
     "base_uri": "https://localhost:8080/",
     "height": 597
    },
    "id": "qzoIXHXZ35Cn",
    "outputId": "f3f9b1da-63bc-4e2e-f4fd-466c282cca65"
   },
   "outputs": [],
   "source": [
    "randomKP = random[(random['POS'] == 'K') | (random['POS'] == 'P')]\n",
    "randomKP.drop(columns = 'Player', inplace = True)\n",
    "college = randomKP['College_x']\n",
    "team = randomKP['Team']\n",
    "randomKP.drop(columns = ['College_x', 'POS', 'Team'], inplace = True)\n",
    "randomKP.reset_index()\n",
    "randomKP"
   ]
  },
  {
   "cell_type": "code",
   "execution_count": 54,
   "metadata": {
    "colab": {
     "base_uri": "https://localhost:8080/",
     "height": 424
    },
    "id": "TMGtlE_Y6PKU",
    "outputId": "dc6bef9e-61cc-4d3e-d063-ccbf18dc2403"
   },
   "outputs": [
    {
     "data": {
      "text/html": [
       "<div>\n",
       "<style scoped>\n",
       "    .dataframe tbody tr th:only-of-type {\n",
       "        vertical-align: middle;\n",
       "    }\n",
       "\n",
       "    .dataframe tbody tr th {\n",
       "        vertical-align: top;\n",
       "    }\n",
       "\n",
       "    .dataframe thead th {\n",
       "        text-align: right;\n",
       "    }\n",
       "</style>\n",
       "<table border=\"1\" class=\"dataframe\">\n",
       "  <thead>\n",
       "    <tr style=\"text-align: right;\">\n",
       "      <th></th>\n",
       "      <th>Height (in)</th>\n",
       "      <th>Weight (lbs)</th>\n",
       "      <th>40 Yard</th>\n",
       "      <th>Bench Press</th>\n",
       "      <th>Vert Leap (in)</th>\n",
       "      <th>Broad Jump (in)</th>\n",
       "      <th>Shuttle</th>\n",
       "      <th>3Cone</th>\n",
       "      <th>To</th>\n",
       "      <th>Age</th>\n",
       "      <th>Pick</th>\n",
       "      <th>College</th>\n",
       "      <th>Team</th>\n",
       "    </tr>\n",
       "  </thead>\n",
       "  <tbody>\n",
       "    <tr>\n",
       "      <th>0</th>\n",
       "      <td>71.40</td>\n",
       "      <td>190.0</td>\n",
       "      <td>4.960</td>\n",
       "      <td>6.0</td>\n",
       "      <td>26.0</td>\n",
       "      <td>103.0</td>\n",
       "      <td>4.490</td>\n",
       "      <td>6.81</td>\n",
       "      <td>13.0</td>\n",
       "      <td>22.0</td>\n",
       "      <td>82.0</td>\n",
       "      <td>Washington</td>\n",
       "      <td>CLE</td>\n",
       "    </tr>\n",
       "    <tr>\n",
       "      <th>1</th>\n",
       "      <td>71.00</td>\n",
       "      <td>197.0</td>\n",
       "      <td>5.070</td>\n",
       "      <td>14.0</td>\n",
       "      <td>22.0</td>\n",
       "      <td>104.0</td>\n",
       "      <td>4.680</td>\n",
       "      <td>6.81</td>\n",
       "      <td>12.0</td>\n",
       "      <td>21.0</td>\n",
       "      <td>246.0</td>\n",
       "      <td>The Citadel</td>\n",
       "      <td>TAM</td>\n",
       "    </tr>\n",
       "    <tr>\n",
       "      <th>2</th>\n",
       "      <td>75.00</td>\n",
       "      <td>211.0</td>\n",
       "      <td>4.832</td>\n",
       "      <td>12.0</td>\n",
       "      <td>29.0</td>\n",
       "      <td>109.4</td>\n",
       "      <td>4.452</td>\n",
       "      <td>6.81</td>\n",
       "      <td>9.0</td>\n",
       "      <td>22.0</td>\n",
       "      <td>55.0</td>\n",
       "      <td>Minnesota</td>\n",
       "      <td>WAS</td>\n",
       "    </tr>\n",
       "    <tr>\n",
       "      <th>3</th>\n",
       "      <td>76.50</td>\n",
       "      <td>220.0</td>\n",
       "      <td>4.830</td>\n",
       "      <td>13.0</td>\n",
       "      <td>28.0</td>\n",
       "      <td>105.0</td>\n",
       "      <td>4.310</td>\n",
       "      <td>6.81</td>\n",
       "      <td>17.0</td>\n",
       "      <td>22.0</td>\n",
       "      <td>68.0</td>\n",
       "      <td>Ohio St.</td>\n",
       "      <td>PHO</td>\n",
       "    </tr>\n",
       "    <tr>\n",
       "      <th>4</th>\n",
       "      <td>69.60</td>\n",
       "      <td>187.0</td>\n",
       "      <td>4.832</td>\n",
       "      <td>7.0</td>\n",
       "      <td>29.0</td>\n",
       "      <td>109.4</td>\n",
       "      <td>4.452</td>\n",
       "      <td>6.81</td>\n",
       "      <td>3.0</td>\n",
       "      <td>24.0</td>\n",
       "      <td>100.0</td>\n",
       "      <td>La-Monroe</td>\n",
       "      <td>NWE</td>\n",
       "    </tr>\n",
       "    <tr>\n",
       "      <th>...</th>\n",
       "      <td>...</td>\n",
       "      <td>...</td>\n",
       "      <td>...</td>\n",
       "      <td>...</td>\n",
       "      <td>...</td>\n",
       "      <td>...</td>\n",
       "      <td>...</td>\n",
       "      <td>...</td>\n",
       "      <td>...</td>\n",
       "      <td>...</td>\n",
       "      <td>...</td>\n",
       "      <td>...</td>\n",
       "      <td>...</td>\n",
       "    </tr>\n",
       "    <tr>\n",
       "      <th>85</th>\n",
       "      <td>69.25</td>\n",
       "      <td>213.0</td>\n",
       "      <td>4.880</td>\n",
       "      <td>17.8</td>\n",
       "      <td>29.0</td>\n",
       "      <td>109.4</td>\n",
       "      <td>4.452</td>\n",
       "      <td>6.81</td>\n",
       "      <td>4.0</td>\n",
       "      <td>22.0</td>\n",
       "      <td>170.0</td>\n",
       "      <td>Oklahoma</td>\n",
       "      <td>CLE</td>\n",
       "    </tr>\n",
       "    <tr>\n",
       "      <th>86</th>\n",
       "      <td>69.63</td>\n",
       "      <td>196.0</td>\n",
       "      <td>4.810</td>\n",
       "      <td>17.4</td>\n",
       "      <td>29.9</td>\n",
       "      <td>115.8</td>\n",
       "      <td>4.452</td>\n",
       "      <td>6.81</td>\n",
       "      <td>2.0</td>\n",
       "      <td>23.0</td>\n",
       "      <td>228.0</td>\n",
       "      <td>Syracuse</td>\n",
       "      <td>ATL</td>\n",
       "    </tr>\n",
       "    <tr>\n",
       "      <th>87</th>\n",
       "      <td>73.00</td>\n",
       "      <td>190.0</td>\n",
       "      <td>4.888</td>\n",
       "      <td>13.6</td>\n",
       "      <td>29.9</td>\n",
       "      <td>115.8</td>\n",
       "      <td>4.452</td>\n",
       "      <td>6.81</td>\n",
       "      <td>3.0</td>\n",
       "      <td>22.6</td>\n",
       "      <td>300.0</td>\n",
       "      <td>Georgia</td>\n",
       "      <td>Undrafted</td>\n",
       "    </tr>\n",
       "    <tr>\n",
       "      <th>88</th>\n",
       "      <td>73.00</td>\n",
       "      <td>197.0</td>\n",
       "      <td>4.888</td>\n",
       "      <td>13.6</td>\n",
       "      <td>29.9</td>\n",
       "      <td>115.8</td>\n",
       "      <td>4.452</td>\n",
       "      <td>6.81</td>\n",
       "      <td>1.0</td>\n",
       "      <td>22.6</td>\n",
       "      <td>300.0</td>\n",
       "      <td>UCLA</td>\n",
       "      <td>Undrafted</td>\n",
       "    </tr>\n",
       "    <tr>\n",
       "      <th>89</th>\n",
       "      <td>72.75</td>\n",
       "      <td>193.0</td>\n",
       "      <td>4.888</td>\n",
       "      <td>13.6</td>\n",
       "      <td>29.9</td>\n",
       "      <td>121.0</td>\n",
       "      <td>4.452</td>\n",
       "      <td>6.81</td>\n",
       "      <td>2.0</td>\n",
       "      <td>22.6</td>\n",
       "      <td>300.0</td>\n",
       "      <td>Michigan</td>\n",
       "      <td>Undrafted</td>\n",
       "    </tr>\n",
       "  </tbody>\n",
       "</table>\n",
       "<p>90 rows × 13 columns</p>\n",
       "</div>"
      ],
      "text/plain": [
       "    Height (in)  Weight (lbs)  40 Yard  Bench Press  Vert Leap (in)  \\\n",
       "0         71.40         190.0    4.960          6.0            26.0   \n",
       "1         71.00         197.0    5.070         14.0            22.0   \n",
       "2         75.00         211.0    4.832         12.0            29.0   \n",
       "3         76.50         220.0    4.830         13.0            28.0   \n",
       "4         69.60         187.0    4.832          7.0            29.0   \n",
       "..          ...           ...      ...          ...             ...   \n",
       "85        69.25         213.0    4.880         17.8            29.0   \n",
       "86        69.63         196.0    4.810         17.4            29.9   \n",
       "87        73.00         190.0    4.888         13.6            29.9   \n",
       "88        73.00         197.0    4.888         13.6            29.9   \n",
       "89        72.75         193.0    4.888         13.6            29.9   \n",
       "\n",
       "    Broad Jump (in)  Shuttle  3Cone    To   Age   Pick      College       Team  \n",
       "0             103.0    4.490   6.81  13.0  22.0   82.0   Washington        CLE  \n",
       "1             104.0    4.680   6.81  12.0  21.0  246.0  The Citadel        TAM  \n",
       "2             109.4    4.452   6.81   9.0  22.0   55.0    Minnesota        WAS  \n",
       "3             105.0    4.310   6.81  17.0  22.0   68.0     Ohio St.        PHO  \n",
       "4             109.4    4.452   6.81   3.0  24.0  100.0    La-Monroe        NWE  \n",
       "..              ...      ...    ...   ...   ...    ...          ...        ...  \n",
       "85            109.4    4.452   6.81   4.0  22.0  170.0     Oklahoma        CLE  \n",
       "86            115.8    4.452   6.81   2.0  23.0  228.0     Syracuse        ATL  \n",
       "87            115.8    4.452   6.81   3.0  22.6  300.0      Georgia  Undrafted  \n",
       "88            115.8    4.452   6.81   1.0  22.6  300.0         UCLA  Undrafted  \n",
       "89            121.0    4.452   6.81   2.0  22.6  300.0     Michigan  Undrafted  \n",
       "\n",
       "[90 rows x 13 columns]"
      ]
     },
     "execution_count": 54,
     "metadata": {},
     "output_type": "execute_result"
    }
   ],
   "source": [
    "imputer = KNNImputer(n_neighbors = 5)\n",
    "imputer.fit(randomKP)\n",
    "randomKP = pd.DataFrame(imputer.transform(randomKP), columns = randomKP.columns)\n",
    "randomKP['College'] = list(college)\n",
    "randomKP['Team'] = list(team)\n",
    "randomKP"
   ]
  },
  {
   "cell_type": "code",
   "execution_count": 55,
   "metadata": {
    "id": "lMtj89Wd7qNN"
   },
   "outputs": [],
   "source": [
    "alldf['RandomKP'] = randomKP"
   ]
  },
  {
   "cell_type": "code",
   "execution_count": 161,
   "metadata": {
    "colab": {
     "base_uri": "https://localhost:8080/",
     "height": 424
    },
    "id": "_8HWADAO7tmi",
    "outputId": "5169729b-ed03-4c3e-9277-c7d29832e88d"
   },
   "outputs": [
    {
     "data": {
      "text/html": [
       "<div>\n",
       "<style scoped>\n",
       "    .dataframe tbody tr th:only-of-type {\n",
       "        vertical-align: middle;\n",
       "    }\n",
       "\n",
       "    .dataframe tbody tr th {\n",
       "        vertical-align: top;\n",
       "    }\n",
       "\n",
       "    .dataframe thead th {\n",
       "        text-align: right;\n",
       "    }\n",
       "</style>\n",
       "<table border=\"1\" class=\"dataframe\">\n",
       "  <thead>\n",
       "    <tr style=\"text-align: right;\">\n",
       "      <th></th>\n",
       "      <th>Height (in)</th>\n",
       "      <th>Weight (lbs)</th>\n",
       "      <th>40 Yard</th>\n",
       "      <th>Bench Press</th>\n",
       "      <th>Vert Leap (in)</th>\n",
       "      <th>Broad Jump (in)</th>\n",
       "      <th>Shuttle</th>\n",
       "      <th>3Cone</th>\n",
       "      <th>To</th>\n",
       "      <th>Age</th>\n",
       "      <th>Pick</th>\n",
       "      <th>College</th>\n",
       "      <th>Team</th>\n",
       "    </tr>\n",
       "  </thead>\n",
       "  <tbody>\n",
       "    <tr>\n",
       "      <th>0</th>\n",
       "      <td>76.30</td>\n",
       "      <td>213.0</td>\n",
       "      <td>4.750</td>\n",
       "      <td>13.0</td>\n",
       "      <td>34.0</td>\n",
       "      <td>110.0</td>\n",
       "      <td>4.268</td>\n",
       "      <td>7.114</td>\n",
       "      <td>21.0</td>\n",
       "      <td>23.0</td>\n",
       "      <td>1.0</td>\n",
       "      <td>Miami (FL)</td>\n",
       "      <td>TAM</td>\n",
       "    </tr>\n",
       "    <tr>\n",
       "      <th>1</th>\n",
       "      <td>75.00</td>\n",
       "      <td>212.0</td>\n",
       "      <td>4.950</td>\n",
       "      <td>18.4</td>\n",
       "      <td>28.0</td>\n",
       "      <td>108.0</td>\n",
       "      <td>4.510</td>\n",
       "      <td>7.046</td>\n",
       "      <td>6.0</td>\n",
       "      <td>23.0</td>\n",
       "      <td>6.0</td>\n",
       "      <td>Colorado St.</td>\n",
       "      <td>STL</td>\n",
       "    </tr>\n",
       "    <tr>\n",
       "      <th>2</th>\n",
       "      <td>73.40</td>\n",
       "      <td>190.0</td>\n",
       "      <td>4.740</td>\n",
       "      <td>18.4</td>\n",
       "      <td>30.5</td>\n",
       "      <td>117.0</td>\n",
       "      <td>4.350</td>\n",
       "      <td>7.028</td>\n",
       "      <td>13.0</td>\n",
       "      <td>22.0</td>\n",
       "      <td>13.0</td>\n",
       "      <td>Oregon</td>\n",
       "      <td>ATL</td>\n",
       "    </tr>\n",
       "    <tr>\n",
       "      <th>3</th>\n",
       "      <td>74.30</td>\n",
       "      <td>203.0</td>\n",
       "      <td>4.868</td>\n",
       "      <td>18.4</td>\n",
       "      <td>30.8</td>\n",
       "      <td>111.4</td>\n",
       "      <td>4.216</td>\n",
       "      <td>7.086</td>\n",
       "      <td>14.0</td>\n",
       "      <td>23.0</td>\n",
       "      <td>26.0</td>\n",
       "      <td>Michigan</td>\n",
       "      <td>CHI</td>\n",
       "    </tr>\n",
       "    <tr>\n",
       "      <th>4</th>\n",
       "      <td>75.00</td>\n",
       "      <td>191.0</td>\n",
       "      <td>4.820</td>\n",
       "      <td>12.2</td>\n",
       "      <td>29.5</td>\n",
       "      <td>111.0</td>\n",
       "      <td>4.450</td>\n",
       "      <td>7.224</td>\n",
       "      <td>8.0</td>\n",
       "      <td>23.0</td>\n",
       "      <td>64.0</td>\n",
       "      <td>Baylor</td>\n",
       "      <td>HOU</td>\n",
       "    </tr>\n",
       "    <tr>\n",
       "      <th>...</th>\n",
       "      <td>...</td>\n",
       "      <td>...</td>\n",
       "      <td>...</td>\n",
       "      <td>...</td>\n",
       "      <td>...</td>\n",
       "      <td>...</td>\n",
       "      <td>...</td>\n",
       "      <td>...</td>\n",
       "      <td>...</td>\n",
       "      <td>...</td>\n",
       "      <td>...</td>\n",
       "      <td>...</td>\n",
       "      <td>...</td>\n",
       "    </tr>\n",
       "    <tr>\n",
       "      <th>85</th>\n",
       "      <td>69.25</td>\n",
       "      <td>213.0</td>\n",
       "      <td>4.880</td>\n",
       "      <td>17.8</td>\n",
       "      <td>29.0</td>\n",
       "      <td>109.4</td>\n",
       "      <td>4.452</td>\n",
       "      <td>6.810</td>\n",
       "      <td>4.0</td>\n",
       "      <td>22.0</td>\n",
       "      <td>170.0</td>\n",
       "      <td>Oklahoma</td>\n",
       "      <td>CLE</td>\n",
       "    </tr>\n",
       "    <tr>\n",
       "      <th>86</th>\n",
       "      <td>69.63</td>\n",
       "      <td>196.0</td>\n",
       "      <td>4.810</td>\n",
       "      <td>17.4</td>\n",
       "      <td>29.9</td>\n",
       "      <td>115.8</td>\n",
       "      <td>4.452</td>\n",
       "      <td>6.810</td>\n",
       "      <td>2.0</td>\n",
       "      <td>23.0</td>\n",
       "      <td>228.0</td>\n",
       "      <td>Syracuse</td>\n",
       "      <td>ATL</td>\n",
       "    </tr>\n",
       "    <tr>\n",
       "      <th>87</th>\n",
       "      <td>73.00</td>\n",
       "      <td>190.0</td>\n",
       "      <td>4.888</td>\n",
       "      <td>13.6</td>\n",
       "      <td>29.9</td>\n",
       "      <td>115.8</td>\n",
       "      <td>4.452</td>\n",
       "      <td>6.810</td>\n",
       "      <td>3.0</td>\n",
       "      <td>22.6</td>\n",
       "      <td>300.0</td>\n",
       "      <td>Georgia</td>\n",
       "      <td>Undrafted</td>\n",
       "    </tr>\n",
       "    <tr>\n",
       "      <th>88</th>\n",
       "      <td>73.00</td>\n",
       "      <td>197.0</td>\n",
       "      <td>4.888</td>\n",
       "      <td>13.6</td>\n",
       "      <td>29.9</td>\n",
       "      <td>115.8</td>\n",
       "      <td>4.452</td>\n",
       "      <td>6.810</td>\n",
       "      <td>1.0</td>\n",
       "      <td>22.6</td>\n",
       "      <td>300.0</td>\n",
       "      <td>UCLA</td>\n",
       "      <td>Undrafted</td>\n",
       "    </tr>\n",
       "    <tr>\n",
       "      <th>89</th>\n",
       "      <td>72.75</td>\n",
       "      <td>193.0</td>\n",
       "      <td>4.888</td>\n",
       "      <td>13.6</td>\n",
       "      <td>29.9</td>\n",
       "      <td>121.0</td>\n",
       "      <td>4.452</td>\n",
       "      <td>6.810</td>\n",
       "      <td>2.0</td>\n",
       "      <td>22.6</td>\n",
       "      <td>300.0</td>\n",
       "      <td>Michigan</td>\n",
       "      <td>Undrafted</td>\n",
       "    </tr>\n",
       "  </tbody>\n",
       "</table>\n",
       "<p>7292 rows × 13 columns</p>\n",
       "</div>"
      ],
      "text/plain": [
       "    Height (in)  Weight (lbs)  40 Yard  Bench Press  Vert Leap (in)  \\\n",
       "0         76.30         213.0    4.750         13.0            34.0   \n",
       "1         75.00         212.0    4.950         18.4            28.0   \n",
       "2         73.40         190.0    4.740         18.4            30.5   \n",
       "3         74.30         203.0    4.868         18.4            30.8   \n",
       "4         75.00         191.0    4.820         12.2            29.5   \n",
       "..          ...           ...      ...          ...             ...   \n",
       "85        69.25         213.0    4.880         17.8            29.0   \n",
       "86        69.63         196.0    4.810         17.4            29.9   \n",
       "87        73.00         190.0    4.888         13.6            29.9   \n",
       "88        73.00         197.0    4.888         13.6            29.9   \n",
       "89        72.75         193.0    4.888         13.6            29.9   \n",
       "\n",
       "    Broad Jump (in)  Shuttle  3Cone    To   Age   Pick       College  \\\n",
       "0             110.0    4.268  7.114  21.0  23.0    1.0    Miami (FL)   \n",
       "1             108.0    4.510  7.046   6.0  23.0    6.0  Colorado St.   \n",
       "2             117.0    4.350  7.028  13.0  22.0   13.0        Oregon   \n",
       "3             111.4    4.216  7.086  14.0  23.0   26.0      Michigan   \n",
       "4             111.0    4.450  7.224   8.0  23.0   64.0        Baylor   \n",
       "..              ...      ...    ...   ...   ...    ...           ...   \n",
       "85            109.4    4.452  6.810   4.0  22.0  170.0      Oklahoma   \n",
       "86            115.8    4.452  6.810   2.0  23.0  228.0      Syracuse   \n",
       "87            115.8    4.452  6.810   3.0  22.6  300.0       Georgia   \n",
       "88            115.8    4.452  6.810   1.0  22.6  300.0          UCLA   \n",
       "89            121.0    4.452  6.810   2.0  22.6  300.0      Michigan   \n",
       "\n",
       "         Team  \n",
       "0         TAM  \n",
       "1         STL  \n",
       "2         ATL  \n",
       "3         CHI  \n",
       "4         HOU  \n",
       "..        ...  \n",
       "85        CLE  \n",
       "86        ATL  \n",
       "87  Undrafted  \n",
       "88  Undrafted  \n",
       "89  Undrafted  \n",
       "\n",
       "[7292 rows x 13 columns]"
      ]
     },
     "execution_count": 161,
     "metadata": {},
     "output_type": "execute_result"
    }
   ],
   "source": [
    "preprocessed = pd.DataFrame()\n",
    "for df in alldf.values():\n",
    "  preprocessed = pd.concat([preprocessed, df])\n",
    "preprocessed"
   ]
  },
  {
   "cell_type": "code",
   "execution_count": 162,
   "metadata": {
    "colab": {
     "base_uri": "https://localhost:8080/"
    },
    "id": "GViqrq6J7xBE",
    "outputId": "aa1042db-bd66-403b-cd91-8c56c248413f"
   },
   "outputs": [
    {
     "data": {
      "text/plain": [
       "['College']"
      ]
     },
     "execution_count": 162,
     "metadata": {},
     "output_type": "execute_result"
    }
   ],
   "source": [
    "nan_columns = preprocessed.columns[preprocessed.isna().any()].tolist()\n",
    "nan_columns"
   ]
  },
  {
   "cell_type": "markdown",
   "metadata": {
    "id": "_nBfthPp8uHl"
   },
   "source": [
    "Apparently a few players have np.nan as \"College\", we will also drop these rows."
   ]
  },
  {
   "cell_type": "code",
   "execution_count": 163,
   "metadata": {
    "colab": {
     "base_uri": "https://localhost:8080/",
     "height": 424
    },
    "id": "Ju_RYeFo71HC",
    "outputId": "a7b53768-ecd0-4279-f0c2-4cd09422a09e"
   },
   "outputs": [
    {
     "data": {
      "text/html": [
       "<div>\n",
       "<style scoped>\n",
       "    .dataframe tbody tr th:only-of-type {\n",
       "        vertical-align: middle;\n",
       "    }\n",
       "\n",
       "    .dataframe tbody tr th {\n",
       "        vertical-align: top;\n",
       "    }\n",
       "\n",
       "    .dataframe thead th {\n",
       "        text-align: right;\n",
       "    }\n",
       "</style>\n",
       "<table border=\"1\" class=\"dataframe\">\n",
       "  <thead>\n",
       "    <tr style=\"text-align: right;\">\n",
       "      <th></th>\n",
       "      <th>Height (in)</th>\n",
       "      <th>Weight (lbs)</th>\n",
       "      <th>40 Yard</th>\n",
       "      <th>Bench Press</th>\n",
       "      <th>Vert Leap (in)</th>\n",
       "      <th>Broad Jump (in)</th>\n",
       "      <th>Shuttle</th>\n",
       "      <th>3Cone</th>\n",
       "      <th>To</th>\n",
       "      <th>Age</th>\n",
       "      <th>Pick</th>\n",
       "      <th>College</th>\n",
       "      <th>Team</th>\n",
       "    </tr>\n",
       "  </thead>\n",
       "  <tbody>\n",
       "    <tr>\n",
       "      <th>0</th>\n",
       "      <td>76.30</td>\n",
       "      <td>213.0</td>\n",
       "      <td>4.750</td>\n",
       "      <td>13.0</td>\n",
       "      <td>34.0</td>\n",
       "      <td>110.0</td>\n",
       "      <td>4.268</td>\n",
       "      <td>7.114</td>\n",
       "      <td>21.0</td>\n",
       "      <td>23.0</td>\n",
       "      <td>1.0</td>\n",
       "      <td>Miami (FL)</td>\n",
       "      <td>TAM</td>\n",
       "    </tr>\n",
       "    <tr>\n",
       "      <th>1</th>\n",
       "      <td>75.00</td>\n",
       "      <td>212.0</td>\n",
       "      <td>4.950</td>\n",
       "      <td>18.4</td>\n",
       "      <td>28.0</td>\n",
       "      <td>108.0</td>\n",
       "      <td>4.510</td>\n",
       "      <td>7.046</td>\n",
       "      <td>6.0</td>\n",
       "      <td>23.0</td>\n",
       "      <td>6.0</td>\n",
       "      <td>Colorado St.</td>\n",
       "      <td>STL</td>\n",
       "    </tr>\n",
       "    <tr>\n",
       "      <th>2</th>\n",
       "      <td>73.40</td>\n",
       "      <td>190.0</td>\n",
       "      <td>4.740</td>\n",
       "      <td>18.4</td>\n",
       "      <td>30.5</td>\n",
       "      <td>117.0</td>\n",
       "      <td>4.350</td>\n",
       "      <td>7.028</td>\n",
       "      <td>13.0</td>\n",
       "      <td>22.0</td>\n",
       "      <td>13.0</td>\n",
       "      <td>Oregon</td>\n",
       "      <td>ATL</td>\n",
       "    </tr>\n",
       "    <tr>\n",
       "      <th>3</th>\n",
       "      <td>74.30</td>\n",
       "      <td>203.0</td>\n",
       "      <td>4.868</td>\n",
       "      <td>18.4</td>\n",
       "      <td>30.8</td>\n",
       "      <td>111.4</td>\n",
       "      <td>4.216</td>\n",
       "      <td>7.086</td>\n",
       "      <td>14.0</td>\n",
       "      <td>23.0</td>\n",
       "      <td>26.0</td>\n",
       "      <td>Michigan</td>\n",
       "      <td>CHI</td>\n",
       "    </tr>\n",
       "    <tr>\n",
       "      <th>4</th>\n",
       "      <td>75.00</td>\n",
       "      <td>191.0</td>\n",
       "      <td>4.820</td>\n",
       "      <td>12.2</td>\n",
       "      <td>29.5</td>\n",
       "      <td>111.0</td>\n",
       "      <td>4.450</td>\n",
       "      <td>7.224</td>\n",
       "      <td>8.0</td>\n",
       "      <td>23.0</td>\n",
       "      <td>64.0</td>\n",
       "      <td>Baylor</td>\n",
       "      <td>HOU</td>\n",
       "    </tr>\n",
       "    <tr>\n",
       "      <th>...</th>\n",
       "      <td>...</td>\n",
       "      <td>...</td>\n",
       "      <td>...</td>\n",
       "      <td>...</td>\n",
       "      <td>...</td>\n",
       "      <td>...</td>\n",
       "      <td>...</td>\n",
       "      <td>...</td>\n",
       "      <td>...</td>\n",
       "      <td>...</td>\n",
       "      <td>...</td>\n",
       "      <td>...</td>\n",
       "      <td>...</td>\n",
       "    </tr>\n",
       "    <tr>\n",
       "      <th>85</th>\n",
       "      <td>69.25</td>\n",
       "      <td>213.0</td>\n",
       "      <td>4.880</td>\n",
       "      <td>17.8</td>\n",
       "      <td>29.0</td>\n",
       "      <td>109.4</td>\n",
       "      <td>4.452</td>\n",
       "      <td>6.810</td>\n",
       "      <td>4.0</td>\n",
       "      <td>22.0</td>\n",
       "      <td>170.0</td>\n",
       "      <td>Oklahoma</td>\n",
       "      <td>CLE</td>\n",
       "    </tr>\n",
       "    <tr>\n",
       "      <th>86</th>\n",
       "      <td>69.63</td>\n",
       "      <td>196.0</td>\n",
       "      <td>4.810</td>\n",
       "      <td>17.4</td>\n",
       "      <td>29.9</td>\n",
       "      <td>115.8</td>\n",
       "      <td>4.452</td>\n",
       "      <td>6.810</td>\n",
       "      <td>2.0</td>\n",
       "      <td>23.0</td>\n",
       "      <td>228.0</td>\n",
       "      <td>Syracuse</td>\n",
       "      <td>ATL</td>\n",
       "    </tr>\n",
       "    <tr>\n",
       "      <th>87</th>\n",
       "      <td>73.00</td>\n",
       "      <td>190.0</td>\n",
       "      <td>4.888</td>\n",
       "      <td>13.6</td>\n",
       "      <td>29.9</td>\n",
       "      <td>115.8</td>\n",
       "      <td>4.452</td>\n",
       "      <td>6.810</td>\n",
       "      <td>3.0</td>\n",
       "      <td>22.6</td>\n",
       "      <td>300.0</td>\n",
       "      <td>Georgia</td>\n",
       "      <td>Undrafted</td>\n",
       "    </tr>\n",
       "    <tr>\n",
       "      <th>88</th>\n",
       "      <td>73.00</td>\n",
       "      <td>197.0</td>\n",
       "      <td>4.888</td>\n",
       "      <td>13.6</td>\n",
       "      <td>29.9</td>\n",
       "      <td>115.8</td>\n",
       "      <td>4.452</td>\n",
       "      <td>6.810</td>\n",
       "      <td>1.0</td>\n",
       "      <td>22.6</td>\n",
       "      <td>300.0</td>\n",
       "      <td>UCLA</td>\n",
       "      <td>Undrafted</td>\n",
       "    </tr>\n",
       "    <tr>\n",
       "      <th>89</th>\n",
       "      <td>72.75</td>\n",
       "      <td>193.0</td>\n",
       "      <td>4.888</td>\n",
       "      <td>13.6</td>\n",
       "      <td>29.9</td>\n",
       "      <td>121.0</td>\n",
       "      <td>4.452</td>\n",
       "      <td>6.810</td>\n",
       "      <td>2.0</td>\n",
       "      <td>22.6</td>\n",
       "      <td>300.0</td>\n",
       "      <td>Michigan</td>\n",
       "      <td>Undrafted</td>\n",
       "    </tr>\n",
       "  </tbody>\n",
       "</table>\n",
       "<p>7286 rows × 13 columns</p>\n",
       "</div>"
      ],
      "text/plain": [
       "    Height (in)  Weight (lbs)  40 Yard  Bench Press  Vert Leap (in)  \\\n",
       "0         76.30         213.0    4.750         13.0            34.0   \n",
       "1         75.00         212.0    4.950         18.4            28.0   \n",
       "2         73.40         190.0    4.740         18.4            30.5   \n",
       "3         74.30         203.0    4.868         18.4            30.8   \n",
       "4         75.00         191.0    4.820         12.2            29.5   \n",
       "..          ...           ...      ...          ...             ...   \n",
       "85        69.25         213.0    4.880         17.8            29.0   \n",
       "86        69.63         196.0    4.810         17.4            29.9   \n",
       "87        73.00         190.0    4.888         13.6            29.9   \n",
       "88        73.00         197.0    4.888         13.6            29.9   \n",
       "89        72.75         193.0    4.888         13.6            29.9   \n",
       "\n",
       "    Broad Jump (in)  Shuttle  3Cone    To   Age   Pick       College  \\\n",
       "0             110.0    4.268  7.114  21.0  23.0    1.0    Miami (FL)   \n",
       "1             108.0    4.510  7.046   6.0  23.0    6.0  Colorado St.   \n",
       "2             117.0    4.350  7.028  13.0  22.0   13.0        Oregon   \n",
       "3             111.4    4.216  7.086  14.0  23.0   26.0      Michigan   \n",
       "4             111.0    4.450  7.224   8.0  23.0   64.0        Baylor   \n",
       "..              ...      ...    ...   ...   ...    ...           ...   \n",
       "85            109.4    4.452  6.810   4.0  22.0  170.0      Oklahoma   \n",
       "86            115.8    4.452  6.810   2.0  23.0  228.0      Syracuse   \n",
       "87            115.8    4.452  6.810   3.0  22.6  300.0       Georgia   \n",
       "88            115.8    4.452  6.810   1.0  22.6  300.0          UCLA   \n",
       "89            121.0    4.452  6.810   2.0  22.6  300.0      Michigan   \n",
       "\n",
       "         Team  \n",
       "0         TAM  \n",
       "1         STL  \n",
       "2         ATL  \n",
       "3         CHI  \n",
       "4         HOU  \n",
       "..        ...  \n",
       "85        CLE  \n",
       "86        ATL  \n",
       "87  Undrafted  \n",
       "88  Undrafted  \n",
       "89  Undrafted  \n",
       "\n",
       "[7286 rows x 13 columns]"
      ]
     },
     "execution_count": 163,
     "metadata": {},
     "output_type": "execute_result"
    }
   ],
   "source": [
    "preprocessed = preprocessed.dropna()\n",
    "preprocessed"
   ]
  },
  {
   "cell_type": "code",
   "execution_count": 164,
   "metadata": {
    "id": "jkqNyAWg81LR"
   },
   "outputs": [],
   "source": [
    "import pandas as pd\n",
    "import seaborn as sns\n",
    "import numpy as np\n",
    "from sklearn.model_selection import train_test_split\n",
    "from sklearn.linear_model import LinearRegression\n",
    "from sklearn.metrics import recall_score\n",
    "from sklearn.preprocessing import LabelEncoder\n",
    "from sklearn.decomposition import PCA\n",
    "from sklearn import svm\n",
    "from sklearn.preprocessing import StandardScaler\n",
    "from sklearn.metrics import confusion_matrix, ConfusionMatrixDisplay, roc_curve, auc, precision_recall_curve, recall_score, precision_score, f1_score,accuracy_score, make_scorer\n",
    "import matplotlib.pyplot as plt\n",
    "from sklearn.model_selection import validation_curve\n",
    "from sklearn.tree import DecisionTreeRegressor\n",
    "from sklearn.metrics import classification_report\n",
    "from sklearn.model_selection import GridSearchCV\n",
    "from sklearn.model_selection import RepeatedKFold\n",
    "from sklearn.feature_selection import SelectKBest, f_classif\n",
    "from sklearn.model_selection import cross_val_score\n",
    "from sklearn.pipeline import Pipeline\n",
    "from sklearn.svm import LinearSVC\n",
    "import warnings\n",
    "from sklearn.exceptions import FitFailedWarning\n",
    "from sklearn.exceptions import ConvergenceWarning"
   ]
  },
  {
   "cell_type": "markdown",
   "metadata": {
    "id": "vpWaOmmRLYDu"
   },
   "source": [
    "One Hot Encode:"
   ]
  },
  {
   "cell_type": "code",
   "execution_count": 165,
   "metadata": {
    "id": "WxRBAG8nLUCd"
   },
   "outputs": [],
   "source": [
    "preprocessed = pd.get_dummies(preprocessed)"
   ]
  },
  {
   "cell_type": "code",
   "execution_count": 166,
   "metadata": {
    "id": "MNdXgnItLa49"
   },
   "outputs": [],
   "source": [
    "X = preprocessed.drop(columns = ['To']) #DF without years of experience and Total Games Played\n",
    "y = preprocessed['To']\n",
    "# Split data\n",
    "X_train, X_test, y_train, y_test = train_test_split(X, y, test_size=0.3, random_state=42)"
   ]
  },
  {
   "cell_type": "code",
   "execution_count": 167,
   "metadata": {
    "colab": {
     "base_uri": "https://localhost:8080/",
     "height": 236
    },
    "id": "mPby2dTILbPk",
    "outputId": "04132400-feb1-4f49-882a-c70c96e9690e"
   },
   "outputs": [
    {
     "data": {
      "text/html": [
       "<div>\n",
       "<style scoped>\n",
       "    .dataframe tbody tr th:only-of-type {\n",
       "        vertical-align: middle;\n",
       "    }\n",
       "\n",
       "    .dataframe tbody tr th {\n",
       "        vertical-align: top;\n",
       "    }\n",
       "\n",
       "    .dataframe thead th {\n",
       "        text-align: right;\n",
       "    }\n",
       "</style>\n",
       "<table border=\"1\" class=\"dataframe\">\n",
       "  <thead>\n",
       "    <tr style=\"text-align: right;\">\n",
       "      <th></th>\n",
       "      <th>Height (in)</th>\n",
       "      <th>Weight (lbs)</th>\n",
       "      <th>40 Yard</th>\n",
       "      <th>Bench Press</th>\n",
       "      <th>Vert Leap (in)</th>\n",
       "      <th>Broad Jump (in)</th>\n",
       "      <th>Shuttle</th>\n",
       "      <th>3Cone</th>\n",
       "      <th>Age</th>\n",
       "      <th>Pick</th>\n",
       "      <th>...</th>\n",
       "      <th>Team_RAI</th>\n",
       "      <th>Team_RAM</th>\n",
       "      <th>Team_SDG</th>\n",
       "      <th>Team_SEA</th>\n",
       "      <th>Team_SFO</th>\n",
       "      <th>Team_STL</th>\n",
       "      <th>Team_TAM</th>\n",
       "      <th>Team_TEN</th>\n",
       "      <th>Team_Undrafted</th>\n",
       "      <th>Team_WAS</th>\n",
       "    </tr>\n",
       "  </thead>\n",
       "  <tbody>\n",
       "    <tr>\n",
       "      <th>0</th>\n",
       "      <td>76.3</td>\n",
       "      <td>213.0</td>\n",
       "      <td>4.750</td>\n",
       "      <td>13.0</td>\n",
       "      <td>34.0</td>\n",
       "      <td>110.0</td>\n",
       "      <td>4.268</td>\n",
       "      <td>7.114</td>\n",
       "      <td>23.0</td>\n",
       "      <td>1.0</td>\n",
       "      <td>...</td>\n",
       "      <td>0</td>\n",
       "      <td>0</td>\n",
       "      <td>0</td>\n",
       "      <td>0</td>\n",
       "      <td>0</td>\n",
       "      <td>0</td>\n",
       "      <td>1</td>\n",
       "      <td>0</td>\n",
       "      <td>0</td>\n",
       "      <td>0</td>\n",
       "    </tr>\n",
       "    <tr>\n",
       "      <th>1</th>\n",
       "      <td>75.0</td>\n",
       "      <td>212.0</td>\n",
       "      <td>4.950</td>\n",
       "      <td>18.4</td>\n",
       "      <td>28.0</td>\n",
       "      <td>108.0</td>\n",
       "      <td>4.510</td>\n",
       "      <td>7.046</td>\n",
       "      <td>23.0</td>\n",
       "      <td>6.0</td>\n",
       "      <td>...</td>\n",
       "      <td>0</td>\n",
       "      <td>0</td>\n",
       "      <td>0</td>\n",
       "      <td>0</td>\n",
       "      <td>0</td>\n",
       "      <td>1</td>\n",
       "      <td>0</td>\n",
       "      <td>0</td>\n",
       "      <td>0</td>\n",
       "      <td>0</td>\n",
       "    </tr>\n",
       "    <tr>\n",
       "      <th>2</th>\n",
       "      <td>73.4</td>\n",
       "      <td>190.0</td>\n",
       "      <td>4.740</td>\n",
       "      <td>18.4</td>\n",
       "      <td>30.5</td>\n",
       "      <td>117.0</td>\n",
       "      <td>4.350</td>\n",
       "      <td>7.028</td>\n",
       "      <td>22.0</td>\n",
       "      <td>13.0</td>\n",
       "      <td>...</td>\n",
       "      <td>0</td>\n",
       "      <td>0</td>\n",
       "      <td>0</td>\n",
       "      <td>0</td>\n",
       "      <td>0</td>\n",
       "      <td>0</td>\n",
       "      <td>0</td>\n",
       "      <td>0</td>\n",
       "      <td>0</td>\n",
       "      <td>0</td>\n",
       "    </tr>\n",
       "    <tr>\n",
       "      <th>3</th>\n",
       "      <td>74.3</td>\n",
       "      <td>203.0</td>\n",
       "      <td>4.868</td>\n",
       "      <td>18.4</td>\n",
       "      <td>30.8</td>\n",
       "      <td>111.4</td>\n",
       "      <td>4.216</td>\n",
       "      <td>7.086</td>\n",
       "      <td>23.0</td>\n",
       "      <td>26.0</td>\n",
       "      <td>...</td>\n",
       "      <td>0</td>\n",
       "      <td>0</td>\n",
       "      <td>0</td>\n",
       "      <td>0</td>\n",
       "      <td>0</td>\n",
       "      <td>0</td>\n",
       "      <td>0</td>\n",
       "      <td>0</td>\n",
       "      <td>0</td>\n",
       "      <td>0</td>\n",
       "    </tr>\n",
       "    <tr>\n",
       "      <th>4</th>\n",
       "      <td>75.0</td>\n",
       "      <td>191.0</td>\n",
       "      <td>4.820</td>\n",
       "      <td>12.2</td>\n",
       "      <td>29.5</td>\n",
       "      <td>111.0</td>\n",
       "      <td>4.450</td>\n",
       "      <td>7.224</td>\n",
       "      <td>23.0</td>\n",
       "      <td>64.0</td>\n",
       "      <td>...</td>\n",
       "      <td>0</td>\n",
       "      <td>0</td>\n",
       "      <td>0</td>\n",
       "      <td>0</td>\n",
       "      <td>0</td>\n",
       "      <td>0</td>\n",
       "      <td>0</td>\n",
       "      <td>0</td>\n",
       "      <td>0</td>\n",
       "      <td>0</td>\n",
       "    </tr>\n",
       "  </tbody>\n",
       "</table>\n",
       "<p>5 rows × 504 columns</p>\n",
       "</div>"
      ],
      "text/plain": [
       "   Height (in)  Weight (lbs)  40 Yard  Bench Press  Vert Leap (in)  \\\n",
       "0         76.3         213.0    4.750         13.0            34.0   \n",
       "1         75.0         212.0    4.950         18.4            28.0   \n",
       "2         73.4         190.0    4.740         18.4            30.5   \n",
       "3         74.3         203.0    4.868         18.4            30.8   \n",
       "4         75.0         191.0    4.820         12.2            29.5   \n",
       "\n",
       "   Broad Jump (in)  Shuttle  3Cone   Age  Pick  ...  Team_RAI  Team_RAM  \\\n",
       "0            110.0    4.268  7.114  23.0   1.0  ...         0         0   \n",
       "1            108.0    4.510  7.046  23.0   6.0  ...         0         0   \n",
       "2            117.0    4.350  7.028  22.0  13.0  ...         0         0   \n",
       "3            111.4    4.216  7.086  23.0  26.0  ...         0         0   \n",
       "4            111.0    4.450  7.224  23.0  64.0  ...         0         0   \n",
       "\n",
       "   Team_SDG  Team_SEA  Team_SFO  Team_STL  Team_TAM  Team_TEN  Team_Undrafted  \\\n",
       "0         0         0         0         0         1         0               0   \n",
       "1         0         0         0         1         0         0               0   \n",
       "2         0         0         0         0         0         0               0   \n",
       "3         0         0         0         0         0         0               0   \n",
       "4         0         0         0         0         0         0               0   \n",
       "\n",
       "   Team_WAS  \n",
       "0         0  \n",
       "1         0  \n",
       "2         0  \n",
       "3         0  \n",
       "4         0  \n",
       "\n",
       "[5 rows x 504 columns]"
      ]
     },
     "execution_count": 167,
     "metadata": {},
     "output_type": "execute_result"
    }
   ],
   "source": [
    "X.head()"
   ]
  },
  {
   "cell_type": "code",
   "execution_count": 168,
   "metadata": {
    "colab": {
     "base_uri": "https://localhost:8080/"
    },
    "id": "RF_wYF6aLcQk",
    "outputId": "e5cf425d-5063-497b-f5e1-a0658cdc267d"
   },
   "outputs": [
    {
     "data": {
      "text/plain": [
       "0    21.0\n",
       "1     6.0\n",
       "2    13.0\n",
       "3    14.0\n",
       "4     8.0\n",
       "Name: To, dtype: float64"
      ]
     },
     "execution_count": 168,
     "metadata": {},
     "output_type": "execute_result"
    }
   ],
   "source": [
    "y.head()"
   ]
  },
  {
   "cell_type": "markdown",
   "metadata": {
    "id": "nABatS4XLf8K"
   },
   "source": [
    "## Baseline Model - Linear Regression"
   ]
  },
  {
   "cell_type": "code",
   "execution_count": 169,
   "metadata": {
    "id": "r4wyBlRzLdVc"
   },
   "outputs": [],
   "source": [
    "from sklearn.model_selection import GridSearchCV\n",
    "from sklearn.pipeline import make_pipeline\n",
    "from sklearn.preprocessing import StandardScaler\n",
    "from sklearn.model_selection import cross_val_score\n",
    "from sklearn.tree import DecisionTreeRegressor\n",
    "from sklearn.ensemble import RandomForestRegressor\n",
    "from sklearn.linear_model import LinearRegression\n",
    "from sklearn.impute import SimpleImputer"
   ]
  },
  {
   "cell_type": "code",
   "execution_count": 170,
   "metadata": {
    "id": "Fy1wPQ_CLeSV"
   },
   "outputs": [],
   "source": [
    "from sklearn.metrics import accuracy_score, r2_score, mean_squared_error, mean_absolute_error"
   ]
  },
  {
   "cell_type": "code",
   "execution_count": 171,
   "metadata": {
    "id": "yzJ-V6j7LfZl"
   },
   "outputs": [],
   "source": [
    "base = LinearRegression()"
   ]
  },
  {
   "cell_type": "code",
   "execution_count": 172,
   "metadata": {
    "colab": {
     "base_uri": "https://localhost:8080/"
    },
    "id": "9BiL2MkzLmDF",
    "outputId": "1dc5f236-32df-470f-bde3-d8e7d0e685c3"
   },
   "outputs": [
    {
     "name": "stdout",
     "output_type": "stream",
     "text": [
      "Training R2 score: 0.27904278071252975\n",
      "Testing R2 score: -1.813201046788697e+16\n"
     ]
    }
   ],
   "source": [
    "base = LinearRegression()\n",
    "base.fit(X_train, y_train)\n",
    "y_pred_train = base.predict(X_train)\n",
    "y_pred_test = base.predict(X_test)\n",
    "print('Training R2 score:', r2_score(y_train, y_pred_train))\n",
    "print('Testing R2 score:', r2_score(y_test, y_pred_test))"
   ]
  },
  {
   "cell_type": "code",
   "execution_count": 173,
   "metadata": {
    "colab": {
     "base_uri": "https://localhost:8080/",
     "height": 469
    },
    "id": "80WHyoKZLuVM",
    "outputId": "710f56e7-cd18-4dfc-ef7d-33556be9013f"
   },
   "outputs": [
    {
     "data": {
      "text/plain": [
       "Text(0, 0.5, 'Actual')"
      ]
     },
     "execution_count": 173,
     "metadata": {},
     "output_type": "execute_result"
    },
    {
     "data": {
      "image/png": "[encoded data removed]",
      "text/plain": [
       "<Figure size 432x288 with 1 Axes>"
      ]
     },
     "metadata": {
      "needs_background": "light"
     },
     "output_type": "display_data"
    }
   ],
   "source": [
    "plt.scatter(y_pred_train, y_train) #Plot of y_train and y_predicted\n",
    "plt.title('prediction on train set')\n",
    "plt.xlabel('Predicted')\n",
    "plt.ylabel('Actual')"
   ]
  },
  {
   "cell_type": "code",
   "execution_count": 174,
   "metadata": {
    "colab": {
     "base_uri": "https://localhost:8080/",
     "height": 487
    },
    "id": "Fa0zTIBl34K3",
    "outputId": "6f7fa6ac-00ba-43a4-e411-5c71ee96a33c"
   },
   "outputs": [
    {
     "data": {
      "text/plain": [
       "Text(0, 0.5, 'Actual')"
      ]
     },
     "execution_count": 174,
     "metadata": {},
     "output_type": "execute_result"
    },
    {
     "data": {
      "image/png": "[encoded data removed]",
      "text/plain": [
       "<Figure size 432x288 with 1 Axes>"
      ]
     },
     "metadata": {
      "needs_background": "light"
     },
     "output_type": "display_data"
    }
   ],
   "source": [
    "plt.scatter(y_pred_test, y_test)\n",
    "plt.title('prediction on test set')\n",
    "plt.xlabel('Predicted')\n",
    "plt.ylabel('Actual')"
   ]
  },
  {
   "cell_type": "markdown",
   "metadata": {
    "id": "2wMbeVGdL74N"
   },
   "source": [
    "It appears that the problem is too complex for the linear regression to generalize to unseen data."
   ]
  },
  {
   "cell_type": "markdown",
   "metadata": {
    "id": "6TDARr2wMH9u"
   },
   "source": [
    "## Random Forest Regressor"
   ]
  },
  {
   "cell_type": "code",
   "execution_count": 70,
   "metadata": {
    "colab": {
     "base_uri": "https://localhost:8080/"
    },
    "id": "2_wUNzDsMHYG",
    "outputId": "50a8929d-6a54-487a-d237-ef4b3be18c88"
   },
   "outputs": [
    {
     "name": "stdout",
     "output_type": "stream",
     "text": [
      "Training R2 score: 0.8829516991977316\n",
      "Testing R2 score: 0.14543718263843086\n"
     ]
    }
   ],
   "source": [
    "from sklearn.ensemble import RandomForestRegressor\n",
    "rf = RandomForestRegressor()\n",
    "rf.fit(X_train, y_train)\n",
    "y_pred_train = rf.predict(X_train)\n",
    "y_pred_test = rf.predict(X_test)\n",
    "print('Training R2 score:', r2_score(y_train, y_pred_train))\n",
    "print('Testing R2 score:', r2_score(y_test, y_pred_test))"
   ]
  },
  {
   "cell_type": "code",
   "execution_count": 71,
   "metadata": {
    "colab": {
     "base_uri": "https://localhost:8080/",
     "height": 469
    },
    "id": "PSr2EQLHMOU9",
    "outputId": "f5c92e23-24c3-4aa9-c597-0a77cdbbf1d6"
   },
   "outputs": [
    {
     "data": {
      "text/plain": [
       "Text(0, 0.5, 'Actual')"
      ]
     },
     "execution_count": 71,
     "metadata": {},
     "output_type": "execute_result"
    },
    {
     "data": {
      "image/png": "[encoded data removed]",
      "text/plain": [
       "<Figure size 432x288 with 1 Axes>"
      ]
     },
     "metadata": {
      "needs_background": "light"
     },
     "output_type": "display_data"
    }
   ],
   "source": [
    "plt.scatter(y_pred_train, y_train) #Plot of y_train and y_predicted\n",
    "plt.title('prediction on train set')\n",
    "plt.xlabel('Predicted')\n",
    "plt.ylabel('Actual')"
   ]
  },
  {
   "cell_type": "code",
   "execution_count": 72,
   "metadata": {
    "colab": {
     "base_uri": "https://localhost:8080/",
     "height": 469
    },
    "id": "dUan7TUA37sH",
    "outputId": "249dfbd4-98c2-4877-b35c-935ba704bdf4"
   },
   "outputs": [
    {
     "data": {
      "text/plain": [
       "Text(0, 0.5, 'Actual')"
      ]
     },
     "execution_count": 72,
     "metadata": {},
     "output_type": "execute_result"
    },
    {
     "data": {
      "image/png": "[encoded data removed]",
      "text/plain": [
       "<Figure size 432x288 with 1 Axes>"
      ]
     },
     "metadata": {
      "needs_background": "light"
     },
     "output_type": "display_data"
    }
   ],
   "source": [
    "plt.scatter(y_pred_test, y_test)\n",
    "plt.title('prediction on test set')\n",
    "plt.xlabel('Predicted')\n",
    "plt.ylabel('Actual')"
   ]
  },
  {
   "cell_type": "markdown",
   "metadata": {
    "id": "aHCEe-_jMUat"
   },
   "source": [
    "Even though the random forest regressor did pretty well in training, it still does not generalize well to unseen data."
   ]
  },
  {
   "cell_type": "markdown",
   "metadata": {
    "id": "wdWvlutBXDbb"
   },
   "source": [
    "Now we run a gridsearch to find best combination of hyperparameters that will result in best test score."
   ]
  },
  {
   "cell_type": "code",
   "execution_count": 73,
   "metadata": {
    "id": "o_E4DH1aXJj7"
   },
   "outputs": [],
   "source": [
    "from sklearn.model_selection import GridSearchCV\n",
    "from sklearn.model_selection import RepeatedKFold\n",
    "# rf = RandomForestRegressor()\n",
    "# param_grid = [{'n_estimators': [100, 200, 300],\n",
    "#                'min_samples_split': [2, 5, 10],\n",
    "#                'min_samples_leaf': [1, 2, 4],\n",
    "#               }]\n",
    "# grid_search = GridSearchCV(rf, param_grid, cv=5, scoring='r2', verbose=10)\n",
    "# grid_search.fit(X,y)\n",
    "\n",
    "# print('Best hyperparameters:', grid_search.best_params_)\n",
    "# print('Best score:', grid_search.best_score_)"
   ]
  },
  {
   "cell_type": "code",
   "execution_count": 74,
   "metadata": {
    "id": "pWt7hfFVXPTG"
   },
   "outputs": [],
   "source": [
    "Best_hyperparameters= {'min_samples_leaf': 4, 'min_samples_split': 2, 'n_estimators': 300}\n",
    "Best_score= 0.176639443021116834"
   ]
  },
  {
   "cell_type": "code",
   "execution_count": 75,
   "metadata": {
    "colab": {
     "base_uri": "https://localhost:8080/"
    },
    "id": "slVMQVTCXQua",
    "outputId": "7c9fd41e-e15a-4168-90f9-8b433ddf7499"
   },
   "outputs": [
    {
     "name": "stdout",
     "output_type": "stream",
     "text": [
      "Training R2 score: 0.6981206229492978\n",
      "Testing R2 score: 0.17348049880236593\n"
     ]
    }
   ],
   "source": [
    "rf = RandomForestRegressor(min_samples_leaf =4, min_samples_split=2, n_estimators=300, random_state=42)\n",
    "rf.fit(X_train, y_train)\n",
    "y_pred_train = rf.predict(X_train)\n",
    "y_pred_test = rf.predict(X_test)\n",
    "print('Training R2 score:', r2_score(y_train, y_pred_train))\n",
    "print('Testing R2 score:', r2_score(y_test, y_pred_test))"
   ]
  },
  {
   "cell_type": "code",
   "execution_count": 76,
   "metadata": {
    "colab": {
     "base_uri": "https://localhost:8080/",
     "height": 469
    },
    "id": "Ojw1c5oIXSIS",
    "outputId": "e381ed1a-4f58-4fd2-e074-e8e189b0431a"
   },
   "outputs": [
    {
     "data": {
      "text/plain": [
       "Text(0, 0.5, 'Actual')"
      ]
     },
     "execution_count": 76,
     "metadata": {},
     "output_type": "execute_result"
    },
    {
     "data": {
      "image/png": "[encoded data removed]",
      "text/plain": [
       "<Figure size 432x288 with 1 Axes>"
      ]
     },
     "metadata": {
      "needs_background": "light"
     },
     "output_type": "display_data"
    }
   ],
   "source": [
    "plt.scatter(y_pred_train, y_train)\n",
    "plt.title('prediction on training set')\n",
    "plt.xlabel('Predicted')\n",
    "plt.ylabel('Actual')"
   ]
  },
  {
   "cell_type": "code",
   "execution_count": 77,
   "metadata": {
    "colab": {
     "base_uri": "https://localhost:8080/",
     "height": 469
    },
    "id": "_oPjdtB3XTO3",
    "outputId": "1ceb6174-24cb-4d8d-d16c-d0df6552a854"
   },
   "outputs": [
    {
     "data": {
      "text/plain": [
       "Text(0, 0.5, 'Actual')"
      ]
     },
     "execution_count": 77,
     "metadata": {},
     "output_type": "execute_result"
    },
    {
     "data": {
      "image/png": "[encoded data removed]",
      "text/plain": [
       "<Figure size 432x288 with 1 Axes>"
      ]
     },
     "metadata": {
      "needs_background": "light"
     },
     "output_type": "display_data"
    }
   ],
   "source": [
    "plt.scatter(y_pred_test, y_test)\n",
    "plt.title('prediction on testing set')\n",
    "plt.xlabel('Predicted')\n",
    "plt.ylabel('Actual')"
   ]
  },
  {
   "cell_type": "markdown",
   "metadata": {
    "id": "ZBwHHGIOXynD"
   },
   "source": [
    "Even though the new model has a higher test score, when taking a closer look, we see that it's not able to predict successfully."
   ]
  },
  {
   "cell_type": "markdown",
   "metadata": {
    "id": "igwhNux7X-CC"
   },
   "source": [
    "## XGBoost Regressor"
   ]
  },
  {
   "cell_type": "markdown",
   "metadata": {
    "id": "yeblUQUclPfg"
   },
   "source": [
    "XGBoost are ensemble techniques similar to Random Forests, but instead of each model being trained independently, each new model is trained to correct the errors made by the previous models. This model should provide better results than Random Forest."
   ]
  },
  {
   "cell_type": "code",
   "execution_count": 78,
   "metadata": {
    "id": "n98hjGKslzRP"
   },
   "outputs": [],
   "source": [
    "import xgboost as xgb"
   ]
  },
  {
   "cell_type": "code",
   "execution_count": 79,
   "metadata": {
    "colab": {
     "base_uri": "https://localhost:8080/",
     "height": 248
    },
    "id": "LeMiynjnl24W",
    "outputId": "f9e5b06a-1409-41f5-b7d3-e2c837127dde"
   },
   "outputs": [
    {
     "data": {
      "text/plain": [
       "XGBRegressor(base_score=None, booster=None, callbacks=None,\n",
       "             colsample_bylevel=None, colsample_bynode=None,\n",
       "             colsample_bytree=None, early_stopping_rounds=None,\n",
       "             enable_categorical=False, eval_metric=None, feature_types=None,\n",
       "             gamma=None, gpu_id=None, grow_policy=None, importance_type=None,\n",
       "             interaction_constraints=None, learning_rate=None, max_bin=None,\n",
       "             max_cat_threshold=None, max_cat_to_onehot=None,\n",
       "             max_delta_step=None, max_depth=None, max_leaves=None,\n",
       "             min_child_weight=None, missing=nan, monotone_constraints=None,\n",
       "             n_estimators=100, n_jobs=None, num_parallel_tree=None,\n",
       "             predictor=None, random_state=None, ...)"
      ]
     },
     "execution_count": 79,
     "metadata": {},
     "output_type": "execute_result"
    }
   ],
   "source": [
    "xr = xgb.XGBRegressor()\n",
    "xr.fit(X_train, y_train)"
   ]
  },
  {
   "cell_type": "code",
   "execution_count": 80,
   "metadata": {
    "colab": {
     "base_uri": "https://localhost:8080/"
    },
    "id": "MaflGHqtmCnK",
    "outputId": "447b13d7-c77d-498b-9aed-007b90beba50"
   },
   "outputs": [
    {
     "name": "stdout",
     "output_type": "stream",
     "text": [
      "Training R2 score: 0.6163868805212683\n",
      "Testing R2 score: 0.13143818788290007\n"
     ]
    }
   ],
   "source": [
    "y_pred_train = xr.predict(X_train)\n",
    "y_pred_test = xr.predict(X_test)\n",
    "print('Training R2 score:', r2_score(y_train, y_pred_train))\n",
    "print('Testing R2 score:', r2_score(y_test, y_pred_test))"
   ]
  },
  {
   "cell_type": "code",
   "execution_count": 81,
   "metadata": {
    "colab": {
     "base_uri": "https://localhost:8080/",
     "height": 469
    },
    "id": "kq33yuHBmaWW",
    "outputId": "fa592815-74d1-45c3-e1c8-596b28488cf8"
   },
   "outputs": [
    {
     "data": {
      "text/plain": [
       "Text(0, 0.5, 'Actual')"
      ]
     },
     "execution_count": 81,
     "metadata": {},
     "output_type": "execute_result"
    },
    {
     "data": {
      "image/png": "[encoded data removed]",
      "text/plain": [
       "<Figure size 432x288 with 1 Axes>"
      ]
     },
     "metadata": {
      "needs_background": "light"
     },
     "output_type": "display_data"
    }
   ],
   "source": [
    "plt.scatter(y_pred_train, y_train)\n",
    "plt.title('prediction on training set')\n",
    "plt.xlabel('Predicted')\n",
    "plt.ylabel('Actual')"
   ]
  },
  {
   "cell_type": "code",
   "execution_count": 82,
   "metadata": {
    "colab": {
     "base_uri": "https://localhost:8080/",
     "height": 469
    },
    "id": "yBvuuG7EmcjD",
    "outputId": "0892da00-dff0-4863-dc09-f22f70fc75b7"
   },
   "outputs": [
    {
     "data": {
      "text/plain": [
       "Text(0, 0.5, 'Actual')"
      ]
     },
     "execution_count": 82,
     "metadata": {},
     "output_type": "execute_result"
    },
    {
     "data": {
      "image/png": "[encoded data removed]",
      "text/plain": [
       "<Figure size 432x288 with 1 Axes>"
      ]
     },
     "metadata": {
      "needs_background": "light"
     },
     "output_type": "display_data"
    }
   ],
   "source": [
    "plt.scatter(y_pred_test, y_test)\n",
    "plt.title('prediction on testing set')\n",
    "plt.xlabel('Predicted')\n",
    "plt.ylabel('Actual')"
   ]
  },
  {
   "cell_type": "markdown",
   "metadata": {
    "id": "itNawTB1mlfA"
   },
   "source": [
    "#### XGBoost does not appear to be a better model than Random Forest Regressors. It appears that the data is simply too complex for the regressors to make predictions."
   ]
  },
  {
   "cell_type": "markdown",
   "metadata": {
    "id": "oMsyezndmz_T"
   },
   "source": [
    "#### Another way of evaluating career success is whether or not they play more than 4 years, as 3.3 years is the average length of NFL players."
   ]
  },
  {
   "cell_type": "code",
   "execution_count": 83,
   "metadata": {
    "id": "us4j7siCoa9P"
   },
   "outputs": [],
   "source": [
    "def morethan4(x):\n",
    "    if int(x) >= 4:\n",
    "        return True\n",
    "    else:\n",
    "        return False"
   ]
  },
  {
   "cell_type": "code",
   "execution_count": 84,
   "metadata": {
    "id": "JpCH4wUdodoB"
   },
   "outputs": [],
   "source": [
    "preprocessed['To'] = preprocessed['To'].apply(morethan4)"
   ]
  },
  {
   "cell_type": "code",
   "execution_count": 85,
   "metadata": {
    "colab": {
     "base_uri": "https://localhost:8080/",
     "height": 236
    },
    "id": "KlKn0jI5ofhf",
    "outputId": "0e0c4e29-702a-4be6-9124-30316efb7238"
   },
   "outputs": [
    {
     "data": {
      "text/html": [
       "<div>\n",
       "<style scoped>\n",
       "    .dataframe tbody tr th:only-of-type {\n",
       "        vertical-align: middle;\n",
       "    }\n",
       "\n",
       "    .dataframe tbody tr th {\n",
       "        vertical-align: top;\n",
       "    }\n",
       "\n",
       "    .dataframe thead th {\n",
       "        text-align: right;\n",
       "    }\n",
       "</style>\n",
       "<table border=\"1\" class=\"dataframe\">\n",
       "  <thead>\n",
       "    <tr style=\"text-align: right;\">\n",
       "      <th></th>\n",
       "      <th>Height (in)</th>\n",
       "      <th>Weight (lbs)</th>\n",
       "      <th>40 Yard</th>\n",
       "      <th>Bench Press</th>\n",
       "      <th>Vert Leap (in)</th>\n",
       "      <th>Broad Jump (in)</th>\n",
       "      <th>Shuttle</th>\n",
       "      <th>3Cone</th>\n",
       "      <th>To</th>\n",
       "      <th>Age</th>\n",
       "      <th>...</th>\n",
       "      <th>Team_RAI</th>\n",
       "      <th>Team_RAM</th>\n",
       "      <th>Team_SDG</th>\n",
       "      <th>Team_SEA</th>\n",
       "      <th>Team_SFO</th>\n",
       "      <th>Team_STL</th>\n",
       "      <th>Team_TAM</th>\n",
       "      <th>Team_TEN</th>\n",
       "      <th>Team_Undrafted</th>\n",
       "      <th>Team_WAS</th>\n",
       "    </tr>\n",
       "  </thead>\n",
       "  <tbody>\n",
       "    <tr>\n",
       "      <th>0</th>\n",
       "      <td>76.3</td>\n",
       "      <td>213.0</td>\n",
       "      <td>4.750</td>\n",
       "      <td>13.0</td>\n",
       "      <td>34.0</td>\n",
       "      <td>110.0</td>\n",
       "      <td>4.268</td>\n",
       "      <td>7.114</td>\n",
       "      <td>True</td>\n",
       "      <td>23.0</td>\n",
       "      <td>...</td>\n",
       "      <td>0</td>\n",
       "      <td>0</td>\n",
       "      <td>0</td>\n",
       "      <td>0</td>\n",
       "      <td>0</td>\n",
       "      <td>0</td>\n",
       "      <td>1</td>\n",
       "      <td>0</td>\n",
       "      <td>0</td>\n",
       "      <td>0</td>\n",
       "    </tr>\n",
       "    <tr>\n",
       "      <th>1</th>\n",
       "      <td>75.0</td>\n",
       "      <td>212.0</td>\n",
       "      <td>4.950</td>\n",
       "      <td>18.4</td>\n",
       "      <td>28.0</td>\n",
       "      <td>108.0</td>\n",
       "      <td>4.510</td>\n",
       "      <td>7.046</td>\n",
       "      <td>True</td>\n",
       "      <td>23.0</td>\n",
       "      <td>...</td>\n",
       "      <td>0</td>\n",
       "      <td>0</td>\n",
       "      <td>0</td>\n",
       "      <td>0</td>\n",
       "      <td>0</td>\n",
       "      <td>1</td>\n",
       "      <td>0</td>\n",
       "      <td>0</td>\n",
       "      <td>0</td>\n",
       "      <td>0</td>\n",
       "    </tr>\n",
       "    <tr>\n",
       "      <th>2</th>\n",
       "      <td>73.4</td>\n",
       "      <td>190.0</td>\n",
       "      <td>4.740</td>\n",
       "      <td>18.4</td>\n",
       "      <td>30.5</td>\n",
       "      <td>117.0</td>\n",
       "      <td>4.350</td>\n",
       "      <td>7.028</td>\n",
       "      <td>True</td>\n",
       "      <td>22.0</td>\n",
       "      <td>...</td>\n",
       "      <td>0</td>\n",
       "      <td>0</td>\n",
       "      <td>0</td>\n",
       "      <td>0</td>\n",
       "      <td>0</td>\n",
       "      <td>0</td>\n",
       "      <td>0</td>\n",
       "      <td>0</td>\n",
       "      <td>0</td>\n",
       "      <td>0</td>\n",
       "    </tr>\n",
       "    <tr>\n",
       "      <th>3</th>\n",
       "      <td>74.3</td>\n",
       "      <td>203.0</td>\n",
       "      <td>4.868</td>\n",
       "      <td>18.4</td>\n",
       "      <td>30.8</td>\n",
       "      <td>111.4</td>\n",
       "      <td>4.216</td>\n",
       "      <td>7.086</td>\n",
       "      <td>True</td>\n",
       "      <td>23.0</td>\n",
       "      <td>...</td>\n",
       "      <td>0</td>\n",
       "      <td>0</td>\n",
       "      <td>0</td>\n",
       "      <td>0</td>\n",
       "      <td>0</td>\n",
       "      <td>0</td>\n",
       "      <td>0</td>\n",
       "      <td>0</td>\n",
       "      <td>0</td>\n",
       "      <td>0</td>\n",
       "    </tr>\n",
       "    <tr>\n",
       "      <th>4</th>\n",
       "      <td>75.0</td>\n",
       "      <td>191.0</td>\n",
       "      <td>4.820</td>\n",
       "      <td>12.2</td>\n",
       "      <td>29.5</td>\n",
       "      <td>111.0</td>\n",
       "      <td>4.450</td>\n",
       "      <td>7.224</td>\n",
       "      <td>True</td>\n",
       "      <td>23.0</td>\n",
       "      <td>...</td>\n",
       "      <td>0</td>\n",
       "      <td>0</td>\n",
       "      <td>0</td>\n",
       "      <td>0</td>\n",
       "      <td>0</td>\n",
       "      <td>0</td>\n",
       "      <td>0</td>\n",
       "      <td>0</td>\n",
       "      <td>0</td>\n",
       "      <td>0</td>\n",
       "    </tr>\n",
       "  </tbody>\n",
       "</table>\n",
       "<p>5 rows × 505 columns</p>\n",
       "</div>"
      ],
      "text/plain": [
       "   Height (in)  Weight (lbs)  40 Yard  Bench Press  Vert Leap (in)  \\\n",
       "0         76.3         213.0    4.750         13.0            34.0   \n",
       "1         75.0         212.0    4.950         18.4            28.0   \n",
       "2         73.4         190.0    4.740         18.4            30.5   \n",
       "3         74.3         203.0    4.868         18.4            30.8   \n",
       "4         75.0         191.0    4.820         12.2            29.5   \n",
       "\n",
       "   Broad Jump (in)  Shuttle  3Cone    To   Age  ...  Team_RAI  Team_RAM  \\\n",
       "0            110.0    4.268  7.114  True  23.0  ...         0         0   \n",
       "1            108.0    4.510  7.046  True  23.0  ...         0         0   \n",
       "2            117.0    4.350  7.028  True  22.0  ...         0         0   \n",
       "3            111.4    4.216  7.086  True  23.0  ...         0         0   \n",
       "4            111.0    4.450  7.224  True  23.0  ...         0         0   \n",
       "\n",
       "   Team_SDG  Team_SEA  Team_SFO  Team_STL  Team_TAM  Team_TEN  Team_Undrafted  \\\n",
       "0         0         0         0         0         1         0               0   \n",
       "1         0         0         0         1         0         0               0   \n",
       "2         0         0         0         0         0         0               0   \n",
       "3         0         0         0         0         0         0               0   \n",
       "4         0         0         0         0         0         0               0   \n",
       "\n",
       "   Team_WAS  \n",
       "0         0  \n",
       "1         0  \n",
       "2         0  \n",
       "3         0  \n",
       "4         0  \n",
       "\n",
       "[5 rows x 505 columns]"
      ]
     },
     "execution_count": 85,
     "metadata": {},
     "output_type": "execute_result"
    }
   ],
   "source": [
    "preprocessed.head()"
   ]
  },
  {
   "cell_type": "code",
   "execution_count": 86,
   "metadata": {
    "colab": {
     "base_uri": "https://localhost:8080/"
    },
    "id": "FihRxF-uokWq",
    "outputId": "16e75248-6107-4adb-f521-053928c0db77"
   },
   "outputs": [
    {
     "data": {
      "text/plain": [
       "True     0.615564\n",
       "False    0.384436\n",
       "Name: To, dtype: float64"
      ]
     },
     "execution_count": 86,
     "metadata": {},
     "output_type": "execute_result"
    }
   ],
   "source": [
    "preprocessed['To'].value_counts(True)"
   ]
  },
  {
   "cell_type": "code",
   "execution_count": 87,
   "metadata": {
    "id": "t1b3TFEZoofE"
   },
   "outputs": [],
   "source": [
    "X = preprocessed.drop(columns = 'To') #DF without years of experience\n",
    "y = preprocessed['To']\n",
    "# Split data\n",
    "X_train, X_test, y_train, y_test = train_test_split(X, y, test_size=0.3, random_state=42)"
   ]
  },
  {
   "cell_type": "markdown",
   "metadata": {
    "id": "PgY0W3t-ouLS"
   },
   "source": [
    "## KNN Classifier"
   ]
  },
  {
   "cell_type": "code",
   "execution_count": 88,
   "metadata": {
    "id": "T_e9Lqa8o0ao"
   },
   "outputs": [],
   "source": [
    "#imports for knn\n",
    "from sklearn.model_selection import train_test_split\n",
    "from sklearn.preprocessing import StandardScaler\n",
    "from sklearn.neighbors import KNeighborsClassifier\n",
    "from sklearn.metrics import accuracy_score"
   ]
  },
  {
   "cell_type": "markdown",
   "metadata": {
    "id": "Led08zBX5soa"
   },
   "source": [
    "Validation curve for how many neighbors:"
   ]
  },
  {
   "cell_type": "code",
   "execution_count": 89,
   "metadata": {
    "colab": {
     "base_uri": "https://localhost:8080/",
     "height": 564
    },
    "id": "quaXx4bYo2PC",
    "outputId": "9177eec3-0b4a-446f-f5f5-fad2e8903a43"
   },
   "outputs": [
    {
     "data": {
      "image/png": "[encoded data removed]",
      "text/plain": [
       "<Figure size 720x432 with 1 Axes>"
      ]
     },
     "metadata": {
      "needs_background": "light"
     },
     "output_type": "display_data"
    }
   ],
   "source": [
    "k_range = [10,50,60,70,100,150]\n",
    "train_scores, val_scores = validation_curve(KNeighborsClassifier(), X_train, y_train, \n",
    "                                             param_name='n_neighbors', \n",
    "                                             param_range=k_range)\n",
    "\n",
    "# Plot validation curve\n",
    "plt.figure(figsize=(10, 6))\n",
    "plt.title(\"KNN Validation Curve\")\n",
    "plt.xlabel(\"K\")\n",
    "plt.ylabel(\"Accuracy\")\n",
    "plt.xticks(k_range)\n",
    "plt.plot(k_range, np.median(train_scores, 1), color='blue', label='training score')\n",
    "plt.plot(k_range, np.median(val_scores, 1), color='red', label='validation score')\n",
    "plt.legend(loc=\"best\")\n",
    "plt.show()"
   ]
  },
  {
   "cell_type": "markdown",
   "metadata": {
    "id": "WzLlGkRLo9df"
   },
   "source": [
    "It appears k neighbors of about 50-70 is the sweet spot; we will use neighbors of 50."
   ]
  },
  {
   "cell_type": "code",
   "execution_count": 90,
   "metadata": {
    "colab": {
     "base_uri": "https://localhost:8080/",
     "height": 925
    },
    "id": "9QdjGFjQo79S",
    "outputId": "32f4eebc-7c13-4bb6-d48a-a8e63ceb6952"
   },
   "outputs": [
    {
     "name": "stdout",
     "output_type": "stream",
     "text": [
      "The accuracy score for this model is: 0.6838975297346752\n",
      "              precision    recall  f1-score   support\n",
      "\n",
      "       False       0.59      0.52      0.55       818\n",
      "        True       0.73      0.78      0.76      1368\n",
      "\n",
      "    accuracy                           0.68      2186\n",
      "   macro avg       0.66      0.65      0.65      2186\n",
      "weighted avg       0.68      0.68      0.68      2186\n",
      "\n"
     ]
    },
    {
     "data": {
      "image/png": "[encoded data removed]",
      "text/plain": [
       "<Figure size 540x540 with 1 Axes>"
      ]
     },
     "metadata": {
      "needs_background": "light"
     },
     "output_type": "display_data"
    },
    {
     "name": "stdout",
     "output_type": "stream",
     "text": [
      "Recall: 0.7807017543859649\n",
      "Precision: 0.7320082248115147\n",
      "F1 score: 0.7555712769720552\n"
     ]
    }
   ],
   "source": [
    "from sklearn import metrics\n",
    "from sklearn.metrics import classification_report\n",
    "from sklearn.preprocessing import LabelEncoder\n",
    "from sklearn.metrics import roc_auc_score, roc_curve\n",
    "import matplotlib.pyplot as plt\n",
    "from sklearn import metrics\n",
    "from sklearn.metrics import classification_report\n",
    "from sklearn.metrics import roc_auc_score, roc_curve\n",
    "# train the KNN classifier\n",
    "knn = KNeighborsClassifier(n_neighbors=50, metric='euclidean')\n",
    "knn.fit(X_train, y_train)\n",
    "y_pred = knn.predict(X_test)\n",
    "print(\"The accuracy score for this model is:\", metrics.accuracy_score(y_test, y_pred))\n",
    "print(classification_report(y_test, y_pred))\n",
    "\n",
    "cm2 = metrics.confusion_matrix(y_test, y_pred)\n",
    "\n",
    "fig, ax = plt.subplots(figsize=(7.5, 7.5))\n",
    "ax.matshow(cm2, cmap=plt.cm.Blues, alpha=0.3)\n",
    "for i in range(cm2.shape[0]):\n",
    "    for j in range(cm2.shape[1]):\n",
    "        ax.text(x=j, y=i,s=cm2[i, j], va='center', ha='center', size='xx-large')\n",
    "\n",
    "plt.xlabel('Predictions', fontsize=18)\n",
    "plt.ylabel('Actuals', fontsize=18)\n",
    "plt.title('Confusion Matrix', fontsize=18)\n",
    "plt.show()\n",
    "recall = recall_score(y_test, y_pred, pos_label=True)\n",
    "precision = precision_score(y_test, y_pred, pos_label=True)\n",
    "f1 = f1_score(y_test, y_pred, pos_label=True)\n",
    "print(\"Recall:\", recall)\n",
    "print(\"Precision:\", precision)\n",
    "print(\"F1 score:\", f1)"
   ]
  },
  {
   "cell_type": "code",
   "execution_count": null,
   "metadata": {
    "colab": {
     "base_uri": "https://localhost:8080/"
    },
    "id": "m_bNy1yWpR0-",
    "outputId": "63c041ea-8bdc-41ba-ee1c-27c50f4b077f"
   },
   "outputs": [],
   "source": [
    "from sklearn.feature_selection import SelectKBest, f_classif\n",
    "selector = SelectKBest(f_classif, k=5) # k specifies the number of top features to select\n",
    "selector.fit(X_test, y_test)\n",
    "X_selected = selector.transform(X_test)\n",
    "\n",
    "knn.fit(X_selected, y_test)\n",
    "\n",
    "# Print the importance of each feature\n",
    "feature_importance = selector.scores_\n",
    "top_feature_indices = selector.get_support(indices=True)\n",
    "\n",
    "# Get the names of the top features\n",
    "top_feature_names = [X.columns[i] for i in top_feature_indices]\n"
   ]
  },
  {
   "cell_type": "code",
   "execution_count": 131,
   "metadata": {},
   "outputs": [
    {
     "data": {
      "text/plain": [
       "['Bench Press', 'Age', 'Pick', 'Team_MIA', 'Team_Undrafted']"
      ]
     },
     "execution_count": 131,
     "metadata": {},
     "output_type": "execute_result"
    }
   ],
   "source": [
    "# Print the name of the most important feature\n",
    "top_feature_names"
   ]
  },
  {
   "cell_type": "markdown",
   "metadata": {
    "id": "rYL0GdsWpWAU"
   },
   "source": [
    "From the application of SelectKBest to KNN model, age of draft, pick number, and whether or not a person is undrafted seem to be the main feature of importance. This indicates that the higher the pick number, the higher the chances of the player playing over 4 years, which is what we would expect. Surprisingly, bench press seeemed to matter too."
   ]
  },
  {
   "cell_type": "code",
   "execution_count": 92,
   "metadata": {
    "colab": {
     "base_uri": "https://localhost:8080/"
    },
    "id": "5n2xIM1XpgG2",
    "outputId": "58e01543-bed6-4749-bf8d-95e99e6d1b42"
   },
   "outputs": [
    {
     "name": "stdout",
     "output_type": "stream",
     "text": [
      "Training set score: 0.706078431372549\n",
      "Test set score: 0.5237877401646843\n"
     ]
    }
   ],
   "source": [
    "from sklearn.pipeline import Pipeline\n",
    "from sklearn.feature_selection import VarianceThreshold\n",
    "pipe = Pipeline([\n",
    "('scaler', StandardScaler()),\n",
    "('selector', VarianceThreshold()),\n",
    "('classifier', KNeighborsClassifier())\n",
    "])\n",
    "\n",
    "pipe.fit(X_train, y_train)\n",
    "print('Training set score: ' + str(pipe.score(X_train,y_train)))\n",
    "print('Test set score: ' + str(pipe.score(X_test,y_test)))"
   ]
  },
  {
   "cell_type": "markdown",
   "metadata": {
    "id": "0lFg77zQppsL"
   },
   "source": [
    "Gridsearching best n neighbors; from the validation curve, its between 50-70."
   ]
  },
  {
   "cell_type": "code",
   "execution_count": 93,
   "metadata": {
    "id": "F2kTFeSgplko"
   },
   "outputs": [],
   "source": [
    "from sklearn.model_selection import GridSearchCV\n",
    "\n",
    "parameters = {\n",
    " 'classifier__n_neighbors': [50, 55, 60, 65, 70]\n",
    "}\n",
    "# create grid search\n",
    "grid = GridSearchCV(pipe, parameters,scoring=['accuracy', 'roc_auc_ovr', 'f1_micro'],\n",
    "                    cv=5, n_jobs = -1, refit=False,verbose=0).fit(X_train, y_train)"
   ]
  },
  {
   "cell_type": "code",
   "execution_count": 94,
   "metadata": {
    "colab": {
     "base_uri": "https://localhost:8080/"
    },
    "id": "0iT9FzlIpwt5",
    "outputId": "7430d4c9-8d2d-4282-f34f-47c46d13d851"
   },
   "outputs": [
    {
     "data": {
      "text/plain": [
       "{'classifier__n_neighbors': 70}"
      ]
     },
     "execution_count": 94,
     "metadata": {},
     "output_type": "execute_result"
    }
   ],
   "source": [
    "best_model = grid.fit(X_train, y_train)\n",
    "# get the model with highest accuracy from grid search\n",
    "p_accu = best_model.cv_results_['params'][ np.argmin(best_model.cv_results_['rank_test_accuracy']) ]\n",
    "p_accu"
   ]
  },
  {
   "cell_type": "code",
   "execution_count": 95,
   "metadata": {
    "colab": {
     "base_uri": "https://localhost:8080/",
     "height": 161
    },
    "id": "NDHshYzzpyOD",
    "outputId": "d684dd19-b9d5-47bc-dc2b-f49ca01ed93b"
   },
   "outputs": [
    {
     "data": {
      "text/plain": [
       "Pipeline(steps=[('scaler', StandardScaler()), ('selector', VarianceThreshold()),\n",
       "                ('classifier', KNeighborsClassifier(n_neighbors=70))])"
      ]
     },
     "execution_count": 95,
     "metadata": {},
     "output_type": "execute_result"
    }
   ],
   "source": [
    "pipe.set_params(**p_accu)"
   ]
  },
  {
   "cell_type": "code",
   "execution_count": 96,
   "metadata": {
    "colab": {
     "base_uri": "https://localhost:8080/",
     "height": 716
    },
    "id": "5s79b8iqp0eU",
    "outputId": "5ff3106d-256b-4f6a-95e9-6501564198a0"
   },
   "outputs": [
    {
     "name": "stdout",
     "output_type": "stream",
     "text": [
      "The accuracy score for the optimized model is 0.661024702653248\n"
     ]
    },
    {
     "data": {
      "image/png": "[encoded data removed]",
      "text/plain": [
       "<Figure size 540x540 with 1 Axes>"
      ]
     },
     "metadata": {
      "needs_background": "light"
     },
     "output_type": "display_data"
    }
   ],
   "source": [
    "# train on the entire training set with the model with highest accuracy from grid search\n",
    "clf = pipe.fit(X_train, y_train)\n",
    "y_pred = clf.predict(X_test)\n",
    "score2 = clf.score(X_test, y_test)\n",
    "print(\"The accuracy score for the optimized model is\", score2)\n",
    "cm5 = metrics.confusion_matrix(y_test, y_pred)\n",
    "\n",
    "fig, ax = plt.subplots(figsize=(7.5, 7.5))\n",
    "ax.matshow(cm5, cmap=plt.cm.Blues, alpha=0.3)\n",
    "for i in range(cm5.shape[0]):\n",
    "    for j in range(cm5.shape[1]):\n",
    "        ax.text(x=j, y=i,s=cm5[i, j], va='center', ha='center', size='xx-large')\n",
    "\n",
    "plt.xlabel('Predictions', fontsize=18)\n",
    "plt.ylabel('Actuals', fontsize=18)\n",
    "plt.title('Confusion Matrix', fontsize=18)\n",
    "plt.show()\n",
    "fpr = roc_curve(y_test, clf.predict_proba(X_test)[:,1], pos_label=True)[0] # false positiv \n",
    "tpr = roc_curve(y_test, clf.predict_proba(X_test)[:,1], pos_label=True)[1] # true positive \n",
    "roc_auc2 = roc_auc_score(y_test, clf.predict_proba(X_test)[:,1])"
   ]
  },
  {
   "cell_type": "markdown",
   "metadata": {
    "id": "QHqOQOHoqKmM"
   },
   "source": [
    "KNN seems to be somewhat good at classifying; however, we see that the model is making quite a lot of false positive predicitons."
   ]
  },
  {
   "cell_type": "markdown",
   "metadata": {
    "id": "ZddxCvoqqWbL"
   },
   "source": [
    "Now we use a random forest classifier to see if can be more accurate than the KNN and make less false positives."
   ]
  },
  {
   "cell_type": "markdown",
   "metadata": {
    "id": "fdnFmsht2OoR"
   },
   "source": [
    "### Random Forest Classifier"
   ]
  },
  {
   "cell_type": "code",
   "execution_count": 97,
   "metadata": {
    "id": "Ejg1i44xr9RU"
   },
   "outputs": [],
   "source": [
    "from sklearn.ensemble import RandomForestClassifier\n"
   ]
  },
  {
   "cell_type": "code",
   "execution_count": 98,
   "metadata": {
    "colab": {
     "base_uri": "https://localhost:8080/",
     "height": 716
    },
    "id": "QAnrCA8Fr99J",
    "outputId": "46b845e3-cf89-4c58-d8a1-157b00e51e88"
   },
   "outputs": [
    {
     "name": "stdout",
     "output_type": "stream",
     "text": [
      "The accuracy score for the optimized model is 0.682067703568161\n"
     ]
    },
    {
     "data": {
      "image/png": "[encoded data removed]",
      "text/plain": [
       "<Figure size 540x540 with 1 Axes>"
      ]
     },
     "metadata": {
      "needs_background": "light"
     },
     "output_type": "display_data"
    }
   ],
   "source": [
    "rf = RandomForestClassifier(n_estimators=100, random_state=42)\n",
    "clf = rf.fit(X_train, y_train)\n",
    "y_pred = clf.predict(X_test)\n",
    "score2 = clf.score(X_test, y_test)\n",
    "print(\"The accuracy score for the optimized model is\", score2)\n",
    "cm5 = metrics.confusion_matrix(y_test, y_pred)\n",
    "\n",
    "fig, ax = plt.subplots(figsize=(7.5, 7.5))\n",
    "ax.matshow(cm5, cmap=plt.cm.Blues, alpha=0.3)\n",
    "for i in range(cm5.shape[0]):\n",
    "    for j in range(cm5.shape[1]):\n",
    "        ax.text(x=j, y=i,s=cm5[i, j], va='center', ha='center', size='xx-large')\n",
    "\n",
    "plt.xlabel('Predictions', fontsize=18)\n",
    "plt.ylabel('Actuals', fontsize=18)\n",
    "plt.title('Confusion Matrix', fontsize=18)\n",
    "plt.show()\n",
    "fpr = roc_curve(y_test, clf.predict_proba(X_test)[:,1], pos_label=True)[0] # false positiv \n",
    "tpr = roc_curve(y_test, clf.predict_proba(X_test)[:,1], pos_label=True)[1] # true positive \n",
    "roc_auc2 = roc_auc_score(y_test, clf.predict_proba(X_test)[:,1])"
   ]
  },
  {
   "cell_type": "markdown",
   "metadata": {
    "id": "whT06pfHsy8P"
   },
   "source": [
    "It appears that the random forest has increased accuracy and decreased the false positive rate, but also increased false negatives."
   ]
  },
  {
   "cell_type": "markdown",
   "metadata": {
    "id": "Q1EQXPu-usMc"
   },
   "source": [
    "### Gridsearch for Random Forest Classifier"
   ]
  },
  {
   "cell_type": "code",
   "execution_count": 99,
   "metadata": {
    "id": "T5H7GsiBuvxx"
   },
   "outputs": [],
   "source": [
    "# param_grid = {\n",
    "#     'n_estimators': [100, 200, 300],\n",
    "#     'max_depth': [None, 5, 10],\n",
    "#     'min_samples_split': [2, 4, 6],\n",
    "#     'min_samples_leaf': [1, 2, 3]\n",
    "# }\n",
    "\n",
    "# # Create a random forest classifier\n",
    "# rf = RandomForestClassifier(random_state=42)\n",
    "\n",
    "# # Perform grid search\n",
    "# grid_search = GridSearchCV(estimator=rf, param_grid=param_grid, cv=5, scoring='accuracy', verbose=10)\n",
    "# grid_search.fit(X_train, y_train)"
   ]
  },
  {
   "cell_type": "code",
   "execution_count": 100,
   "metadata": {
    "id": "24X9L_mku_OH"
   },
   "outputs": [],
   "source": [
    "# Get the best parameters and best score\n",
    "# best_params = grid_search.best_params_\n",
    "# best_score = grid_search.best_score_\n",
    "\n",
    "# print(\"Best Parameters:\", best_params)\n",
    "# print(\"Best Score:\", best_score)\n"
   ]
  },
  {
   "cell_type": "markdown",
   "metadata": {
    "id": "PnTLxaF51JwF"
   },
   "source": [
    "Best Parameters: {'max_depth': None, 'min_samples_leaf': 2, 'min_samples_split': 6, 'n_estimators': 200}\n",
    "\n",
    "Best Score: 0.6890196078431373"
   ]
  },
  {
   "cell_type": "code",
   "execution_count": 101,
   "metadata": {
    "colab": {
     "base_uri": "https://localhost:8080/",
     "height": 716
    },
    "id": "Vox7sacp1G17",
    "outputId": "f659619d-c05e-45cf-cc2f-9dc2a48aca3d"
   },
   "outputs": [
    {
     "name": "stdout",
     "output_type": "stream",
     "text": [
      "The accuracy score for the optimized model is 0.6838975297346752\n"
     ]
    },
    {
     "data": {
      "image/png": "[encoded data removed]",
      "text/plain": [
       "<Figure size 540x540 with 1 Axes>"
      ]
     },
     "metadata": {
      "needs_background": "light"
     },
     "output_type": "display_data"
    }
   ],
   "source": [
    "rf = RandomForestClassifier(max_depth = None, min_samples_leaf = 2, min_samples_split = 6, n_estimators = 200, random_state=42)\n",
    "clf = rf.fit(X_train, y_train)\n",
    "y_pred = clf.predict(X_test)\n",
    "score2 = clf.score(X_test, y_test)\n",
    "print(\"The accuracy score for the optimized model is\", score2)\n",
    "cm5 = metrics.confusion_matrix(y_test, y_pred)\n",
    "\n",
    "fig, ax = plt.subplots(figsize=(7.5, 7.5))\n",
    "ax.matshow(cm5, cmap=plt.cm.Blues, alpha=0.3)\n",
    "for i in range(cm5.shape[0]):\n",
    "    for j in range(cm5.shape[1]):\n",
    "        ax.text(x=j, y=i,s=cm5[i, j], va='center', ha='center', size='xx-large')\n",
    "\n",
    "plt.xlabel('Predictions', fontsize=18)\n",
    "plt.ylabel('Actuals', fontsize=18)\n",
    "plt.title('Confusion Matrix', fontsize=18)\n",
    "plt.show()"
   ]
  },
  {
   "cell_type": "markdown",
   "metadata": {
    "id": "7D_8ZaxM1zS5"
   },
   "source": [
    "## Random Forest Top 100 Feature Selection for Adaboost Classifier"
   ]
  },
  {
   "cell_type": "code",
   "execution_count": 102,
   "metadata": {
    "id": "VTpo6te215Ed"
   },
   "outputs": [],
   "source": [
    "from sklearn.feature_selection import RFE\n",
    "\n",
    "estimator = RandomForestClassifier(n_estimators=100)\n",
    "selector = RFE(estimator, n_features_to_select=100)\n",
    "X_new = selector.fit_transform(X, y)"
   ]
  },
  {
   "cell_type": "code",
   "execution_count": 103,
   "metadata": {
    "colab": {
     "base_uri": "https://localhost:8080/"
    },
    "id": "03twfPUi6eHx",
    "outputId": "faba7b94-37bc-4c7e-e1f2-e743ce14ba08"
   },
   "outputs": [
    {
     "data": {
      "text/plain": [
       "array([[ 76.3  , 213.   ,   4.75 , ...,   0.   ,   0.   ,   0.   ],\n",
       "       [ 75.   , 212.   ,   4.95 , ...,   0.   ,   0.   ,   0.   ],\n",
       "       [ 73.4  , 190.   ,   4.74 , ...,   0.   ,   0.   ,   0.   ],\n",
       "       ...,\n",
       "       [ 73.   , 190.   ,   4.888, ...,   0.   ,   1.   ,   0.   ],\n",
       "       [ 73.   , 197.   ,   4.888, ...,   0.   ,   1.   ,   0.   ],\n",
       "       [ 72.75 , 193.   ,   4.888, ...,   0.   ,   1.   ,   0.   ]])"
      ]
     },
     "execution_count": 103,
     "metadata": {},
     "output_type": "execute_result"
    }
   ],
   "source": [
    "X_new"
   ]
  },
  {
   "cell_type": "code",
   "execution_count": 104,
   "metadata": {
    "colab": {
     "base_uri": "https://localhost:8080/"
    },
    "id": "9Zfjb9pC6mxd",
    "outputId": "783da6c0-1c87-4c5a-be75-a94343825ff5"
   },
   "outputs": [
    {
     "name": "stdout",
     "output_type": "stream",
     "text": [
      "Selected Feature Names: ['Height (in)', 'Weight (lbs)', '40 Yard', 'Bench Press', 'Vert Leap (in)', 'Broad Jump (in)', 'Shuttle', '3Cone', 'Age', 'Pick', 'College_Alabama', 'College_Arizona', 'College_Arizona St.', 'College_Arkansas', 'College_Auburn', 'College_California', 'College_Cincinnati', 'College_Clemson', 'College_Colorado', 'College_Florida', 'College_Florida St.', 'College_Georgia', 'College_Georgia Tech', 'College_Illinois', 'College_Indiana', 'College_Iowa', 'College_Kansas', 'College_Kentucky', 'College_LSU', 'College_Louisville', 'College_Maryland', 'College_Miami (FL)', 'College_Michigan', 'College_Michigan St.', 'College_Minnesota', 'College_Mississippi', 'College_Mississippi St.', 'College_Missouri', 'College_Nebraska', 'College_North Carolina', 'College_North Carolina St.', 'College_Notre Dame', 'College_Ohio St.', 'College_Oklahoma', 'College_Oklahoma St.', 'College_Oregon', 'College_Penn St.', 'College_Pittsburgh', 'College_South Carolina', 'College_Stanford', 'College_Syracuse', 'College_TCU', 'College_Tennessee', 'College_Texas', 'College_Texas A&M', 'College_Texas Tech', 'College_UCLA', 'College_USC', 'College_Utah', 'College_Vanderbilt', 'College_Virginia', 'College_Virginia Tech', 'College_Wake Forest', 'College_Washington', 'College_West Virginia', 'College_Wisconsin', 'Team_ARI', 'Team_ATL', 'Team_BAL', 'Team_BUF', 'Team_CAR', 'Team_CHI', 'Team_CIN', 'Team_CLE', 'Team_DAL', 'Team_DEN', 'Team_DET', 'Team_GNB', 'Team_HOU', 'Team_IND', 'Team_JAX', 'Team_KAN', 'Team_MIA', 'Team_MIN', 'Team_NOR', 'Team_NWE', 'Team_NYG', 'Team_NYJ', 'Team_OAK', 'Team_PHI', 'Team_PIT', 'Team_RAM', 'Team_SDG', 'Team_SEA', 'Team_SFO', 'Team_STL', 'Team_TAM', 'Team_TEN', 'Team_Undrafted', 'Team_WAS']\n",
      "Selected Feature Indices: [0, 1, 2, 3, 4, 5, 6, 7, 8, 9, 15, 28, 29, 32, 38, 69, 83, 86, 89, 122, 126, 138, 142, 164, 166, 169, 179, 184, 187, 207, 214, 221, 223, 224, 231, 234, 236, 238, 259, 277, 281, 297, 299, 302, 303, 307, 313, 317, 351, 374, 378, 379, 382, 387, 388, 395, 413, 415, 418, 424, 426, 428, 430, 433, 443, 456, 465, 466, 467, 468, 469, 470, 471, 472, 473, 474, 475, 476, 477, 478, 479, 480, 484, 485, 486, 487, 488, 489, 490, 491, 493, 495, 496, 497, 498, 499, 500, 501, 502, 503]\n"
     ]
    }
   ],
   "source": [
    "selected_feature_indices = selector.support_\n",
    "\n",
    "# Get the names or column indices of the selected features\n",
    "selected_feature_names = [name for name, selected in zip(X.columns, selected_feature_indices) if selected]\n",
    "selected_feature_indices = [idx for idx, selected in enumerate(selected_feature_indices) if selected]\n",
    "\n",
    "print(\"Selected Feature Names:\", selected_feature_names)\n",
    "print(\"Selected Feature Indices:\", selected_feature_indices)"
   ]
  },
  {
   "cell_type": "code",
   "execution_count": 105,
   "metadata": {
    "id": "-G9dkAeihcgG"
   },
   "outputs": [],
   "source": [
    "X_new = pd.DataFrame(X_new, columns = selected_feature_names)"
   ]
  },
  {
   "cell_type": "code",
   "execution_count": 106,
   "metadata": {
    "id": "KbXaDq0oiBuU"
   },
   "outputs": [],
   "source": [
    "#Resplitting the data\n",
    "X_train, X_test, y_train, y_test = train_test_split(X_new, y, test_size=0.3, random_state=42)"
   ]
  },
  {
   "cell_type": "code",
   "execution_count": 107,
   "metadata": {
    "id": "uY5vMmrViRTq"
   },
   "outputs": [],
   "source": [
    "from sklearn.ensemble import AdaBoostClassifier"
   ]
  },
  {
   "cell_type": "code",
   "execution_count": 113,
   "metadata": {
    "colab": {
     "base_uri": "https://localhost:8080/",
     "height": 716
    },
    "id": "feQBTH-fiSxx",
    "outputId": "d445675a-8092-48c7-c4bb-eba603b78cd8"
   },
   "outputs": [
    {
     "name": "stdout",
     "output_type": "stream",
     "text": [
      "The accuracy score for the optimized model is 0.6875571820677036\n"
     ]
    },
    {
     "data": {
      "image/png": "[encoded data removed]",
      "text/plain": [
       "<Figure size 540x540 with 1 Axes>"
      ]
     },
     "metadata": {
      "needs_background": "light"
     },
     "output_type": "display_data"
    }
   ],
   "source": [
    "ensemble = AdaBoostClassifier(base_estimator = rf)\n",
    "clf = ensemble.fit(X_train, y_train)\n",
    "y_pred = clf.predict(X_test)\n",
    "score2 = clf.score(X_test, y_test)\n",
    "print(\"The accuracy score for the optimized model is\", score2)\n",
    "cm5 = metrics.confusion_matrix(y_test, y_pred)\n",
    "\n",
    "fig, ax = plt.subplots(figsize=(7.5, 7.5))\n",
    "ax.matshow(cm5, cmap=plt.cm.Blues, alpha=0.3)\n",
    "for i in range(cm5.shape[0]):\n",
    "    for j in range(cm5.shape[1]):\n",
    "        ax.text(x=j, y=i,s=cm5[i, j], va='center', ha='center', size='xx-large')\n",
    "\n",
    "plt.xlabel('Predictions', fontsize=18)\n",
    "plt.ylabel('Actuals', fontsize=18)\n",
    "plt.title('Confusion Matrix', fontsize=18)\n",
    "plt.show()"
   ]
  },
  {
   "cell_type": "markdown",
   "metadata": {
    "id": "9O4p65jQkIgB"
   },
   "source": [
    "#### Gridsearch"
   ]
  },
  {
   "cell_type": "code",
   "execution_count": 122,
   "metadata": {
    "id": "enWA2hO8kKUS"
   },
   "outputs": [],
   "source": [
    "# param_grid = {\n",
    "#     'n_estimators': [50, 100, 150],\n",
    "#     'learning_rate': [0.1, 0.5, 1.0]\n",
    "# }\n",
    "\n",
    "# # Perform grid search using cross-validation\n",
    "# grid_search = GridSearchCV(ensemble, param_grid, cv=5, verbose = 10)\n",
    "# grid_search.fit(X_train, y_train)\n",
    "\n",
    "# # Get the best parameters and best score from grid search\n",
    "# best_params = grid_search.best_params_\n",
    "# best_score = grid_search.best_score_\n",
    "# print(\"Best Parameters:\", best_params)\n",
    "# print(\"Best Score:\", best_score)"
   ]
  },
  {
   "cell_type": "code",
   "execution_count": 140,
   "metadata": {
    "colab": {
     "base_uri": "https://localhost:8080/",
     "height": 716
    },
    "id": "TIRS4G8Bptuv",
    "outputId": "04d52ce3-d211-4d3a-d341-e0154edd4c21"
   },
   "outputs": [
    {
     "name": "stdout",
     "output_type": "stream",
     "text": [
      "The accuracy score for the optimized model is 0.6893870082342177\n"
     ]
    },
    {
     "data": {
      "image/png": "[encoded data removed]",
      "text/plain": [
       "<Figure size 540x540 with 1 Axes>"
      ]
     },
     "metadata": {
      "needs_background": "light"
     },
     "output_type": "display_data"
    }
   ],
   "source": [
    "ensemble = AdaBoostClassifier(base_estimator = rf, learning_rate = 0.5, n_estimators = 100)\n",
    "clf = ensemble.fit(X_train, y_train)\n",
    "y_pred = clf.predict(X_test)\n",
    "score2 = clf.score(X_test, y_test)\n",
    "print(\"The accuracy score for the optimized model is\", score2)\n",
    "cm5 = metrics.confusion_matrix(y_test, y_pred)\n",
    "\n",
    "fig, ax = plt.subplots(figsize=(7.5, 7.5))\n",
    "ax.matshow(cm5, cmap=plt.cm.Blues, alpha=0.3)\n",
    "for i in range(cm5.shape[0]):\n",
    "    for j in range(cm5.shape[1]):\n",
    "        ax.text(x=j, y=i,s=cm5[i, j], va='center', ha='center', size='xx-large')\n",
    "\n",
    "plt.xlabel('Predictions', fontsize=18)\n",
    "plt.ylabel('Actuals', fontsize=18)\n",
    "plt.title('Confusion Matrix', fontsize=18)\n",
    "plt.show()"
   ]
  },
  {
   "cell_type": "markdown",
   "metadata": {
    "id": "sZP6LQzqt-8y"
   },
   "source": [
    "### Feature Importance"
   ]
  },
  {
   "cell_type": "code",
   "execution_count": 118,
   "metadata": {
    "id": "75OyWM6ttR69"
   },
   "outputs": [],
   "source": [
    "importances = ensemble.feature_importances_\n",
    "indices = np.argsort(importances)[::-1]\n",
    "feature_names = X_new.columns"
   ]
  },
  {
   "cell_type": "code",
   "execution_count": 119,
   "metadata": {
    "colab": {
     "base_uri": "https://localhost:8080/"
    },
    "id": "FF_w76ditiPU",
    "outputId": "b9b05d4a-54b1-4f47-9ece-d95c78417248"
   },
   "outputs": [
    {
     "name": "stdout",
     "output_type": "stream",
     "text": [
      "Feature: Pick, Importance: 0.1289776008836047\n",
      "Feature: Shuttle, Importance: 0.08515614964244281\n",
      "Feature: 3Cone, Importance: 0.08390139367230007\n",
      "Feature: Height (in), Importance: 0.0820624817263053\n",
      "Feature: 40 Yard, Importance: 0.0796508683056647\n",
      "Feature: Weight (lbs), Importance: 0.07919271825366833\n",
      "Feature: Bench Press, Importance: 0.07049197223500175\n",
      "Feature: Broad Jump (in), Importance: 0.06958172997895956\n",
      "Feature: Vert Leap (in), Importance: 0.06865105329582648\n",
      "Feature: Age, Importance: 0.039054937135849004\n"
     ]
    }
   ],
   "source": [
    "for idx in indices[0:10]:\n",
    "    print(f\"Feature: {feature_names[idx]}, Importance: {importances[idx]}\")"
   ]
  },
  {
   "cell_type": "markdown",
   "metadata": {
    "id": "q6id-3WJuCB-"
   },
   "source": [
    "# Conclusion & Discussion"
   ]
  },
  {
   "cell_type": "markdown",
   "metadata": {
    "id": "0m4xr6L5weZQ"
   },
   "source": [
    "In this project, the initial goal was to develop a predictive model that accurately forecasts a player's career length based on their draft combine data and other factors such as pick number, height, weight, etc.\n",
    "\n",
    "However, after building and testing several models, we came to the realization that achieving this task is exceedingly challenging. While some models, such as the Random Forest Regressor and XGB Regressor, demonstrated promising training accuracies, they performed poorly when presented with a test set, indicating that both models overfitted to the training data. The predicted versus real data chart indicated that the models were essentially guessing, as evidenced by the lack of meaningful patterns in the chart.\n",
    "\n",
    "Consequently, we made the decision to shift the focus and develop a classifier model instead. This model would categorize players into two groups: those with a career length greater than 4 years, which we arbitrarily defined as a \"successful\" career, and those with a career length less than or equal to 4 years. This decision was based on the average career length of all players, which was determined to be 3.3 years.\n",
    "\n",
    "The best classifier model emerged from a grid search that fine-tuned the Adaboost Classifier using a random forest classifier as the base estimator. This model achieved an accuracy of 68.9% in classifying whether a player would have a career length greater than 3.3 years. Interestingly, we found that the most influential feature for determining a player's career length was their pick number.\n",
    "\n",
    "To summarize, although this research did not yield a highly accurate regressor or classifier (over 90% accuracy), we were able to draw some significant conclusions. The exploratory data analysis (EDA) process led us to conclude that there is generally no clear correlation between draft combine performance and career length. This conclusion was reinforced by the observation that none of the combine data variables showed a strong correlation with years of experience.\n",
    "\n",
    "Additionally, the analysis revealed that players selected in the 1st and 2nd rounds tend to have longer careers compared to those selected in the 3rd to 5th rounds, who, in turn, have longer careers than players selected in the 6th and 7th rounds or those who went undrafted. This finding was supported by the t-tests conducted.\n",
    "\n",
    "For future studies, we recommend incorporating college data, such as passing yards, tackles, offensive plus-minus (±), which this study unforunately was unable to incorporate due to the complexities and challenges associated with accessing and integrating each players' college data to the current data we possess. By including these additional variables, we hope to further develop a more robust regressor and classifier model.\n",
    "\n",
    "In conclusion, while this research faced challenges, the insights gained from this analysis contribute to the understanding of the complex factors influencing a player's career length in the context of the draft combine."
   ]
  }
 ],
 "metadata": {
  "colab": {
   "provenance": []
  },
  "kernelspec": {
   "display_name": "Python 3 (ipykernel)",
   "language": "python",
   "name": "python3"
  },
  "language_info": {
   "codemirror_mode": {
    "name": "ipython",
    "version": 3
   },
   "file_extension": ".py",
   "mimetype": "text/x-python",
   "name": "python",
   "nbconvert_exporter": "python",
   "pygments_lexer": "ipython3",
   "version": "3.11.4"
  }
 },
 "nbformat": 4,
 "nbformat_minor": 1
}
